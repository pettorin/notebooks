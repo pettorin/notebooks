{
 "cells": [
  {
   "cell_type": "markdown",
   "metadata": {},
   "source": [
    "# Native Python\n",
    "\n",
    "---\n",
    "\n",
    "> Author: <font color='#f78c40'>Samuel Farrens</font>    \n",
    "> Year: 2017  \n",
    "> Email: [samuel.farrens@gmail.com](mailto:samuel.farrens@gmail.com)  \n",
    "> Website: <a href=\"https://sfarrens.github.io\" target=\"_blank\">https://sfarrens.github.io</a>\n",
    "\n",
    "---\n",
    "\n",
    "In the context of Python the term \"native\" refers to the core commands, operators and functions that come with a default installation. The following subsections will cover some of the most essential elements provided in native Python.\n",
    "\n",
    "## Contents\n",
    "\n",
    "1. [Comments](#Comments)\n",
    "1. [Operators](#Operators)\n",
    " * [Mathematical Operators](#Mathematical-Operators)\n",
    " * [Logic Operators](#Logic-Operators)\n",
    " * [Scientific Notation](#Scientific-Notation)\n",
    "1. [Built in Functions](#Built-in-Functions)\n",
    " * [Print](#Print)\n",
    " * [Variables](#Variables)\n",
    " * [Integers and Floats](#Integers-and-Floats)\n",
    " * [Strings](#Strings)\n",
    " * [Type](#Type)\n",
    " * [Boolean](#Boolean)\n",
    " * [Absolute Value](#Absolute-Value)\n",
    "1. [Arrays](#Arrays)\n",
    " * [Lists](#Lists)\n",
    " * [List Operations](#List-Operations)\n",
    " * [Tuples](#Tuples)\n",
    " * [Dictionaries](#Dictionaries)\n",
    "1. [Loops](#Loops)\n",
    " * [List Comprehension](#List-Comprehension)\n",
    "1. [Functions](#Functions)\n",
    "1. [Classes](#Classes)\n",
    "1. [Exercises](#Exercises)\n",
    " * [Execise 1](#Exercise-1)\n",
    " * [Execise 2](#Exercise-2)\n",
    " * [Execise 3](#Exercise-3)\n",
    " \n",
    "---\n",
    "\n",
    "## Comments\n",
    "\n",
    "Reading and understand coding languages can be challenging especially for when reading code written by someone else. One of the most important habits one should try to establish early on (and this goes for any language) is adding clear and detailed comments throughout the code. Python is no exception! This practive will improve the readability and faciliate the understanding of the code.   \n",
    "\n",
    "Commenting in Python is very easy. Every comment line simply needs to begin with a hash (**`#`**)."
   ]
  },
  {
   "cell_type": "code",
   "execution_count": 1,
   "metadata": {
    "collapsed": true
   },
   "outputs": [],
   "source": [
    "# This is an example of a comment."
   ]
  },
  {
   "cell_type": "markdown",
   "metadata": {},
   "source": [
    "Alternatively comments can be placed between single or double quotes."
   ]
  },
  {
   "cell_type": "code",
   "execution_count": 2,
   "metadata": {
    "collapsed": false
   },
   "outputs": [
    {
     "data": {
      "text/plain": [
       "' This is also a comment. '"
      ]
     },
     "execution_count": 2,
     "metadata": {},
     "output_type": "execute_result"
    }
   ],
   "source": [
    "''' This is another comment. '''\n",
    "\"\"\" This is also a comment. \"\"\""
   ]
  },
  {
   "cell_type": "markdown",
   "metadata": {},
   "source": [
    "This latter approach is often implemented for documenting files (modules), functions (methods) and classes, but this will be discussed later."
   ]
  },
  {
   "cell_type": "markdown",
   "metadata": {},
   "source": [
    "---\n",
    "\n",
    "## Operators\n",
    "\n",
    "Native python supports various [mathematic operators](https://docs.python.org/2/reference/lexical_analysis.html#operators) (*e.g.* addition, subtraction, multiplication, division, *etc.*) and [logic operators](https://docs.python.org/2/library/stdtypes.html?highlight=boolean) (*e.g.* and, or, not, *etc.*).\n",
    "\n",
    "These operators do not require any declaration of variables. In fact, one can easily treat a given Python session like a sophisticated calculator.\n",
    "\n",
    "### Mathematical Operators\n",
    "\n",
    "The following table lists the basic mathematical operations in Python. These are the operations that most people will be familiar with and one simply needs to learn the appropriate symbols to perform these operations in Python.\n",
    "\n",
    "| Operation                  | Mathematical Operator | Python Operator |\n",
    "|:--------------------------:|:---------------------:|:---------------:|\n",
    "| Addition                   | $+$                   | +               |\n",
    "| Subtraction                | $-$                   | -               |\n",
    "| Multiplication             | $\\times$              | *               |\n",
    "| Division                   | $\\div$                | /               |\n",
    "| Exponentiation             | $x^n$                 | **              |\n",
    "| Equality                   | $=$                   | ==              |\n",
    "| Inequality                 | $\\neq$                | !=              |\n",
    "| Greater Than               | $>$                   | >               |\n",
    "| Less Than                  | $<$                   | <               |\n",
    "| Greater Than or Equal to   | $\\geq$                | >=              |\n",
    "| Less Than or Equal to      | $\\leq$                | <=              |\n",
    "\n",
    "Here are a few examples:\n",
    "\n",
    "$$1+1=2$$"
   ]
  },
  {
   "cell_type": "code",
   "execution_count": 3,
   "metadata": {
    "collapsed": false
   },
   "outputs": [
    {
     "data": {
      "text/plain": [
       "2"
      ]
     },
     "execution_count": 3,
     "metadata": {},
     "output_type": "execute_result"
    }
   ],
   "source": [
    "1 + 1"
   ]
  },
  {
   "cell_type": "markdown",
   "metadata": {},
   "source": [
    "$$12\\div4=3$$"
   ]
  },
  {
   "cell_type": "code",
   "execution_count": 4,
   "metadata": {
    "collapsed": false
   },
   "outputs": [
    {
     "data": {
      "text/plain": [
       "3"
      ]
     },
     "execution_count": 4,
     "metadata": {},
     "output_type": "execute_result"
    }
   ],
   "source": [
    "12 / 4"
   ]
  },
  {
   "cell_type": "markdown",
   "metadata": {},
   "source": [
    "$$3^2=9$$"
   ]
  },
  {
   "cell_type": "code",
   "execution_count": 5,
   "metadata": {
    "collapsed": false
   },
   "outputs": [
    {
     "data": {
      "text/plain": [
       "9"
      ]
     },
     "execution_count": 5,
     "metadata": {},
     "output_type": "execute_result"
    }
   ],
   "source": [
    "3 ** 2"
   ]
  },
  {
   "cell_type": "markdown",
   "metadata": {},
   "source": [
    "$$2<3$$"
   ]
  },
  {
   "cell_type": "code",
   "execution_count": 6,
   "metadata": {
    "collapsed": false
   },
   "outputs": [
    {
     "data": {
      "text/plain": [
       "True"
      ]
     },
     "execution_count": 6,
     "metadata": {},
     "output_type": "execute_result"
    }
   ],
   "source": [
    "2 < 3"
   ]
  },
  {
   "cell_type": "markdown",
   "metadata": {},
   "source": [
    "In addition to these standard operations, native Python includes some standard computational operations which are shown in the following table. These operations will be familiar to those with prior knowledge of virtually any programming language.\n",
    "\n",
    "| Operation                  | Python Operator |\n",
    "|:--------------------------:|:---------------:|\n",
    "| Modulo                     | %               |\n",
    "| Floor Division             | //              |\n",
    "\n",
    "The modulo operator returns the remainder of the division of one number by another. For example, in the following operation:\n",
    "\n",
    "$$5 \\div 2 = 2.5 = 2 \\text{ remainder } 1$$\n",
    "\n",
    "the remainder of the division of 5 by 2 is 1. So, in Python the modulo operator will return 1.\n"
   ]
  },
  {
   "cell_type": "code",
   "execution_count": 7,
   "metadata": {
    "collapsed": false
   },
   "outputs": [
    {
     "data": {
      "text/plain": [
       "1"
      ]
     },
     "execution_count": 7,
     "metadata": {},
     "output_type": "execute_result"
    }
   ],
   "source": [
    "5 % 2"
   ]
  },
  {
   "cell_type": "markdown",
   "metadata": {},
   "source": [
    "The floor division operator, on the other hand, returns the result of the division without the remainder. In other words only the values before the decimal place are returned. So, for the previous example, the floor division operator will return 2."
   ]
  },
  {
   "cell_type": "code",
   "execution_count": 8,
   "metadata": {
    "collapsed": false
   },
   "outputs": [
    {
     "data": {
      "text/plain": [
       "2"
      ]
     },
     "execution_count": 8,
     "metadata": {},
     "output_type": "execute_result"
    }
   ],
   "source": [
    "5 // 2"
   ]
  },
  {
   "cell_type": "markdown",
   "metadata": {},
   "source": [
    "### Logic Operators\n",
    "\n",
    "In Python logic or boolean operators return values that are either *True* or *False*. The following tables lists the logic operators available in native Python.\n",
    "\n",
    "| Python Operator |\n",
    "|:---------------:|\n",
    "| and             |\n",
    "| or              |\n",
    "| not             |\n",
    "\n",
    "The **`and`** operator tests whether or not both statements are true."
   ]
  },
  {
   "cell_type": "code",
   "execution_count": 9,
   "metadata": {
    "collapsed": false
   },
   "outputs": [
    {
     "data": {
      "text/plain": [
       "False"
      ]
     },
     "execution_count": 9,
     "metadata": {},
     "output_type": "execute_result"
    }
   ],
   "source": [
    "True and False"
   ]
  },
  {
   "cell_type": "markdown",
   "metadata": {},
   "source": [
    "The **`or`** operator tests whether or not one of the statements is true."
   ]
  },
  {
   "cell_type": "code",
   "execution_count": 10,
   "metadata": {
    "collapsed": false
   },
   "outputs": [
    {
     "data": {
      "text/plain": [
       "True"
      ]
     },
     "execution_count": 10,
     "metadata": {},
     "output_type": "execute_result"
    }
   ],
   "source": [
    "True or False"
   ]
  },
  {
   "cell_type": "markdown",
   "metadata": {},
   "source": [
    "The **`not`** operator reverse the statement it preceedes."
   ]
  },
  {
   "cell_type": "code",
   "execution_count": 11,
   "metadata": {
    "collapsed": false
   },
   "outputs": [
    {
     "data": {
      "text/plain": [
       "True"
      ]
     },
     "execution_count": 11,
     "metadata": {},
     "output_type": "execute_result"
    }
   ],
   "source": [
    "True and not False"
   ]
  },
  {
   "cell_type": "markdown",
   "metadata": {},
   "source": [
    "### Scientific Notation\n",
    "\n",
    "Larger numbers can be inputted using scientific notation with the letter **`e`** followed by the power (n) which represents $10^n$. For example, for $n=5$:\n",
    "\n",
    "$$200000 = 2 \\times 10^5$$"
   ]
  },
  {
   "cell_type": "code",
   "execution_count": 12,
   "metadata": {
    "collapsed": false
   },
   "outputs": [
    {
     "data": {
      "text/plain": [
       "200000.0"
      ]
     },
     "execution_count": 12,
     "metadata": {},
     "output_type": "execute_result"
    }
   ],
   "source": [
    "2e5 "
   ]
  },
  {
   "cell_type": "markdown",
   "metadata": {},
   "source": [
    "---\n",
    "\n",
    "## Built-in Functions\n",
    "\n",
    "A default Python installation includes some standard [built-in functions](https://docs.python.org/2/library/functions.html). \n",
    "\n",
    "The following subsections will cover some of the most essential native Python functions.\n",
    "\n",
    "### Print\n",
    "\n",
    "The first lesson with any programming language is learing how to print output to the terminal. In python this is done with the **`print`** command. Text (strings of characters) are represented either by single ('') or double quotes (\"\") for displaying text. For example one can display the standard \"Hello world!\" output as follows:"
   ]
  },
  {
   "cell_type": "code",
   "execution_count": 13,
   "metadata": {
    "collapsed": false
   },
   "outputs": [
    {
     "name": "stdout",
     "output_type": "stream",
     "text": [
      "Hello world!\n"
     ]
    }
   ],
   "source": [
    "print 'Hello world!'"
   ]
  },
  {
   "cell_type": "code",
   "execution_count": 14,
   "metadata": {
    "collapsed": false
   },
   "outputs": [
    {
     "name": "stdout",
     "output_type": "stream",
     "text": [
      "Hello world again!\n"
     ]
    }
   ],
   "source": [
    "print \"Hello world again!\""
   ]
  },
  {
   "cell_type": "markdown",
   "metadata": {},
   "source": [
    "Single and double quotes can be combined to display the inner set of quotes in the text."
   ]
  },
  {
   "cell_type": "code",
   "execution_count": 15,
   "metadata": {
    "collapsed": false
   },
   "outputs": [
    {
     "name": "stdout",
     "output_type": "stream",
     "text": [
      "\"What is hell? I maintain that it is the suffering of being unable to love.\" ― Fyodor Dostoyevsky\n"
     ]
    }
   ],
   "source": [
    "print '\"What is hell? I maintain that it is the suffering of being unable to love.\" ― Fyodor Dostoyevsky'"
   ]
  },
  {
   "cell_type": "markdown",
   "metadata": {},
   "source": [
    "The print command also can be used to output the result of an operation. A comma (**`,`**) is used to divide the elements in a print statement."
   ]
  },
  {
   "cell_type": "code",
   "execution_count": 16,
   "metadata": {
    "collapsed": false
   },
   "outputs": [
    {
     "name": "stdout",
     "output_type": "stream",
     "text": [
      "1 + 1 = 2\n"
     ]
    }
   ],
   "source": [
    "print '1 + 1 =', 1 + 1"
   ]
  },
  {
   "cell_type": "markdown",
   "metadata": {},
   "source": [
    "### Variables\n",
    "\n",
    "In python virtually any combination of letters, numbers and undescores can be used to define a variable. The variable must, however, start with a letter. For example to set some variable $x = 1$:"
   ]
  },
  {
   "cell_type": "code",
   "execution_count": 17,
   "metadata": {
    "collapsed": false
   },
   "outputs": [
    {
     "name": "stdout",
     "output_type": "stream",
     "text": [
      "x = 1\n"
     ]
    }
   ],
   "source": [
    "x = 1\n",
    "\n",
    "print 'x =', x"
   ]
  },
  {
   "cell_type": "markdown",
   "metadata": {},
   "source": [
    "The variables can of course also be used in conjunction with operators."
   ]
  },
  {
   "cell_type": "code",
   "execution_count": 18,
   "metadata": {
    "collapsed": false
   },
   "outputs": [
    {
     "name": "stdout",
     "output_type": "stream",
     "text": [
      "x + y = 3\n"
     ]
    }
   ],
   "source": [
    "x = 1\n",
    "y = 2\n",
    "\n",
    "print 'x + y =', x + y"
   ]
  },
  {
   "cell_type": "markdown",
   "metadata": {},
   "source": [
    "In the simple examples above using very short variables names such as $x$ and $y$ if perfectly adequate, but it is generally good practice to longer more expressive variable names in codes in order to avoid ambiguity and faciliate readability. For example:"
   ]
  },
  {
   "cell_type": "code",
   "execution_count": 19,
   "metadata": {
    "collapsed": false
   },
   "outputs": [
    {
     "name": "stdout",
     "output_type": "stream",
     "text": [
      "The energy of this human is 7.1073795e+18 Joules.\n"
     ]
    }
   ],
   "source": [
    "speed_of_light_c = 2.99e8 #m/s\n",
    "mass_of_human_m = 79.5 #kg\n",
    "\n",
    "energy = mass_of_human_m * speed_of_light_c ** 2\n",
    "\n",
    "print 'The energy of this human is', energy, 'Joules.'"
   ]
  },
  {
   "cell_type": "markdown",
   "metadata": {},
   "source": [
    "Apart from numbers, variables can also be used to reference other Python objects such as strings of text."
   ]
  },
  {
   "cell_type": "code",
   "execution_count": 20,
   "metadata": {
    "collapsed": false
   },
   "outputs": [
    {
     "name": "stdout",
     "output_type": "stream",
     "text": [
      "Hi, my name is Bob\n"
     ]
    }
   ],
   "source": [
    "x = 'Bob'\n",
    "\n",
    "print 'Hi, my name is', x"
   ]
  },
  {
   "cell_type": "markdown",
   "metadata": {},
   "source": [
    "### Integers and Floats\n",
    "\n",
    "The commands **`int()`** and **`float()`** can be used to convert numbers between integers (int) and floating point numbers (float, *i.e.* real numbers). Python by default sets any number with a decimal to a float and without a decimal to an int. So, the number $1$, for example, is an integer and the number $1.0$ is a float. Sometimes it "
   ]
  },
  {
   "cell_type": "code",
   "execution_count": 21,
   "metadata": {
    "collapsed": false
   },
   "outputs": [
    {
     "name": "stdout",
     "output_type": "stream",
     "text": [
      "1.0 1\n"
     ]
    }
   ],
   "source": [
    "x = 1\n",
    "y = 1.0\n",
    "\n",
    "print float(x), int(y)"
   ]
  },
  {
   "cell_type": "markdown",
   "metadata": {},
   "source": [
    "### Strings\n",
    "\n",
    "As already discussed strings of characters are defined between single or double quotes, however numberical values can also be converted to strings using the command **`str()`**. This is useful because in Python strings can be concatenated using the **`+`** operator."
   ]
  },
  {
   "cell_type": "code",
   "execution_count": 22,
   "metadata": {
    "collapsed": false
   },
   "outputs": [
    {
     "name": "stdout",
     "output_type": "stream",
     "text": [
      "Have you ever watched the 7 Samuari?\n"
     ]
    }
   ],
   "source": [
    "x = 7\n",
    "\n",
    "print 'Have you ever watched the ' + str(x) + ' Samuari?'"
   ]
  },
  {
   "cell_type": "markdown",
   "metadata": {},
   "source": [
    "### Type\n",
    "\n",
    "The **`type()`** command can be used to determine the \"type\" of object in question. For example if a variable has been set and one wishes to find out if the object if refers to is an int, a float or a string."
   ]
  },
  {
   "cell_type": "code",
   "execution_count": 23,
   "metadata": {
    "collapsed": false
   },
   "outputs": [
    {
     "name": "stdout",
     "output_type": "stream",
     "text": [
      "x is a <type 'float'>\n",
      "y is a <type 'str'>\n",
      "z is a <type 'int'>\n"
     ]
    }
   ],
   "source": [
    "x = 5.6\n",
    "y = 'Bob'\n",
    "z = 12\n",
    "\n",
    "print 'x is a', type(x)\n",
    "print 'y is a', type(y)\n",
    "print 'z is a', type(z)"
   ]
  },
  {
   "cell_type": "markdown",
   "metadata": {},
   "source": [
    "### Boolean\n",
    "\n",
    "A boolean is a special data type that can only have one of two possible values **`True`** (1) or **`False`** (0). This data type can be very useful when performing logic operations. The function **`bool()`** can be used to convert the integers values $0$ and $1$ to boolean values."
   ]
  },
  {
   "cell_type": "code",
   "execution_count": 24,
   "metadata": {
    "collapsed": false
   },
   "outputs": [
    {
     "data": {
      "text/plain": [
       "(True, False)"
      ]
     },
     "execution_count": 24,
     "metadata": {},
     "output_type": "execute_result"
    }
   ],
   "source": [
    "x = 1\n",
    "y = 0\n",
    "\n",
    "bool(x), bool(y)"
   ]
  },
  {
   "cell_type": "markdown",
   "metadata": {},
   "source": [
    "The reverse process is also possible."
   ]
  },
  {
   "cell_type": "code",
   "execution_count": 25,
   "metadata": {
    "collapsed": false
   },
   "outputs": [
    {
     "data": {
      "text/plain": [
       "(1, 0)"
      ]
     },
     "execution_count": 25,
     "metadata": {},
     "output_type": "execute_result"
    }
   ],
   "source": [
    "x = True\n",
    "y = False\n",
    "\n",
    "int(x), int(y)"
   ]
  },
  {
   "cell_type": "markdown",
   "metadata": {},
   "source": [
    "### Absolute Value\n",
    "\n",
    "The function **`abs()`** returns the absolute value of a number."
   ]
  },
  {
   "cell_type": "code",
   "execution_count": 26,
   "metadata": {
    "collapsed": false
   },
   "outputs": [
    {
     "name": "stdout",
     "output_type": "stream",
     "text": [
      "The absolute value of -16.6 is 16.6\n"
     ]
    }
   ],
   "source": [
    "x = -16.6\n",
    "\n",
    "print 'The absolute value of', x, 'is', abs(x)"
   ]
  },
  {
   "cell_type": "markdown",
   "metadata": {},
   "source": [
    "---\n",
    "\n",
    "## Arrays \n",
    "\n",
    "The are various ways to store multiple values in a single object. Some of the most basic types are **`list`**, **`tuple`** and **`dict`**."
   ]
  },
  {
   "cell_type": "markdown",
   "metadata": {
    "collapsed": true
   },
   "source": [
    "### Lists\n",
    "\n",
    "Lists are mutable (i.e. can be changed) objects in Python and can be speficied using square brackets **`[]`** or the\n",
    "**`list()`** command."
   ]
  },
  {
   "cell_type": "code",
   "execution_count": 27,
   "metadata": {
    "collapsed": false
   },
   "outputs": [
    {
     "name": "stdout",
     "output_type": "stream",
     "text": [
      "x = [1, 2, 3]\n",
      "This second element of x is 2\n",
      "\n",
      "This second element of x has been changed to 5\n",
      "x = [1, 5, 3]\n"
     ]
    }
   ],
   "source": [
    "x = [1, 2, 3]\n",
    "\n",
    "print 'x =', x\n",
    "print 'This second element of x is', x[1]\n",
    "print ''\n",
    "\n",
    "x[1] = 5\n",
    "print 'This second element of x has been changed to', x[1]\n",
    "print 'x =', x"
   ]
  },
  {
   "cell_type": "markdown",
   "metadata": {
    "collapsed": true
   },
   "source": [
    "List (and tuple) objects allow concatenation."
   ]
  },
  {
   "cell_type": "code",
   "execution_count": 28,
   "metadata": {
    "collapsed": false
   },
   "outputs": [
    {
     "data": {
      "text/plain": [
       "[1, 2, 3, 4]"
      ]
     },
     "execution_count": 28,
     "metadata": {},
     "output_type": "execute_result"
    }
   ],
   "source": [
    "a = [1, 2]\n",
    "b = [3, 4]\n",
    "a + b"
   ]
  },
  {
   "cell_type": "markdown",
   "metadata": {},
   "source": [
    "### List Operations\n",
    "\n",
    "Python also has built in functions for dealing with lists."
   ]
  },
  {
   "cell_type": "code",
   "execution_count": 29,
   "metadata": {
    "collapsed": false
   },
   "outputs": [
    {
     "name": "stdout",
     "output_type": "stream",
     "text": [
      "x = [9, 3, 4, 1, 2, 3, 7, 5, 4, 5, 2, 6]\n",
      "\n",
      "You can check the length of the list.\n",
      "  len(x) = 12\n",
      "\n",
      "You can find the maximum value in the list.\n",
      "  max(x) = 9\n",
      "\n",
      "You can find the minimum value in the list.\n",
      "  min(x) = 1\n",
      "\n",
      "You can sum all of the elements in the list.\n",
      "  sum(x) = 51\n",
      "\n",
      "You can check if a certain value is in the list.\n",
      "  3 in x: True\n",
      "\n",
      "You can also check if a certain value is not in the list.\n",
      "  8 not in x: True\n",
      "\n",
      "You can find the index of a certain element in the list.\n",
      "  index of the value 7 is 6\n",
      "\n",
      "You can count the number of times a certain value occurs in a list.\n",
      "  the value 5 occurs 2 times\n"
     ]
    }
   ],
   "source": [
    "x = [9, 3, 4, 1, 2, 3, 7, 5, 4, 5, 2, 6]\n",
    "\n",
    "print 'x =', x\n",
    "print ''\n",
    "print 'You can check the length of the list.'\n",
    "print '  len(x) =', len(x)\n",
    "print ''\n",
    "print 'You can find the maximum value in the list.'\n",
    "print '  max(x) =', max(x)\n",
    "print ''\n",
    "print 'You can find the minimum value in the list.'\n",
    "print '  min(x) =', min(x)\n",
    "print ''\n",
    "print 'You can sum all of the elements in the list.'\n",
    "print '  sum(x) =', sum(x)\n",
    "print ''\n",
    "print 'You can check if a certain value is in the list.'\n",
    "print '  3 in x:', 3 in x\n",
    "print ''\n",
    "print 'You can also check if a certain value is not in the list.'\n",
    "print '  8 not in x:', 8 not in x\n",
    "print ''\n",
    "print 'You can find the index of a certain element in the list.'\n",
    "print '  index of the value 7 is', x.index(7)\n",
    "print ''\n",
    "print 'You can count the number of times a certain value occurs in a list.'\n",
    "print '  the value 5 occurs', x.count(5), 'times'"
   ]
  },
  {
   "cell_type": "markdown",
   "metadata": {},
   "source": [
    "### Tuples\n",
    "\n",
    "Tuples are similar to lists and are specified using brackets **`()`** or the **`tuple()`** command."
   ]
  },
  {
   "cell_type": "code",
   "execution_count": 30,
   "metadata": {
    "collapsed": false
   },
   "outputs": [
    {
     "name": "stdout",
     "output_type": "stream",
     "text": [
      "x = (1, 2, 3)\n",
      "This second element of x is 2\n"
     ]
    }
   ],
   "source": [
    "x = (1, 2, 3)\n",
    "\n",
    "print 'x =', x\n",
    "print 'This second element of x is', x[1]"
   ]
  },
  {
   "cell_type": "markdown",
   "metadata": {},
   "source": [
    "Tuples, however, are immutable."
   ]
  },
  {
   "cell_type": "code",
   "execution_count": 31,
   "metadata": {
    "collapsed": false
   },
   "outputs": [
    {
     "ename": "TypeError",
     "evalue": "'tuple' object does not support item assignment",
     "output_type": "error",
     "traceback": [
      "\u001b[0;31m---------------------------------------------------------------------------\u001b[0m",
      "\u001b[0;31mTypeError\u001b[0m                                 Traceback (most recent call last)",
      "\u001b[0;32m<ipython-input-31-f14ca6fc68e9>\u001b[0m in \u001b[0;36m<module>\u001b[0;34m()\u001b[0m\n\u001b[0;32m----> 1\u001b[0;31m \u001b[0mx\u001b[0m\u001b[0;34m[\u001b[0m\u001b[0;36m1\u001b[0m\u001b[0;34m]\u001b[0m \u001b[0;34m=\u001b[0m \u001b[0;36m5\u001b[0m\u001b[0;34m\u001b[0m\u001b[0m\n\u001b[0m",
      "\u001b[0;31mTypeError\u001b[0m: 'tuple' object does not support item assignment"
     ]
    }
   ],
   "source": [
    "x[1] = 5"
   ]
  },
  {
   "cell_type": "markdown",
   "metadata": {},
   "source": [
    "It is possible to convert lists to tuples and vice versa."
   ]
  },
  {
   "cell_type": "code",
   "execution_count": 32,
   "metadata": {
    "collapsed": false
   },
   "outputs": [
    {
     "name": "stdout",
     "output_type": "stream",
     "text": [
      "x is a <type 'list'>\n",
      "\n",
      "x is a <type 'tuple'>\n"
     ]
    }
   ],
   "source": [
    "x = [1, 2, 3]\n",
    "print 'x is a', type(x)\n",
    "print ''\n",
    "\n",
    "x = tuple(x)\n",
    "print 'x is a', type(x)"
   ]
  },
  {
   "cell_type": "markdown",
   "metadata": {},
   "source": [
    "### Dictionaries\n",
    "\n",
    "Dictionaries are used for storing *key : value* pairs and are specified using curly brackets **`{}`** or the **`dict()`** command."
   ]
  },
  {
   "cell_type": "code",
   "execution_count": 33,
   "metadata": {
    "collapsed": false
   },
   "outputs": [
    {
     "name": "stdout",
     "output_type": "stream",
     "text": [
      "This cell was written on the 15th of March 2017.\n"
     ]
    }
   ],
   "source": [
    "a = {'day' : 15, 'month' : 'March', 'year' : 2017}\n",
    "print 'This cell was written on the ' + str(a['day']) + 'th of ' + a['month']  + ' ' + str(a['year']) + '.'"
   ]
  },
  {
   "cell_type": "markdown",
   "metadata": {},
   "source": [
    "---\n",
    "\n",
    "## Loops\n",
    "\n",
    "Loops can be implemented in a fairly familiar way (for those who have some coding experience in another language) using a **`for`** statement."
   ]
  },
  {
   "cell_type": "code",
   "execution_count": 34,
   "metadata": {
    "collapsed": false
   },
   "outputs": [
    {
     "name": "stdout",
     "output_type": "stream",
     "text": [
      "element 0 of a is 1\n",
      "element 1 of a is 2\n",
      "element 2 of a is 3\n",
      "element 3 of a is 4\n"
     ]
    }
   ],
   "source": [
    "a = [1, 2, 3, 4]\n",
    "\n",
    "for i in range(len(a)):\n",
    "    print 'element', i, 'of a is', a[i]"
   ]
  },
  {
   "cell_type": "markdown",
   "metadata": {},
   "source": [
    "Here **`len`** provides the length of the list a and **`range`** produces a list of integers from 0 to 3 (*i.e.* the indices of the list). \n",
    "\n",
    "**<font color='red'>NOTE:</font>**     the indentation after the **`for`** statement line is essential.\n",
    "\n",
    "A more elegant way of doing this would be to simply iterate through the list. Fortunately Python allows this."
   ]
  },
  {
   "cell_type": "code",
   "execution_count": 35,
   "metadata": {
    "collapsed": false
   },
   "outputs": [
    {
     "name": "stdout",
     "output_type": "stream",
     "text": [
      "value = 1\n",
      "value = 2\n",
      "value = 3\n",
      "value = 4\n"
     ]
    }
   ],
   "source": [
    "a = [1, 2, 3, 4]\n",
    "\n",
    "for value in a:\n",
    "    print 'value =', value"
   ]
  },
  {
   "cell_type": "markdown",
   "metadata": {},
   "source": [
    "Here `value` is simply a dummy variable.\n",
    "\n",
    "**<font color='red'>NOTE:</font>** This also works for tuples."
   ]
  },
  {
   "cell_type": "markdown",
   "metadata": {},
   "source": [
    "## List Comprehension\n",
    "\n",
    "Another elegant option provided in Python is list comprehension, which converts one list into another."
   ]
  },
  {
   "cell_type": "code",
   "execution_count": 36,
   "metadata": {
    "collapsed": false
   },
   "outputs": [
    {
     "name": "stdout",
     "output_type": "stream",
     "text": [
      "b = [1, 4, 9, 16]\n"
     ]
    }
   ],
   "source": [
    "a = [1, 2, 3, 4]\n",
    "b = [value ** 2 for value in a]\n",
    "print 'b =', b"
   ]
  },
  {
   "cell_type": "markdown",
   "metadata": {},
   "source": [
    "In this example the operation iterates through the elements in the list `a`, stores each element in a dummy variable `value` and finally adds the square of the variable to a new list `b`."
   ]
  },
  {
   "cell_type": "markdown",
   "metadata": {},
   "source": [
    "---\n",
    "\n",
    "## Functions\n",
    "\n",
    "Functions are an essential part of any programming language and should be used as often as possible to avoid repeating lines of code (which can lead to bugs).\n",
    "\n",
    "Functions (or methods) are defined using the **`def`** statement and results are returned with the **`return`** statement. For example, to define a function that adds two values you would do the following"
   ]
  },
  {
   "cell_type": "code",
   "execution_count": 37,
   "metadata": {
    "collapsed": false
   },
   "outputs": [
    {
     "name": "stdout",
     "output_type": "stream",
     "text": [
      "3 plus 5 is 8\n"
     ]
    }
   ],
   "source": [
    "def add(a, b):\n",
    "    \n",
    "    return a + b\n",
    "\n",
    "print '3 plus 5 is', add(3, 5)"
   ]
  },
  {
   "cell_type": "markdown",
   "metadata": {},
   "source": [
    "**<font color='red'>NOTE:</font>** as with loops, the indentation after the **`def`** statement line is essential.\n",
    "\n",
    "\n",
    "Another example function that multiplies three numbers "
   ]
  },
  {
   "cell_type": "code",
   "execution_count": 38,
   "metadata": {
    "collapsed": false
   },
   "outputs": [
    {
     "name": "stdout",
     "output_type": "stream",
     "text": [
      "The answer is 42\n"
     ]
    }
   ],
   "source": [
    "def multiply(a, b, c):\n",
    "    \n",
    "    \"\"\" Multiply\n",
    "    \n",
    "    This function mutliplies three input values.\n",
    "    \n",
    "    This is an example of how you can add comments to functions.\n",
    "    \n",
    "    \"\"\"\n",
    "    \n",
    "    return a * b * c\n",
    "\n",
    "print 'The answer is', multiply(3, 7, 2)"
   ]
  },
  {
   "cell_type": "markdown",
   "metadata": {},
   "source": [
    "Virtually all Python objects can be passed to functions including other functions. For example, we can pass the `add` function we just defined to a new function as follows"
   ]
  },
  {
   "cell_type": "code",
   "execution_count": 39,
   "metadata": {
    "collapsed": false
   },
   "outputs": [
    {
     "name": "stdout",
     "output_type": "stream",
     "text": [
      "the operation \"add\" of 6 and 4 is 10\n"
     ]
    }
   ],
   "source": [
    "def operate(a, b, func):\n",
    "    \n",
    "    return func(a, b)\n",
    "\n",
    "print 'the operation \"add\" of 6 and 4 is', operate(6, 4, add)"
   ]
  },
  {
   "cell_type": "markdown",
   "metadata": {},
   "source": [
    "---\n",
    "\n",
    "## Classes\n",
    "\n",
    "Classes can be an extremely powerful tool when used correctly in your code. As a basic rule of thumb you should not create a class unless you actually need a class. Most of the time functions will be sufficient.\n",
    "\n",
    "Classes are defined using the **`class`** statement. A simple example of a class (which need not be a class) is given below"
   ]
  },
  {
   "cell_type": "code",
   "execution_count": 40,
   "metadata": {
    "collapsed": false
   },
   "outputs": [
    {
     "name": "stdout",
     "output_type": "stream",
     "text": [
      "add 7 gives 10\n",
      "\n",
      "multiply 4 gives 12\n"
     ]
    }
   ],
   "source": [
    "class exampleClass(object):\n",
    "    \"\"\"Example Class\n",
    "    \n",
    "    This is an example of how to add comments to a class.\n",
    "    \n",
    "    \"\"\"\n",
    "\n",
    "    def __init__(self, a):\n",
    "        \n",
    "        self.a = a\n",
    "\n",
    "    def add(self, b):\n",
    "        \"\"\" Add\n",
    "        \n",
    "        Add input to self.a and return result.\n",
    "        \n",
    "        \"\"\"\n",
    "        \n",
    "        return self.a + b\n",
    "\n",
    "    def multiply(self, b):\n",
    "        \"\"\" Multiply\n",
    "        \n",
    "        Multiply input by self.a and return result.\n",
    "        \n",
    "        \"\"\"\n",
    "        \n",
    "        return self.a * b\n",
    "\n",
    "x = exampleClass(3)\n",
    "\n",
    "print 'add 7 gives', x.add(7)\n",
    "print ''\n",
    "print 'multiply 4 gives', x.multiply(4)"
   ]
  },
  {
   "cell_type": "markdown",
   "metadata": {},
   "source": [
    "In this example a class called `exampleClass` is defined. Then a special **`__init__`** method is defined that takes two arguments: the class instance **`self`** and an input value `a`. This method sets the value of the instance variable `self.a`. The other two methods return operations on the instance variable. `x` is a class instance with `self.a=3`."
   ]
  },
  {
   "cell_type": "markdown",
   "metadata": {},
   "source": [
    "---\n",
    "\n",
    "## Exercises"
   ]
  },
  {
   "cell_type": "markdown",
   "metadata": {},
   "source": [
    "### Exercise 1 \n",
    "\n",
    "Write a function that implements the following equation.\n",
    "\n",
    "$$F = \\frac{Gm_1m_2}{r^2}$$\n",
    "\n",
    "where $G = 6.674 \\times 10^{−11}\\,\\textrm{N (m/kg)}^2$ and $1\\,\\textrm{N} = 1\\,\\textrm{kg m/s}^2$."
   ]
  },
  {
   "cell_type": "code",
   "execution_count": null,
   "metadata": {
    "collapsed": true
   },
   "outputs": [],
   "source": [
    "# Write your function here"
   ]
  },
  {
   "cell_type": "markdown",
   "metadata": {},
   "source": [
    "Now use your function to calculate the force of attraction between the Earth and the Moon using the following facts:\n",
    "\n",
    "- Mass of the Earth: $5.9742 \\times 10^{24}\\,\\textrm{kg}$\n",
    "- Mass of the Moon: $7.36 \\times 10^{22}\\,\\textrm{kg}$\n",
    "- Distance between the Earth and the Moon: $384,402\\,\\textrm{km}$"
   ]
  },
  {
   "cell_type": "code",
   "execution_count": null,
   "metadata": {
    "collapsed": false
   },
   "outputs": [],
   "source": [
    "# Implement your function here"
   ]
  },
  {
   "cell_type": "markdown",
   "metadata": {},
   "source": [
    "### Exercise 2\n"
   ]
  },
  {
   "cell_type": "markdown",
   "metadata": {},
   "source": [
    "Calculate the variance ($\\sigma^2$) of the following set of values using native Python only.\n",
    "\n",
    "$$x = [2, 4, 4, 4, 5, 5, 7, 9]$$\n",
    "\n",
    "Recall that\n",
    "\n",
    "$$\\sigma^2 = \\frac{\\sum(x-\\bar{x})^2}{N}$$"
   ]
  },
  {
   "cell_type": "code",
   "execution_count": null,
   "metadata": {
    "collapsed": false
   },
   "outputs": [],
   "source": [
    "# Implement your code here"
   ]
  },
  {
   "cell_type": "markdown",
   "metadata": {},
   "source": [
    "Check if the value you obtained for the variance is in $x$ and if so count how many times it occurs."
   ]
  },
  {
   "cell_type": "code",
   "execution_count": null,
   "metadata": {
    "collapsed": true
   },
   "outputs": [],
   "source": [
    "# Implement your code here"
   ]
  },
  {
   "cell_type": "markdown",
   "metadata": {},
   "source": [
    "### Exercise 3\n",
    "\n",
    "Write a class for converting angles between degrees and radians. Your class should have one method to convert from \n",
    "degrees to radians and another method to convert from radians to degrees."
   ]
  },
  {
   "cell_type": "code",
   "execution_count": null,
   "metadata": {
    "collapsed": true
   },
   "outputs": [],
   "source": [
    "# Write your class here"
   ]
  },
  {
   "cell_type": "markdown",
   "metadata": {},
   "source": [
    "Now use your class to do the following conversions:\n",
    "\n",
    "- 45° in radians\n",
    "- 30° in radians\n",
    "- 135° in radians\n",
    "- $\\pi$ radians in degrees\n",
    "- $2\\pi/3$ radians in degrees\n",
    "- $5\\pi/6$ radians in degrees"
   ]
  },
  {
   "cell_type": "code",
   "execution_count": null,
   "metadata": {
    "collapsed": true
   },
   "outputs": [],
   "source": [
    "# Implement your class here"
   ]
  }
 ],
 "metadata": {
  "kernelspec": {
   "display_name": "Python 2",
   "language": "python",
   "name": "python2"
  },
  "language_info": {
   "codemirror_mode": {
    "name": "ipython",
    "version": 2
   },
   "file_extension": ".py",
   "mimetype": "text/x-python",
   "name": "python",
   "nbconvert_exporter": "python",
   "pygments_lexer": "ipython2",
   "version": "2.7.11"
  }
 },
 "nbformat": 4,
 "nbformat_minor": 0
}
