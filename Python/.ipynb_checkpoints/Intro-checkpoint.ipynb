{
 "cells": [
  {
   "cell_type": "markdown",
   "metadata": {},
   "source": [
    "# Introduction to Python 2.7\n",
    "\n",
    "by Samuel Farrens 2017\n",
    "\n",
    "![](https://www.python.org/static/community_logos/python-logo.png)\n",
    "\n",
    "## Contents\n",
    "\n",
    "1. [Native Python](./Native.ipynb)\n",
    "\n",
    "1. [Numpy](./Numpy.ipynb)\n",
    "\n",
    "1. [Matplotlib](./Matplotlib.ipynb)\n",
    "\n",
    "1. [Other Packages](./Other-Packages.ipynb)\n",
    "\n",
    "1. [Anwers to Exercises](./Answers-to-exercises.ipynb)"
   ]
  }
 ],
 "metadata": {
  "kernelspec": {
   "display_name": "Python 2",
   "language": "python",
   "name": "python2"
  },
  "language_info": {
   "codemirror_mode": {
    "name": "ipython",
    "version": 2
   },
   "file_extension": ".py",
   "mimetype": "text/x-python",
   "name": "python",
   "nbconvert_exporter": "python",
   "pygments_lexer": "ipython2",
   "version": "2.7.11"
  }
 },
 "nbformat": 4,
 "nbformat_minor": 0
}
