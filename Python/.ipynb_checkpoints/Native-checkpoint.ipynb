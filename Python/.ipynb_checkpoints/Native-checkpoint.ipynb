{
 "cells": [
  {
   "cell_type": "markdown",
   "metadata": {},
   "source": [
    "# Native Python\n",
    "\n",
    "---\n",
    "\n",
    "In the context of Python the term \"native\" refers to the core commands, operators and functions that come with a default installation. The following subsections will cover some of the most essential elements provided in native Python.\n",
    "\n",
    "## Contents\n",
    "\n",
    "1. [Comments](#Comments)\n",
    "1. [Operators](#Operators)\n",
    " * [Mathematical Operators](#Mathematical-Operators)\n",
    " * [Logic Operators](#Logic-Operators)\n",
    " * [Scientific Notation](#Scientific-Notation)\n",
    "1. [Built in Functions](#Built-in-Functions)\n",
    " \n",
    "---\n",
    "\n",
    "## Comments\n",
    "\n",
    "Reading and understand coding languages can be challenging especially for when reading code written by someone else. One of the most important habits one should try to establish early on (and this goes for any language) is adding clear and detailed comments throughout the code. Python is no exception! This practive will improve the readability and faciliate the understanding of the code.   \n",
    "\n",
    "Commenting in Python is very easy. Every comment line simply needs to begin with a hash (**#**)."
   ]
  },
  {
   "cell_type": "code",
   "execution_count": 1,
   "metadata": {
    "collapsed": true
   },
   "outputs": [],
   "source": [
    "# This is an example of a comment."
   ]
  },
  {
   "cell_type": "markdown",
   "metadata": {},
   "source": [
    "---\n",
    "\n",
    "## Operators\n",
    "\n",
    "Native python supports various [mathematic operators](https://docs.python.org/2/reference/lexical_analysis.html#operators) (*e.g.* addition, subtraction, multiplication, division, *etc.*) and [logic operators](https://docs.python.org/2/library/stdtypes.html?highlight=boolean) (*e.g.* and, or, not, *etc.*).\n",
    "\n",
    "These operators do not require any declaration of variables. In fact, one can easily treat a given Python session like a sophisticated calculator.\n",
    "\n",
    "### Mathematical Operators\n",
    "\n",
    "The following table lists the basic mathematical operations in Python. These are the operations that most people will be familiar with and one simply needs to learn the appropriate symbols to perform these operations in Python.\n",
    "\n",
    "| Operation                  | Mathematical Operator | Python Operator |\n",
    "|:--------------------------:|:---------------------:|:---------------:|\n",
    "| Addition                   | $+$                   | +               |\n",
    "| Subtraction                | $-$                   | -               |\n",
    "| Multiplication             | $\\times$              | *               |\n",
    "| Division                   | $\\div$                | /               |\n",
    "| Exponentiation             | $x^n$                 | **              |\n",
    "| Equality                   | $=$                   | ==              |\n",
    "| Inequality                 | $\\neq$                | !=              |\n",
    "| Greater Than               | $>$                   | >               |\n",
    "| Less Than                  | $<$                   | <               |\n",
    "| Greater Than or Equal to   | $\\geq$                | >=              |\n",
    "| Less Than or Equal to      | $\\leq$                | <=              |\n",
    "\n",
    "Here are a few examples:\n",
    "\n",
    "$$1+1=2$$"
   ]
  },
  {
   "cell_type": "code",
   "execution_count": 3,
   "metadata": {
    "collapsed": false
   },
   "outputs": [
    {
     "data": {
      "text/plain": [
       "2"
      ]
     },
     "execution_count": 3,
     "metadata": {},
     "output_type": "execute_result"
    }
   ],
   "source": [
    "1 + 1"
   ]
  },
  {
   "cell_type": "markdown",
   "metadata": {},
   "source": [
    "$$12\\div4=3$$"
   ]
  },
  {
   "cell_type": "code",
   "execution_count": 4,
   "metadata": {
    "collapsed": false
   },
   "outputs": [
    {
     "data": {
      "text/plain": [
       "3"
      ]
     },
     "execution_count": 4,
     "metadata": {},
     "output_type": "execute_result"
    }
   ],
   "source": [
    "12 / 4"
   ]
  },
  {
   "cell_type": "markdown",
   "metadata": {},
   "source": [
    "$$3^2=9$$"
   ]
  },
  {
   "cell_type": "code",
   "execution_count": 5,
   "metadata": {
    "collapsed": false
   },
   "outputs": [
    {
     "data": {
      "text/plain": [
       "9"
      ]
     },
     "execution_count": 5,
     "metadata": {},
     "output_type": "execute_result"
    }
   ],
   "source": [
    "3 ** 2"
   ]
  },
  {
   "cell_type": "markdown",
   "metadata": {},
   "source": [
    "$$2<3$$"
   ]
  },
  {
   "cell_type": "code",
   "execution_count": 6,
   "metadata": {
    "collapsed": false
   },
   "outputs": [
    {
     "data": {
      "text/plain": [
       "True"
      ]
     },
     "execution_count": 6,
     "metadata": {},
     "output_type": "execute_result"
    }
   ],
   "source": [
    "2 < 3"
   ]
  },
  {
   "cell_type": "markdown",
   "metadata": {},
   "source": [
    "In addition to these standard operations, native Python includes some standard computational operations which are shown in the following table. These operations will be familiar to those with prior knowledge of virtually any programming language.\n",
    "\n",
    "| Operation                  | Python Operator |\n",
    "|:--------------------------:|:---------------:|\n",
    "| Modulo                     | %               |\n",
    "| Floor Division             | //              |\n",
    "\n",
    "The modulo operator returns the remainder of the division of one number by another. For example, in the following operation:\n",
    "\n",
    "$$5 \\div 2 = 2.5 = 2 \\text{ remainder } 1$$\n",
    "\n",
    "the remainder of the division of 5 by 2 is 1. So, in Python the modulo operator will return 1.\n"
   ]
  },
  {
   "cell_type": "code",
   "execution_count": 7,
   "metadata": {
    "collapsed": false
   },
   "outputs": [
    {
     "data": {
      "text/plain": [
       "1"
      ]
     },
     "execution_count": 7,
     "metadata": {},
     "output_type": "execute_result"
    }
   ],
   "source": [
    "5 % 2"
   ]
  },
  {
   "cell_type": "markdown",
   "metadata": {},
   "source": [
    "The floor division operator, on the other hand, returns the result of the division without the remainder. In other words only the values before the decimal place are returned. So, for the previous example, the floor division operator will return 2."
   ]
  },
  {
   "cell_type": "code",
   "execution_count": 8,
   "metadata": {
    "collapsed": false
   },
   "outputs": [
    {
     "data": {
      "text/plain": [
       "2"
      ]
     },
     "execution_count": 8,
     "metadata": {},
     "output_type": "execute_result"
    }
   ],
   "source": [
    "5 // 2"
   ]
  },
  {
   "cell_type": "markdown",
   "metadata": {},
   "source": [
    "### Logic Operators\n",
    "\n",
    "In Python logic or boolean operators return values that are either *True* or *False*. The following tables lists the logic operators available in native Python.\n",
    "\n",
    "| Python Operator |\n",
    "|:---------------:|\n",
    "| and             |\n",
    "| or              |\n",
    "| not             |\n",
    "\n",
    "The **and** operator tests whether or not both statements are true."
   ]
  },
  {
   "cell_type": "code",
   "execution_count": 12,
   "metadata": {
    "collapsed": false
   },
   "outputs": [
    {
     "name": "stdout",
     "output_type": "stream",
     "text": [
      "False\n"
     ]
    }
   ],
   "source": [
    "print True and False"
   ]
  },
  {
   "cell_type": "markdown",
   "metadata": {},
   "source": [
    "The **or** operator tests whether or not one of the statements is true."
   ]
  },
  {
   "cell_type": "code",
   "execution_count": 13,
   "metadata": {
    "collapsed": false
   },
   "outputs": [
    {
     "data": {
      "text/plain": [
       "True"
      ]
     },
     "execution_count": 13,
     "metadata": {},
     "output_type": "execute_result"
    }
   ],
   "source": [
    "True or False"
   ]
  },
  {
   "cell_type": "markdown",
   "metadata": {},
   "source": [
    "The **not** operator reverse the statement it preceedes."
   ]
  },
  {
   "cell_type": "code",
   "execution_count": 14,
   "metadata": {
    "collapsed": false
   },
   "outputs": [
    {
     "data": {
      "text/plain": [
       "True"
      ]
     },
     "execution_count": 14,
     "metadata": {},
     "output_type": "execute_result"
    }
   ],
   "source": [
    "True and not False"
   ]
  },
  {
   "cell_type": "markdown",
   "metadata": {},
   "source": [
    "### Scientific Notation\n",
    "\n",
    "Larger numbers can be inputted using scientific notation with the letter **e** followed by the power (n) which represents $10^n$. For example, for $n=5$:\n",
    "\n",
    "$$200000 = 2 \\times 10^5$$"
   ]
  },
  {
   "cell_type": "code",
   "execution_count": 15,
   "metadata": {
    "collapsed": false
   },
   "outputs": [
    {
     "data": {
      "text/plain": [
       "200000.0"
      ]
     },
     "execution_count": 15,
     "metadata": {},
     "output_type": "execute_result"
    }
   ],
   "source": [
    "2e5 "
   ]
  },
  {
   "cell_type": "markdown",
   "metadata": {},
   "source": [
    "---\n",
    "\n",
    "## Built-in Functions\n",
    "\n",
    "A default Python installation includes some standard [built-in functions](https://docs.python.org/2/library/functions.html). \n",
    "\n",
    "The following subsections will cover some of the most essential native Python functions.\n",
    "\n",
    "### Print\n",
    "\n",
    "The first lesson with any programming language is learing how to print output to the terminal. In python this is done with the **print** command. Text (strings of characters) are represented either by single ('') or double quotes (\"\") for displaying text. For example one can display the standard \"Hello world!\" output as follows:"
   ]
  },
  {
   "cell_type": "code",
   "execution_count": 11,
   "metadata": {
    "collapsed": false
   },
   "outputs": [
    {
     "name": "stdout",
     "output_type": "stream",
     "text": [
      "Hello world!\n"
     ]
    }
   ],
   "source": [
    "print 'Hello world!'"
   ]
  },
  {
   "cell_type": "code",
   "execution_count": 12,
   "metadata": {
    "collapsed": false
   },
   "outputs": [
    {
     "name": "stdout",
     "output_type": "stream",
     "text": [
      "Hello world again!\n"
     ]
    }
   ],
   "source": [
    "print \"Hello world again!\""
   ]
  },
  {
   "cell_type": "markdown",
   "metadata": {},
   "source": [
    "Single and double quotes can be combined to display the inner set of quotes in the text."
   ]
  },
  {
   "cell_type": "code",
   "execution_count": 13,
   "metadata": {
    "collapsed": false
   },
   "outputs": [
    {
     "name": "stdout",
     "output_type": "stream",
     "text": [
      "\"What is hell? I maintain that it is the suffering of being unable to love.\" ― Fyodor Dostoyevsky\n"
     ]
    }
   ],
   "source": [
    "print '\"What is hell? I maintain that it is the suffering of being unable to love.\" ― Fyodor Dostoyevsky'"
   ]
  },
  {
   "cell_type": "markdown",
   "metadata": {},
   "source": [
    "The print command also can be used to output the result of an operation. A comma (**,**) is used to divide the elements in a print statement."
   ]
  },
  {
   "cell_type": "code",
   "execution_count": 14,
   "metadata": {
    "collapsed": false
   },
   "outputs": [
    {
     "name": "stdout",
     "output_type": "stream",
     "text": [
      "1 + 1 = 2\n"
     ]
    }
   ],
   "source": [
    "print '1 + 1 =', 1 + 1"
   ]
  },
  {
   "cell_type": "markdown",
   "metadata": {},
   "source": [
    "### Variables\n",
    "\n",
    "In python virtually any combination of letters, numbers and undescores can be used to define a variable. The variable must, however, start with a letter. For example to set some variable $x = 1$:"
   ]
  },
  {
   "cell_type": "code",
   "execution_count": 15,
   "metadata": {
    "collapsed": false
   },
   "outputs": [
    {
     "name": "stdout",
     "output_type": "stream",
     "text": [
      "x = 1\n"
     ]
    }
   ],
   "source": [
    "x = 1\n",
    "\n",
    "print 'x =', x"
   ]
  },
  {
   "cell_type": "markdown",
   "metadata": {},
   "source": [
    "The variables can of course also be used in conjunction with operators."
   ]
  },
  {
   "cell_type": "code",
   "execution_count": 16,
   "metadata": {
    "collapsed": false
   },
   "outputs": [
    {
     "name": "stdout",
     "output_type": "stream",
     "text": [
      "x + y = 3\n"
     ]
    }
   ],
   "source": [
    "x = 1\n",
    "y = 2\n",
    "\n",
    "print 'x + y =', x + y"
   ]
  },
  {
   "cell_type": "markdown",
   "metadata": {},
   "source": [
    "In the simple examples above using very short variables names such as $x$ and $y$ if perfectly adequate, but it is generally good practice to longer more expressive variable names in codes in order to avoid ambiguity and faciliate readability. For example:"
   ]
  },
  {
   "cell_type": "code",
   "execution_count": 17,
   "metadata": {
    "collapsed": false
   },
   "outputs": [
    {
     "name": "stdout",
     "output_type": "stream",
     "text": [
      "The energy of this human is 7.1073795e+18 Joules.\n"
     ]
    }
   ],
   "source": [
    "speed_of_light_c = 2.99e8 #m/s\n",
    "mass_of_human_m = 79.5 #kg\n",
    "\n",
    "energy = mass_of_human_m * speed_of_light_c ** 2\n",
    "\n",
    "print 'The energy of this human is', energy, 'Joules.'"
   ]
  },
  {
   "cell_type": "markdown",
   "metadata": {},
   "source": [
    "Apart from numbers, variables can also be used to reference other Python objects such as strings of text."
   ]
  },
  {
   "cell_type": "code",
   "execution_count": 18,
   "metadata": {
    "collapsed": false
   },
   "outputs": [
    {
     "name": "stdout",
     "output_type": "stream",
     "text": [
      "Hi, my name is Bob\n"
     ]
    }
   ],
   "source": [
    "x = 'Bob'\n",
    "\n",
    "print 'Hi, my name is', x"
   ]
  },
  {
   "cell_type": "markdown",
   "metadata": {},
   "source": [
    "### Integers and Floats\n",
    "\n",
    "The commands **int()** and **float()** can be used to convert numbers between integers (int) and floating point numbers (float, *i.e.* real numbers). Python by default sets any number with a decimal to a float and without a decimal to an int. So, the number $1$, for example, is an integer and the number $1.0$ is a float. Sometimes it "
   ]
  },
  {
   "cell_type": "code",
   "execution_count": 19,
   "metadata": {
    "collapsed": false
   },
   "outputs": [
    {
     "name": "stdout",
     "output_type": "stream",
     "text": [
      "1.0 1\n"
     ]
    }
   ],
   "source": [
    "x = 1\n",
    "y = 1.0\n",
    "\n",
    "print float(x), int(y)"
   ]
  },
  {
   "cell_type": "markdown",
   "metadata": {},
   "source": [
    "### Strings\n",
    "\n",
    "As already discussed strings of characters are defined between single or double quotes, however numberical values can also be converted to strings using the command **str()**. This is useful because in Python strings can be concatenated using the **+** operator."
   ]
  },
  {
   "cell_type": "code",
   "execution_count": 20,
   "metadata": {
    "collapsed": false
   },
   "outputs": [
    {
     "name": "stdout",
     "output_type": "stream",
     "text": [
      "Have you ever watched the 7 Samuari?\n"
     ]
    }
   ],
   "source": [
    "x = 7\n",
    "\n",
    "print 'Have you ever watched the ' + str(x) + ' Samuari?'\n",
    "\n"
   ]
  },
  {
   "cell_type": "markdown",
   "metadata": {},
   "source": [
    "### Type\n",
    "\n",
    "The **type()** command can be used to determine the \"type\" of object in question. For example if a variable has been set and one wishes to find out if the object if refers to is an int, a float or a string."
   ]
  },
  {
   "cell_type": "code",
   "execution_count": 21,
   "metadata": {
    "collapsed": false
   },
   "outputs": [
    {
     "name": "stdout",
     "output_type": "stream",
     "text": [
      "x is a <type 'float'>\n",
      "y is a <type 'str'>\n",
      "z is a <type 'int'>\n"
     ]
    }
   ],
   "source": [
    "x = 5.6\n",
    "y = 'Bob'\n",
    "z = 12\n",
    "\n",
    "print 'x is a', type(x)\n",
    "print 'y is a', type(y)\n",
    "print 'z is a', type(z)"
   ]
  },
  {
   "cell_type": "markdown",
   "metadata": {},
   "source": [
    "### Boolean\n",
    "\n",
    "A boolean is a special data type that can only have one of two possible values **True** (1) or **False** (0). This data type can be very useful when performing logic operations. The function **bool()** can be used to convert the integers values $0$ and $1$ to boolean values."
   ]
  },
  {
   "cell_type": "code",
   "execution_count": 22,
   "metadata": {
    "collapsed": false
   },
   "outputs": [
    {
     "name": "stdout",
     "output_type": "stream",
     "text": [
      "True False\n"
     ]
    }
   ],
   "source": [
    "x = 1\n",
    "y = 0\n",
    "\n",
    "print bool(x), bool(y)"
   ]
  },
  {
   "cell_type": "markdown",
   "metadata": {},
   "source": [
    "The reverse process is also possible."
   ]
  },
  {
   "cell_type": "code",
   "execution_count": 23,
   "metadata": {
    "collapsed": false
   },
   "outputs": [
    {
     "name": "stdout",
     "output_type": "stream",
     "text": [
      "1 0\n"
     ]
    }
   ],
   "source": [
    "x = True\n",
    "y = False\n",
    "\n",
    "print int(x), int(y)"
   ]
  },
  {
   "cell_type": "markdown",
   "metadata": {},
   "source": [
    "### Absolute Value\n",
    "\n",
    "The function **abs()** returns the absolute value of a number."
   ]
  },
  {
   "cell_type": "code",
   "execution_count": 24,
   "metadata": {
    "collapsed": false
   },
   "outputs": [
    {
     "name": "stdout",
     "output_type": "stream",
     "text": [
      "The absolute value of -16.6 is 16.6\n"
     ]
    }
   ],
   "source": [
    "x = -16.6\n",
    "\n",
    "print 'The absolute value of', x, 'is', abs(x)"
   ]
  },
  {
   "cell_type": "markdown",
   "metadata": {
    "collapsed": true
   },
   "source": [
    "### Lists\n",
    "\n",
    "Lists of values can be speficied using square brackets *[]*."
   ]
  },
  {
   "cell_type": "code",
   "execution_count": 25,
   "metadata": {
    "collapsed": false
   },
   "outputs": [
    {
     "name": "stdout",
     "output_type": "stream",
     "text": [
      "[1, 2, 3]\n"
     ]
    }
   ],
   "source": [
    "x = [1, 2, 3]\n",
    "\n",
    "print x"
   ]
  },
  {
   "cell_type": "code",
   "execution_count": null,
   "metadata": {
    "collapsed": true
   },
   "outputs": [],
   "source": []
  }
 ],
 "metadata": {
  "kernelspec": {
   "display_name": "Python 2",
   "language": "python",
   "name": "python2"
  },
  "language_info": {
   "codemirror_mode": {
    "name": "ipython",
    "version": 2
   },
   "file_extension": ".py",
   "mimetype": "text/x-python",
   "name": "python",
   "nbconvert_exporter": "python",
   "pygments_lexer": "ipython2",
   "version": "2.7.11"
  }
 },
 "nbformat": 4,
 "nbformat_minor": 0
}
