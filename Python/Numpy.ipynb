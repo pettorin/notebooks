{
 "cells": [
  {
   "cell_type": "markdown",
   "metadata": {},
   "source": [
    "# 2 Numpy\n",
    "\n",
    "---\n",
    "\n",
    "> Author: <font color='#f78c40'>Samuel Farrens</font>    \n",
    "> Year: 2017  \n",
    "> Email: [samuel.farrens@gmail.com](mailto:samuel.farrens@gmail.com)  \n",
    "> Website: <a href=\"https://sfarrens.github.io\" target=\"_blank\">https://sfarrens.github.io</a>\n",
    "\n",
    "---\n",
    "\n",
    "<a href=\"http://www.numpy.org/\" target=\"_blank\">Numpy</a> is a numerical python packing for scientific computing. The website contains extensive documentation on all the modules available. If you only ever install one Python package this should be it.\n",
    "\n",
    "---\n",
    "\n",
    "## Contents\n",
    "\n",
    "1. [Installation](#Installation)\n",
    "1. [Importing Numpy](#Importing-Numpy)\n",
    "1. [Arrays](#Arrays)\n",
    " * [The Basics](#The-Basics)\n",
    " * [Multidimensional Arrays](#Multidimensional-Arrays)\n",
    " * [Mathematical Operations](#Mathematical-Operations)\n",
    "1. [Random Numbers](#Random-Numbers)\n",
    "1. [Reading and Writing Files](#Reading-and-Writing-Files)\n",
    " * [ASCII Files](#ASCII-Files)\n",
    " * [Binary Files](#Binary-Files)\n",
    "1. [Linear Alegbra](#Linear-Algebra)\n",
    "1. [Exercises](#Exercises)\n",
    " * [Exercise 1](#Exercise-1)\n",
    "\n",
    "---\n",
    "\n",
    "## Installation\n",
    "\n",
    "To install numpy simply run the following command in a terminal (providing you have already set up pip)\n",
    "\n",
    "```bash\n",
    "\n",
    "    $ pip install numpy\n",
    "\n",
    "```"
   ]
  },
  {
   "cell_type": "markdown",
   "metadata": {},
   "source": [
    "---\n",
    "\n",
    "## Importing Numpy\n",
    "\n",
    "To import numpy use the **`import`** command as follows"
   ]
  },
  {
   "cell_type": "code",
   "execution_count": 1,
   "metadata": {
    "collapsed": false
   },
   "outputs": [],
   "source": [
    "import numpy"
   ]
  },
  {
   "cell_type": "markdown",
   "metadata": {},
   "source": [
    "It more convenient to assign the numpy package contents to an alias to avoid having longer expressions."
   ]
  },
  {
   "cell_type": "code",
   "execution_count": 2,
   "metadata": {
    "collapsed": true
   },
   "outputs": [],
   "source": [
    "import numpy as np"
   ]
  },
  {
   "cell_type": "markdown",
   "metadata": {},
   "source": [
    "In this example the **`as`** statement assigns the numpy package contents to the object `np`.\n",
    "\n",
    "---\n",
    "\n",
    "## Arrays\n",
    "\n",
    "### The Basics\n",
    "\n",
    "The most essential numpy object is the numpy array (<a href=\"https://docs.scipy.org/doc/numpy/reference/generated/numpy.array.html\" target=\"_blank\">numpy.ndarray</a>)."
   ]
  },
  {
   "cell_type": "code",
   "execution_count": 3,
   "metadata": {
    "collapsed": false
   },
   "outputs": [
    {
     "name": "stdout",
     "output_type": "stream",
     "text": [
      "a is <type 'list'>\n",
      "b is <type 'numpy.ndarray'>\n"
     ]
    }
   ],
   "source": [
    "a = [1, 2, 3, 4]\n",
    "print 'a is', type(a)\n",
    "\n",
    "b = np.array(a)\n",
    "print 'b is', type(b)"
   ]
  },
  {
   "cell_type": "markdown",
   "metadata": {},
   "source": [
    "The **`np.array()`** command converts the list `a` to a numpy array `b`.\n",
    "\n",
    "Numpy arrays have several fantastic properties. Some basic examples are the following"
   ]
  },
  {
   "cell_type": "code",
   "execution_count": 4,
   "metadata": {
    "collapsed": false
   },
   "outputs": [
    {
     "name": "stdout",
     "output_type": "stream",
     "text": [
      "a = [4 5 6 8 7 5 2 1 0 4 0 6 5 4 2 1 1 7 4 4]\n",
      "a backwards is [4 4 7 1 1 2 4 5 6 0 4 0 1 2 5 7 8 6 5 4]\n",
      "a has size 20\n",
      "a has mean 3.8\n",
      "a has standard deviation 2.35796522451\n",
      "the 3rd through 6th elements of a are [6 8 7 5]\n",
      "the last element of a is 4\n",
      "the elements of a greater than 3 are [4 5 6 8 7 5 4 6 5 4 7 4 4]\n",
      "the elements of a excluding 5 are [4 6 8 7 2 1 0 4 0 6 4 2 1 1 7 4 4]\n"
     ]
    }
   ],
   "source": [
    "a = np.array([4, 5, 6, 8, 7, 5, 2, 1, 0, 4, 0, 6, 5, 4, 2, 1, 1, 7, 4, 4])\n",
    "print 'a =', a\n",
    "print 'a backwards is', a[::-1]\n",
    "print 'a has size', a.size\n",
    "print 'a has mean', a.mean()\n",
    "print 'a has standard deviation', a.std()\n",
    "print 'the 3rd through 6th elements of a are', a[2:6]\n",
    "print 'the last element of a is', a[-1]\n",
    "print 'the elements of a greater than 3 are', a[a > 3]\n",
    "print 'the elements of a excluding 5 are', a[a != 5]"
   ]
  },
  {
   "cell_type": "markdown",
   "metadata": {},
   "source": [
    "In this example the size of the numpy array is displayed using the **`size`** command. The mean and standard deviation of the array elements are calculated using the **`mean()`** and **`std()`** commands, respectively."
   ]
  },
  {
   "cell_type": "markdown",
   "metadata": {},
   "source": [
    "Numpy includes several nice ways to quickly generate arrays using the commands **`zeros()`**, **`ones()`** and **`arange()`**."
   ]
  },
  {
   "cell_type": "code",
   "execution_count": 5,
   "metadata": {
    "collapsed": false
   },
   "outputs": [
    {
     "name": "stdout",
     "output_type": "stream",
     "text": [
      "- Generate an array of zeros.\n",
      "  [ 0.  0.  0.  0.  0.  0.  0.  0.  0.  0.]\n",
      "\n",
      "- Generate an array of ones.\n",
      "  [ 1.  1.  1.  1.  1.  1.  1.  1.  1.  1.]\n",
      "\n",
      "- Generate a range of integers from 0 to 9.\n",
      "  [0 1 2 3 4 5 6 7 8 9]\n",
      "\n"
     ]
    }
   ],
   "source": [
    "print '- Generate an array of zeros.'\n",
    "print ' ', np.zeros(10)\n",
    "print ''\n",
    "\n",
    "print '- Generate an array of ones.'\n",
    "print ' ', np.ones(10)\n",
    "print ''\n",
    "\n",
    "print '- Generate a range of integers from 0 to 9.'\n",
    "print ' ', np.arange(10)\n",
    "print ''"
   ]
  },
  {
   "cell_type": "markdown",
   "metadata": {},
   "source": [
    "### Multidimensional Arrays\n",
    "\n",
    "The **`ndim`** command can be used to display the number of dimensions of a given array. while **`shape`** command can be used to display the size of each of the dimensions."
   ]
  },
  {
   "cell_type": "code",
   "execution_count": 6,
   "metadata": {
    "collapsed": false
   },
   "outputs": [
    {
     "name": "stdout",
     "output_type": "stream",
     "text": [
      "a has 2 dimensions\n",
      "the shape of a is (3, 3)\n"
     ]
    }
   ],
   "source": [
    "a = np.array([[1, 2, 3], [4, 5, 6], [7, 8, 9]])\n",
    "\n",
    "print 'a has', a.ndim, 'dimensions'\n",
    "print 'the shape of a is', a.shape"
   ]
  },
  {
   "cell_type": "markdown",
   "metadata": {},
   "source": [
    "It is also possible to change the shape of an existing array using the **`reshape()`** command."
   ]
  },
  {
   "cell_type": "code",
   "execution_count": 7,
   "metadata": {
    "collapsed": false
   },
   "outputs": [
    {
     "name": "stdout",
     "output_type": "stream",
     "text": [
      "x = [ 0  1  2  3  4  5  6  7  8  9 10 11 12 13 14 15]\n",
      "\n",
      "x = [[ 0  1  2  3]\n",
      " [ 4  5  6  7]\n",
      " [ 8  9 10 11]\n",
      " [12 13 14 15]]\n"
     ]
    }
   ],
   "source": [
    "x = np.arange(16)\n",
    "print 'x =', x\n",
    "print ''\n",
    "\n",
    "x = x.reshape(4, 4)\n",
    "print 'x =', x"
   ]
  },
  {
   "cell_type": "markdown",
   "metadata": {},
   "source": [
    "### Mathematical Operations\n",
    "\n",
    "One of the most useful features of numpy is that it allows element-wise mathematical operations."
   ]
  },
  {
   "cell_type": "code",
   "execution_count": 8,
   "metadata": {
    "collapsed": false
   },
   "outputs": [
    {
     "name": "stdout",
     "output_type": "stream",
     "text": [
      "x = [0 1 2 3 4]\n",
      "2x = [0 2 4 6 8]\n",
      "x^2 = [ 0  1  4  9 16]\n",
      "sqrt(x) = [ 0.          1.          1.41421356  1.73205081  2.        ]\n",
      "x * pi = [  0.           3.14159265   6.28318531   9.42477796  12.56637061]\n",
      "\n",
      "y = [7 9 2 3 2]\n",
      "x + y = [ 7 10  4  6  6]\n",
      "\n",
      "a =\n",
      "[[2 2]\n",
      " [2 2]]\n",
      "b =\n",
      "[[0 1]\n",
      " [2 3]]\n",
      "a * b =\n",
      "[[0 2]\n",
      " [4 6]]\n"
     ]
    }
   ],
   "source": [
    "x = np.arange(5)\n",
    "print 'x =', x\n",
    "print '2x =', 2 * x\n",
    "print 'x^2 =', x ** 2\n",
    "print 'sqrt(x) =', np.sqrt(x)\n",
    "print 'x * pi =', np.pi * x\n",
    "print ''\n",
    "\n",
    "y = np.array([7, 9, 2, 3, 2])\n",
    "print 'y =', y\n",
    "print 'x + y =', x + y\n",
    "print ''\n",
    "\n",
    "a = np.ones((2, 2)).astype(int) * 2\n",
    "b = np.arange(4).reshape(2, 2)\n",
    "print 'a ='\n",
    "print a\n",
    "print 'b ='\n",
    "print b\n",
    "print 'a * b ='\n",
    "print a * b"
   ]
  },
  {
   "cell_type": "markdown",
   "metadata": {},
   "source": [
    "---\n",
    "\n",
    "## Random Numbers\n",
    "\n",
    "The numpy **`random`** module (<a href=\"https://docs.scipy.org/doc/numpy/reference/routines.random.html\" target=\"_blank\">numpy.random</a>) contain various methods for generating random numbers."
   ]
  },
  {
   "cell_type": "code",
   "execution_count": 9,
   "metadata": {
    "collapsed": false
   },
   "outputs": [
    {
     "name": "stdout",
     "output_type": "stream",
     "text": [
      "- Generate an array of 10 random integers with values between 2 and 9.\n",
      "  [2 4 7 8 2 3 7 2 4 6]\n",
      "\n",
      "- Generate an array of 5 random floats with values between 0 and 1.\n",
      "  [ 0.83763648  0.93169243  0.7588618   0.31003726  0.91353357]\n",
      "\n",
      "- Generate an array of 5 Gaussian distributed random floats with values between -1 and 1.\n",
      "  [-0.75811755 -0.21855471 -0.5868432   0.29183421  0.81256019]\n",
      "\n",
      "- Generate an array of 5 Poisson distributed random integers.\n",
      "  [0 0 2 1 0]\n",
      "\n",
      "- Generate an 2D array of random numbers.\n",
      "  [[ 0.15594737  0.09846457  0.1642568   0.13904037  0.89445259]\n",
      " [ 0.58365273  0.397344    0.77478171  0.54908231  0.30587479]\n",
      " [ 0.35858792  0.52544045  0.5478804   0.79765923  0.01583088]\n",
      " [ 0.84271475  0.12152521  0.0023797   0.66132027  0.43793267]\n",
      " [ 0.92009158  0.81910957  0.78104538  0.7348352   0.91265858]]\n",
      "\n"
     ]
    }
   ],
   "source": [
    "print '- Generate an array of 10 random integers with values between 2 and 9.'\n",
    "print ' ', np.random.randint(2, 9, 10)\n",
    "print ''\n",
    "\n",
    "print '- Generate an array of 5 random floats with values between 0 and 1.'\n",
    "print ' ', np.random.ranf(5)\n",
    "print ''\n",
    "\n",
    "print '- Generate an array of 5 Gaussian distributed random floats with values between -1 and 1.'\n",
    "print ' ', np.random.randn(5)\n",
    "print ''\n",
    "\n",
    "print '- Generate an array of 5 Poisson distributed random integers.'\n",
    "print ' ', np.random.poisson(1, 5)\n",
    "print ''\n",
    "\n",
    "\n",
    "print '- Generate an 2D array of random numbers.'\n",
    "print ' ', np.random.rand(5, 5)\n",
    "print ''"
   ]
  },
  {
   "cell_type": "markdown",
   "metadata": {},
   "source": [
    "---\n",
    "\n",
    "## Reading and Writing Files\n",
    "\n",
    "Numpy provides some advatages over native Python in terms of reading and writing files.\n",
    "\n",
    "### ASCII Files\n",
    "\n",
    "ASCII (plain text) files can be read using the **`genfromtxt()`** command (<a href=\"https://docs.scipy.org/doc/numpy/reference/generated/numpy.genfromtxt.html\" target=\"_blank\">numpy.genfromtxt</a>) as follows"
   ]
  },
  {
   "cell_type": "code",
   "execution_count": 73,
   "metadata": {
    "collapsed": false
   },
   "outputs": [
    {
     "name": "stdout",
     "output_type": "stream",
     "text": [
      "('Name', 'Age', 'Colour', 'Weapon')\n",
      "\n",
      "('Leonardo', 15, 'blue', 'Katana')\n",
      "('Raphael', 15, 'Red', 'Sai')\n",
      "('Donatello', 14, 'Purple', 'Bo-staff')\n",
      "('Michelangelo', 13, 'Orange', 'Nunchucks')\n",
      "\n",
      "The average age is 14.25\n"
     ]
    }
   ],
   "source": [
    "# Read in the file\n",
    "data = np.genfromtxt('materials/ninja_turtles.txt', names=True, dtype=None)\n",
    "\n",
    "# Print the column names\n",
    "print data.dtype.names\n",
    "print ''\n",
    "\n",
    "# Print the rows\n",
    "for line in data:\n",
    "    print line\n",
    "\n",
    "print ''\n",
    "\n",
    "# Calculate the average age\n",
    "print 'The average age is', data['Age'].mean()"
   ]
  },
  {
   "cell_type": "markdown",
   "metadata": {},
   "source": [
    "In the example above a file called `ninja_turtles.txt` which is in the directory `materials` is read in. The first row\n",
    "of this file provides column names which are stored in `dtype.names` using the **`names`** option. Setting the **`dtype`** as `None` allows the command to assign the appropriate data type to each column in the file.\n",
    "\n",
    "Data can be saved to an ASCII file using the **`savetxt()`** command (<a href=\"https://docs.scipy.org/doc/numpy/reference/generated/numpy.savetxt.html\" target=\"_blank\">numpy.savetext</a>) as follows "
   ]
  },
  {
   "cell_type": "code",
   "execution_count": 84,
   "metadata": {
    "collapsed": false
   },
   "outputs": [],
   "source": [
    "string = 'average turtle age is ' + str(data['Age'].mean())\n",
    "\n",
    "np.savetxt('materials/turtle_age.txt', [string], fmt='%s')"
   ]
  },
  {
   "cell_type": "markdown",
   "metadata": {},
   "source": [
    "### Binary Files\n",
    "\n",
    "Numpy arrays can also be read in or saved to special numpy binary files (`.npy` extension) using the **`load()`** and **`save()`** commands (<a href=\"https://docs.scipy.org/doc/numpy/reference/generated/numpy.save.html\" target=\"_blank\">numpy.save</a>, <a href=\"https://docs.scipy.org/doc/numpy/reference/generated/numpy.load.html\" target=\"_blank\">numpy.load</a>), respectively."
   ]
  },
  {
   "cell_type": "code",
   "execution_count": 89,
   "metadata": {
    "collapsed": false
   },
   "outputs": [
    {
     "name": "stdout",
     "output_type": "stream",
     "text": [
      "[('Leonardo', 15, 'blue', 'Katana') ('Raphael', 15, 'Red', 'Sai')\n",
      " ('Donatello', 14, 'Purple', 'Bo-staff')\n",
      " ('Michelangelo', 13, 'Orange', 'Nunchucks')]\n",
      "\n",
      "[('Leonardo', 16, 'blue', 'Katana') ('Raphael', 16, 'Red', 'Sai')\n",
      " ('Donatello', 15, 'Purple', 'Bo-staff')\n",
      " ('Michelangelo', 14, 'Orange', 'Nunchucks')]\n"
     ]
    }
   ],
   "source": [
    "# Read in the numpy binary file\n",
    "data = np.load('materials/ninja_turtles.npy')\n",
    "\n",
    "# Print the array contents\n",
    "print data\n",
    "print ''\n",
    "\n",
    "# Increase ages by 1\n",
    "data['Age'] += 1\n",
    "print data\n",
    "\n",
    "# Save new data to a binary file\n",
    "np.save('materials/ninja_turtles_new.npy', data)"
   ]
  },
  {
   "cell_type": "markdown",
   "metadata": {},
   "source": [
    "---\n",
    "\n",
    "## Linear Algebra\n",
    "\n",
    "Numpy also handles linear algebra (<a href=\"https://docs.scipy.org/doc/numpy/reference/routines.linalg.html\">numpy.linalg</a>). For example, you can multiply two matrices using the **`dot()`** command."
   ]
  },
  {
   "cell_type": "code",
   "execution_count": 10,
   "metadata": {
    "collapsed": false
   },
   "outputs": [
    {
     "name": "stdout",
     "output_type": "stream",
     "text": [
      "x =\n",
      "[[1 6 3]\n",
      " [1 8 3]\n",
      " [4 0 0]]\n",
      "\n",
      "y =\n",
      "[[1 1 2]\n",
      " [2 8 8]\n",
      " [4 0 3]]\n",
      "\n",
      "xy =\n",
      "[[25 49 59]\n",
      " [29 65 75]\n",
      " [ 4  4  8]]\n"
     ]
    }
   ],
   "source": [
    "x = np.random.randint(0, 9, (3, 3))\n",
    "print 'x ='\n",
    "print x\n",
    "print ''\n",
    "\n",
    "y = np.random.randint(0, 9, (3, 3))\n",
    "print 'y ='\n",
    "print y\n",
    "print ''\n",
    "\n",
    "print 'xy ='\n",
    "print np.dot(x, y)"
   ]
  },
  {
   "cell_type": "markdown",
   "metadata": {},
   "source": [
    "You can also calculate the inverse of a matrix"
   ]
  },
  {
   "cell_type": "code",
   "execution_count": 93,
   "metadata": {
    "collapsed": false
   },
   "outputs": [
    {
     "name": "stdout",
     "output_type": "stream",
     "text": [
      "a^-1 =\n",
      "[[-2.   1. ]\n",
      " [ 1.5 -0.5]]\n"
     ]
    }
   ],
   "source": [
    "a = np.array([[1., 2.], [3., 4.]])\n",
    "\n",
    "print 'a^-1 ='\n",
    "print np.linalg.inv(a)"
   ]
  },
  {
   "cell_type": "markdown",
   "metadata": {},
   "source": [
    "or you can calculate the $l_2$-norm of a matrix using the **`norm`** command"
   ]
  },
  {
   "cell_type": "code",
   "execution_count": 11,
   "metadata": {
    "collapsed": false
   },
   "outputs": [
    {
     "name": "stdout",
     "output_type": "stream",
     "text": [
      "x = [[ 0.64758246  0.69747508  0.39679684]\n",
      " [ 0.12249095  0.35390599  0.25149235]\n",
      " [ 0.91941756  0.92663294  0.33604258]]\n",
      "\n",
      "||x|| = 1.75604271172\n"
     ]
    }
   ],
   "source": [
    "x = np.random.ranf((3, 3))\n",
    "print 'x =', x\n",
    "print ''\n",
    "print '||x|| =', np.linalg.norm(x)"
   ]
  },
  {
   "cell_type": "markdown",
   "metadata": {},
   "source": [
    "---\n",
    "\n",
    "## Exercises\n",
    "\n",
    "### Exercise 2.1\n",
    "\n",
    "Read in the file called `nearest_stars.txt` in the directory `materials` and determine the standard deviation of the distances of the stars with spectral type `M`."
   ]
  },
  {
   "cell_type": "code",
   "execution_count": 94,
   "metadata": {
    "collapsed": true
   },
   "outputs": [],
   "source": [
    "# Implement your code here"
   ]
  },
  {
   "cell_type": "markdown",
   "metadata": {},
   "source": [
    "### Exercise 2.2\n",
    "\n",
    "Generate a three dimensional array of random floats with shape (3, 4, 4) using a random seed of 8. For each 4 x 4 matrix in the array calculate the $l_1$-norm and then calculate the mean of these values.\n",
    "\n",
    "**HINT:** Make sure you check the documentation pages for commands that are not mentioned in this notebook."
   ]
  },
  {
   "cell_type": "code",
   "execution_count": null,
   "metadata": {
    "collapsed": true
   },
   "outputs": [],
   "source": [
    "# Implement your code here"
   ]
  }
 ],
 "metadata": {
  "kernelspec": {
   "display_name": "Python 2",
   "language": "python",
   "name": "python2"
  },
  "language_info": {
   "codemirror_mode": {
    "name": "ipython",
    "version": 2
   },
   "file_extension": ".py",
   "mimetype": "text/x-python",
   "name": "python",
   "nbconvert_exporter": "python",
   "pygments_lexer": "ipython2",
   "version": "2.7.11"
  }
 },
 "nbformat": 4,
 "nbformat_minor": 0
}
