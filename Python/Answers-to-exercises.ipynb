{
 "cells": [
  {
   "cell_type": "markdown",
   "metadata": {},
   "source": [
    "# 5 Answers to Exercises\n",
    "\n",
    "---\n",
    "\n",
    "> Author: <font color='#f78c40'>Samuel Farrens</font>    \n",
    "> Year: 2017  \n",
    "> Email: [samuel.farrens@gmail.com](mailto:samuel.farrens@gmail.com)  \n",
    "> Website: <a href=\"https://sfarrens.github.io\" target=\"_blank\">https://sfarrens.github.io</a>\n",
    "\n",
    "---\n",
    "\n",
    "## Contents\n",
    "\n",
    "1. [Native Python](#Native-Python)\n",
    " * [Execise 1.1](#Exercise-1.1)\n",
    " * [Execise 1.2](#Exercise-1.2)\n",
    " * [Execise 1.3](#Exercise-1.3)\n",
    "1. [Numpy](#Numpy)\n",
    " * [Execise 2.1](#Exercise-2.1)\n",
    "1. [Matplotlib](#Matplotlib)\n",
    "1. [Other Packages](#Other-Packages)\n",
    "\n",
    "---\n",
    "\n",
    "## Native Python\n",
    "\n",
    "### Exercise 1.1\n",
    "\n",
    "The equation $F = \\frac{Gm_1m_2}{r^2}$ can be implemented as follows"
   ]
  },
  {
   "cell_type": "code",
   "execution_count": 1,
   "metadata": {
    "collapsed": true
   },
   "outputs": [],
   "source": [
    "def force(m1, m2, r):\n",
    "    \"\"\"Grvaitational Force\n",
    "    \n",
    "    Function to calculate the gravitational attraction between two bodies.\n",
    "    \n",
    "    \"\"\"\n",
    "    \n",
    "    return 6.674e-11 * m1 * m2 / r ** 2"
   ]
  },
  {
   "cell_type": "markdown",
   "metadata": {},
   "source": [
    "and the force between the Earth and the Moon is given by"
   ]
  },
  {
   "cell_type": "code",
   "execution_count": 2,
   "metadata": {
    "collapsed": false
   },
   "outputs": [
    {
     "name": "stdout",
     "output_type": "stream",
     "text": [
      "1.9859691459e+20 N\n"
     ]
    }
   ],
   "source": [
    "print force(5.9742e24, 7.36e22, 384402 * 1e3), 'N'"
   ]
  },
  {
   "cell_type": "markdown",
   "metadata": {},
   "source": [
    "### Exercise 1.2\n",
    "\n",
    "The variance of the sample $x = [2, 4, 4, 4, 5, 5, 7, 9]$ can be calculated as follows"
   ]
  },
  {
   "cell_type": "code",
   "execution_count": 3,
   "metadata": {
    "collapsed": false
   },
   "outputs": [
    {
     "name": "stdout",
     "output_type": "stream",
     "text": [
      "variance = 4\n"
     ]
    }
   ],
   "source": [
    "# Define the list of values \n",
    "x = [2, 4, 4, 4, 5, 5, 7, 9]\n",
    "\n",
    "# Calculate the mean value of x\n",
    "mean = sum(x) / len(x)\n",
    "\n",
    "# Calculate the square differences between each value and the mean\n",
    "square_diff = [(i - mean) **2 for i in x]\n",
    "\n",
    "# Calculate the variance\n",
    "variance = sum(square_diff) / len(x)\n",
    "\n",
    "print 'variance =', variance"
   ]
  },
  {
   "cell_type": "markdown",
   "metadata": {},
   "source": [
    "You can check if the value of the variance is in $x$ and count how many times it occurs as follows"
   ]
  },
  {
   "cell_type": "code",
   "execution_count": 4,
   "metadata": {
    "collapsed": false
   },
   "outputs": [
    {
     "name": "stdout",
     "output_type": "stream",
     "text": [
      "The variance value is in x: True\n",
      "The variance value occurs 3 times in x.\n"
     ]
    }
   ],
   "source": [
    "print 'The variance value is in x:', variance in x\n",
    "print 'The variance value occurs', x.count(variance), 'times in x.'"
   ]
  },
  {
   "cell_type": "markdown",
   "metadata": {},
   "source": [
    "### Exercise 1.3\n",
    "\n",
    "You can write a class to convert between degrees and radians as follows"
   ]
  },
  {
   "cell_type": "code",
   "execution_count": 5,
   "metadata": {
    "collapsed": true
   },
   "outputs": [],
   "source": [
    "class angleConverter(object):\n",
    "    \"\"\"Angle Converter Class\n",
    "    \n",
    "    This class converts angles between degrees and radians.\n",
    "    \n",
    "    \"\"\"\n",
    "    \n",
    "    def __init__(self):\n",
    "        \n",
    "        self.pi = 3.14159\n",
    "        \n",
    "    def deg2rad(self, angle):\n",
    "        \"\"\"Convert input angle from degrees to radians\n",
    "\n",
    "        \"\"\"\n",
    "        \n",
    "        return angle * self.pi / 180.0\n",
    "    \n",
    "    def rad2deg(self, angle):\n",
    "        \"\"\"Convert input angle from radians to degrees\n",
    "\n",
    "        \"\"\"\n",
    "        \n",
    "        return angle * 180.0 / self.pi"
   ]
  },
  {
   "cell_type": "markdown",
   "metadata": {},
   "source": [
    "and you can implement the class on the angles as follows"
   ]
  },
  {
   "cell_type": "code",
   "execution_count": 6,
   "metadata": {
    "collapsed": false
   },
   "outputs": [
    {
     "name": "stdout",
     "output_type": "stream",
     "text": [
      "45 deg is 0.7853975 radians\n",
      "30 deg is 0.523598333333 radians\n",
      "135 deg is 2.3561925 radians\n",
      "pi radians is 180.0 degrees\n",
      "2pi/3 radians is 120.0 degrees\n",
      "5pi/6 radians is 150.0 degrees\n"
     ]
    }
   ],
   "source": [
    "# Define an instance of the class\n",
    "ac = angleConverter()\n",
    "\n",
    "# Use the class methods\n",
    "print '45 deg is', ac.deg2rad(45), 'radians'\n",
    "print '30 deg is', ac.deg2rad(30), 'radians'\n",
    "print '135 deg is', ac.deg2rad(135), 'radians'\n",
    "print 'pi radians is', ac.rad2deg(ac.pi), 'degrees'\n",
    "print '2pi/3 radians is', ac.rad2deg(2 * ac.pi / 3), 'degrees'\n",
    "print '5pi/6 radians is', ac.rad2deg(5 * ac.pi / 6), 'degrees'"
   ]
  },
  {
   "cell_type": "markdown",
   "metadata": {
    "collapsed": true
   },
   "source": [
    "---\n",
    "\n",
    "## Numpy\n",
    "\n",
    "### Exercise 2.1\n",
    "\n",
    "You can read in the file and determine the standard deviation of the distances of the stars with spectral type M as follows"
   ]
  },
  {
   "cell_type": "code",
   "execution_count": 7,
   "metadata": {
    "collapsed": false
   },
   "outputs": [
    {
     "name": "stdout",
     "output_type": "stream",
     "text": [
      "The standard deviation is 1.59826804757\n"
     ]
    }
   ],
   "source": [
    "# Import the numpy package\n",
    "import numpy as np\n",
    "\n",
    "# Read the ASCII file\n",
    "data = np.genfromtxt('materials/nearest_stars.txt', names=True, dtype=None, delimiter=',')\n",
    "\n",
    "# Calculate the standard deviation of the M type stars\n",
    "print 'The standard deviation is', data[data['Spectral_Type'] == 'M']['Distance'].std()"
   ]
  },
  {
   "cell_type": "markdown",
   "metadata": {},
   "source": [
    "### Exercise 2.2\n",
    "\n",
    "You can generate the array of random floats and calculate the mean $l_1$-norm for each 4x4 matrix as follows"
   ]
  },
  {
   "cell_type": "code",
   "execution_count": 9,
   "metadata": {
    "collapsed": false
   },
   "outputs": [
    {
     "name": "stdout",
     "output_type": "stream",
     "text": [
      "The mean l1-norm is 4.69121110219\n"
     ]
    }
   ],
   "source": [
    "# Import the numpy package\n",
    "import numpy as np\n",
    "\n",
    "# Set a random seed of 8\n",
    "np.random.seed(8)\n",
    "\n",
    "# Generate an array of random floats\n",
    "x = np.random.ranf((3, 4, 4))\n",
    "\n",
    "# Calculate the mean l1-norm of each 4x4 matrix\n",
    "print 'The mean l1-norm is', np.linalg.norm(x * 2, axis=(1, 2)).mean()"
   ]
  }
 ],
 "metadata": {
  "kernelspec": {
   "display_name": "Python 2",
   "language": "python",
   "name": "python2"
  },
  "language_info": {
   "codemirror_mode": {
    "name": "ipython",
    "version": 2
   },
   "file_extension": ".py",
   "mimetype": "text/x-python",
   "name": "python",
   "nbconvert_exporter": "python",
   "pygments_lexer": "ipython2",
   "version": "2.7.11"
  }
 },
 "nbformat": 4,
 "nbformat_minor": 0
}
