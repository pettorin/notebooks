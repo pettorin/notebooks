{
 "cells": [
  {
   "cell_type": "markdown",
   "metadata": {},
   "source": [
    "# Introduction to Low-Rank Approximation\n",
    "\n",
    "---\n",
    "\n",
    "> Author: <font color='#f78c40'>Samuel Farrens</font>    \n",
    "> Year: 2017  \n",
    "> Email: [samuel.farrens@gmail.com](mailto:samuel.farrens@gmail.com)  \n",
    "> Website: <a href=\"https://sfarrens.github.io\" target=\"_blank\">https://sfarrens.github.io</a>\n",
    "\n",
    "---\n",
    "\n",
    "\n",
    "## Contents\n",
    "\n",
    "---\n",
    " \n",
    "1. [Set-Up](#Set-Up)\n",
    "1. [Introduction](#Introduction)\n",
    "1. [Rank of a Matrix](#Rank-of-a-Matrix)\n",
    " * [Full Rank Matrix](#Full-Rank-Matrix) \n",
    " * [Reduced Rank Matrix](#Reduced-Rank-Matrix) \n",
    " * [Uneven Matrix](#Uneven-Matrix)\n",
    "1. [Singular Value Decomposition](#Singular-Value-Decomposition) \n",
    " * [Reducing the Rank](#Reducing-the-Rank)\n",
    " * [Hard Thresholding](#Hard-Thresholding)\n",
    "1. [Low Rank Approximation](#Low-Rank-Approximation)\n",
    "1. [Hints](#Hints)\n",
    "1. [Exercise Solutions](#Exercise-Solutions)"
   ]
  },
  {
   "cell_type": "markdown",
   "metadata": {},
   "source": [
    "---\n",
    "\n",
    "## Set-Up\n",
    "\n",
    "Here we will import a couple of packages that we will need throughout the notebook."
   ]
  },
  {
   "cell_type": "code",
   "execution_count": 1,
   "metadata": {
    "collapsed": true
   },
   "outputs": [],
   "source": [
    "# Tell Jupyter to display plots in this notebook.\n",
    "%matplotlib inline\n",
    "\n",
    "# Import the numpy package with the alias np.\n",
    "import numpy as np           \n",
    "\n",
    "# Import the pyplot package from matplotlib with the alias plt.\n",
    "import matplotlib.pyplot as plt  \n",
    "from matplotlib import pylab\n",
    "pylab.rcParams['figure.figsize'] = (10.0, 8.0)\n",
    "\n",
    "# Ignore warnings.\n",
    "import warnings\n",
    "warnings.filterwarnings(\"ignore\")"
   ]
  },
  {
   "cell_type": "markdown",
   "metadata": {},
   "source": [
    "---\n",
    "\n",
    "## Introduction\n",
    "\n"
   ]
  },
  {
   "cell_type": "markdown",
   "metadata": {},
   "source": [
    "---\n",
    "\n",
    "## Rank of a Matrix\n",
    "\n",
    "The rank of a matrix can be defined in the following ways:\n",
    "\n",
    "1. the maximum number of linearly independent column vectors in a given matrix\n",
    "1. the maximum number of linearly independent row vectors in a given matrix\n",
    "\n",
    "Both of these definitions are equivalent.\n",
    "\n",
    "### <font color='blue'>Full Rank Matrix</font>\n",
    "\n",
    "For the matrix\n",
    "\n",
    "$$ A = \\begin{bmatrix} 6 & 1 & 2 \\\\ 5 & 6 & 1 \\\\ 5 & 7 & 7 \\end{bmatrix} $$\n",
    "\n",
    "the rank is given by\n",
    "\n",
    "$$\\textrm{rank}(A) = 3$$\n",
    "\n",
    "since all three rows are linearly idependent. $A$ is then said to have **full rank**.\n",
    "\n",
    "This can be implemented in Python as follows"
   ]
  },
  {
   "cell_type": "code",
   "execution_count": 2,
   "metadata": {
    "collapsed": false
   },
   "outputs": [
    {
     "name": "stdout",
     "output_type": "stream",
     "text": [
      "A =\n",
      "[[6 1 2]\n",
      " [5 6 1]\n",
      " [5 7 7]]\n",
      "\n",
      "rank(A) = 3\n"
     ]
    }
   ],
   "source": [
    "A = np.array([[6, 1, 2], [5, 6, 1], [5, 7, 7]])\n",
    "\n",
    "print 'A ='\n",
    "print A\n",
    "print ''\n",
    "print 'rank(A) =', np.linalg.matrix_rank(A)"
   ]
  },
  {
   "cell_type": "markdown",
   "metadata": {},
   "source": [
    "### <font color='blue'>Reduced Rank Matrix</font>\n",
    "\n",
    "For the matrix\n",
    "\n",
    "$$ A = \\begin{bmatrix} 1 & 0 & 1 \\\\ -2 & -3 & 1 \\\\ 3 & 3 & 0 \\end{bmatrix} $$\n",
    "\n",
    "the rank is given by\n",
    "\n",
    "$$\\textrm{rank}(A) = 2$$\n",
    "\n",
    "since the third row is simply the difference of the first two, which are linearly idependent. In this case $A$ is **rank deficient** or has **reduced rank**."
   ]
  },
  {
   "cell_type": "code",
   "execution_count": 3,
   "metadata": {
    "collapsed": false
   },
   "outputs": [
    {
     "name": "stdout",
     "output_type": "stream",
     "text": [
      "A =\n",
      "[[ 1  0  1]\n",
      " [-2 -3  1]\n",
      " [ 3  3  0]]\n",
      "\n",
      "rank(A) = 2\n"
     ]
    }
   ],
   "source": [
    "A = np.array([[1, 0, 1], [-2, -3, 1], [3, 3, 0]])\n",
    "\n",
    "print 'A ='\n",
    "print A\n",
    "print ''\n",
    "print 'rank(A) =', np.linalg.matrix_rank(A)"
   ]
  },
  {
   "cell_type": "markdown",
   "metadata": {},
   "source": [
    "### <font color='blue'>Uneven Matrix</font>\n",
    "\n",
    "For a matrix $\\in\\mathbb{R}^{m\\times n}$, if $m>n$ then the maximum rank of the matrix is $n$ (*i.e.* if the matrix has more rows than columns then the maximum value of the rank is the number of columns). Conversely, if $m<n$ then the maximum rank is $m$."
   ]
  },
  {
   "cell_type": "code",
   "execution_count": 25,
   "metadata": {
    "collapsed": false
   },
   "outputs": [
    {
     "name": "stdout",
     "output_type": "stream",
     "text": [
      "A is 5 x 3\n",
      "A =\n",
      "[[-4  2  3]\n",
      " [-1  0  2]\n",
      " [-4  6 -9]\n",
      " [ 7 -8  3]\n",
      " [-2  4 -3]]\n",
      "\n",
      "rank(A) = 3\n",
      "\n",
      "B is 3 x 2\n",
      "B =\n",
      "[[-4  2]\n",
      " [ 1  5]\n",
      " [-5  0]]\n",
      "\n",
      "rank(B) = 2\n"
     ]
    }
   ],
   "source": [
    "np.random.seed(1)\n",
    "A = np.random.randint(-9, 9, (5, 3))\n",
    "B = np.random.randint(-9, 9, (3, 2))\n",
    "\n",
    "print 'A is 5 x 3'\n",
    "print 'A ='\n",
    "print A\n",
    "print ''\n",
    "print 'rank(A) =', np.linalg.matrix_rank(A)\n",
    "print ''\n",
    "print 'B is 3 x 2'\n",
    "print 'B ='\n",
    "print B\n",
    "print ''\n",
    "print 'rank(B) =', np.linalg.matrix_rank(B)"
   ]
  },
  {
   "cell_type": "markdown",
   "metadata": {},
   "source": [
    "## Singular Value Decomposition\n",
    "\n",
    "The rank of a matrix can also be measured by counting the number of non-zero singular values.\n",
    "\n",
    "The <a href=\"https://en.wikipedia.org/wiki/Singular_value_decomposition\" target=\"_blank\">SVD</a> of a matrix $A$ is given by\n",
    "\n",
    "$$A = U\\Sigma V^T$$\n",
    "\n",
    "and thus the rank of $A$ is\n",
    "\n",
    "$$\\textrm{rank}(A) = \\|\\Sigma\\|_0$$"
   ]
  },
  {
   "cell_type": "code",
   "execution_count": 4,
   "metadata": {
    "collapsed": false
   },
   "outputs": [
    {
     "name": "stdout",
     "output_type": "stream",
     "text": [
      "A =\n",
      "[[ 1  0  1]\n",
      " [-2 -3  1]\n",
      " [ 3  3  0]]\n",
      "\n",
      "Sigma =\n",
      "[[ 5.61  0.    0.  ]\n",
      " [ 0.    1.61  0.  ]\n",
      " [ 0.    0.    0.  ]]\n",
      "\n",
      "rank(A) = 2\n"
     ]
    }
   ],
   "source": [
    "# Define the matrix A\n",
    "A = np.array([[1, 0, 1], [-2, -3, 1], [3, 3, 0]])\n",
    "\n",
    "# Calculate the SVD of A\n",
    "U, S, V = np.linalg.svd(A)\n",
    "\n",
    "# Round the values of S to two decimal places. Comment out this operation to see why this is done.\n",
    "S = np.around(S, 2)\n",
    "\n",
    "print 'A ='\n",
    "print A\n",
    "print ''\n",
    "print 'Sigma ='\n",
    "print np.diag(S)\n",
    "print ''\n",
    "print 'rank(A) =', sum(S > 0)\n"
   ]
  },
  {
   "cell_type": "markdown",
   "metadata": {},
   "source": [
    "### <font color='blue'>Reducing the Rank</font>\n",
    "\n",
    "By definition setting one or more singular values to zero reduces the rank of a given matrix.\n",
    "\n",
    "For example, for a matrix with rank 2"
   ]
  },
  {
   "cell_type": "code",
   "execution_count": 8,
   "metadata": {
    "collapsed": false
   },
   "outputs": [
    {
     "name": "stdout",
     "output_type": "stream",
     "text": [
      "A =\n",
      "[[ 7  3 -4]\n",
      " [-5  1  2]\n",
      " [ 2  4 -2]]\n",
      "\n",
      "Sigma =\n",
      "[[ 10.55   0.     0.  ]\n",
      " [  0.     4.09   0.  ]\n",
      " [  0.     0.     0.  ]]\n",
      "\n",
      "rank(A) = 2\n"
     ]
    }
   ],
   "source": [
    "# Define the matrix A\n",
    "A = np.array([[7, 3, -4], [-5, 1, 2], [2, 4, -2]])\n",
    "\n",
    "# Calculate the SVD of A\n",
    "U, S, V = np.linalg.svd(A)\n",
    "S = np.around(S, 2)\n",
    "\n",
    "print 'A ='\n",
    "print A\n",
    "print ''\n",
    "print 'Sigma ='\n",
    "print np.diag(S)\n",
    "print ''\n",
    "print 'rank(A) =', np.linalg.matrix_rank(A) "
   ]
  },
  {
   "cell_type": "markdown",
   "metadata": {},
   "source": [
    "the rank is reduced to 1 when the second singular value is set to zero."
   ]
  },
  {
   "cell_type": "code",
   "execution_count": 12,
   "metadata": {
    "collapsed": false
   },
   "outputs": [
    {
     "name": "stdout",
     "output_type": "stream",
     "text": [
      "Sigma =\n",
      "[[ 10.55   0.     0.  ]\n",
      " [  0.     0.     0.  ]\n",
      " [  0.     0.     0.  ]]\n",
      "\n",
      "B =\n",
      "[[ 7.0744821   2.8325134  -3.98817734]\n",
      " [-3.87488447 -1.55144391  2.18443219]\n",
      " [ 3.19959763  1.28106949 -1.80374515]]\n",
      "\n",
      "rank(B) = 1\n"
     ]
    }
   ],
   "source": [
    "#Set the second singular value to 0\n",
    "S[1] = 0\n",
    "\n",
    "# Create a new matrix with the updated singular values\n",
    "B = np.dot(U, np.dot(np.diag(S), V))\n",
    "\n",
    "print 'Sigma ='\n",
    "print np.diag(S)\n",
    "print ''\n",
    "print 'B ='\n",
    "print B\n",
    "print ''\n",
    "print 'rank(B) =', np.linalg.matrix_rank(B)"
   ]
  },
  {
   "cell_type": "markdown",
   "metadata": {},
   "source": [
    "### <font color='blue'>Hard Thresholding</font>\n",
    "\n",
    "Another way of looking at this would be apply a **Hard Threshold** to the singular values of the matrix.\n",
    "\n",
    "$$ \n",
    "HT_{\\lambda}(\\mathbf{x}) = \n",
    "\\begin{cases} \n",
    "\\mathbf{x} & \\text{if}\\ |\\mathbf{x}| \\geq \\lambda \\\\ \n",
    "0 & \\text{otherwise} \\\\\n",
    "\\end{cases}\n",
    "$$"
   ]
  },
  {
   "cell_type": "code",
   "execution_count": 7,
   "metadata": {
    "collapsed": true
   },
   "outputs": [],
   "source": [
    "def hard_thresh(value, threshold):\n",
    "    '''Hard Threshold\n",
    "    \n",
    "    Returns hard threshold of input\n",
    "    \n",
    "    '''\n",
    "    \n",
    "    return value * (np.abs(value) >= threshold)"
   ]
  },
  {
   "cell_type": "markdown",
   "metadata": {},
   "source": [
    "For example, for a full rank matrix $A$ ($\\textrm{rank}(A)=3$)"
   ]
  },
  {
   "cell_type": "code",
   "execution_count": 14,
   "metadata": {
    "collapsed": false
   },
   "outputs": [
    {
     "name": "stdout",
     "output_type": "stream",
     "text": [
      "A =\n",
      "[[-4  2  3]\n",
      " [-1  0  2]\n",
      " [-4  6 -9]]\n",
      "\n",
      "Sigma =\n",
      "[[ 11.6    0.     0.  ]\n",
      " [  0.     5.7    0.  ]\n",
      " [  0.     0.     0.06]]\n",
      "\n",
      "rank(A) = 3\n"
     ]
    }
   ],
   "source": [
    "# Define a matrix of random values with seed 1\n",
    "np.random.seed(1)\n",
    "A = np.random.randint(-9, 9, (3, 3))\n",
    "\n",
    "# Calculate the SVD of A\n",
    "U, S, V = np.linalg.svd(A)\n",
    "S = np.around(S, 2)\n",
    "\n",
    "print 'A ='\n",
    "print A\n",
    "print ''\n",
    "print 'Sigma ='\n",
    "print np.diag(S)\n",
    "print ''\n",
    "print 'rank(A) =', np.linalg.matrix_rank(A) "
   ]
  },
  {
   "cell_type": "markdown",
   "metadata": {},
   "source": [
    "a new matrix $B$ with a rank of 1 can be obtained by applying a hard threshold with $\\lambda=6$ to the singular values of $A$."
   ]
  },
  {
   "cell_type": "code",
   "execution_count": 17,
   "metadata": {
    "collapsed": false
   },
   "outputs": [
    {
     "name": "stdout",
     "output_type": "stream",
     "text": [
      "HT(Sigma) =\n",
      "[[ 11.6   0.    0. ]\n",
      " [  0.    0.    0. ]\n",
      " [  0.    0.    0. ]]\n",
      "\n",
      "B =\n",
      "[[  2.97190857e-03  -4.58421109e-03   7.04517481e-03]\n",
      " [  4.15802665e-01  -6.41381504e-01   9.85697370e-01]\n",
      " [ -3.84445041e+00   5.93011925e+00  -9.11361321e+00]]\n",
      "\n",
      "rank(B) = 1\n"
     ]
    }
   ],
   "source": [
    "# Hard threshold values of sigma\n",
    "S_ht = hard_thresh(S, 6)\n",
    "\n",
    "# Create a new matrix with the updated singular values\n",
    "B = np.dot(U, np.dot(np.diag(S_ht), V))\n",
    "\n",
    "print 'HT(Sigma) ='\n",
    "print np.diag(S_ht)\n",
    "print ''\n",
    "print 'B ='\n",
    "print B\n",
    "print ''\n",
    "print 'rank(B) =', np.linalg.matrix_rank(B)"
   ]
  },
  {
   "cell_type": "markdown",
   "metadata": {},
   "source": [
    "Therefore, with an appropriate threshold, one can reduce the rank of a given matrix."
   ]
  },
  {
   "cell_type": "markdown",
   "metadata": {},
   "source": [
    "---\n",
    "\n",
    "## Low Rank Approximation\n",
    "\n",
    "The <a href=\"https://en.wikipedia.org/wiki/Low-rank_approximation\" target=\"_blank\">low-rank approximation</a> is minimisation constraint (regularisation) that is subject to the condition that the matrix one wishes to obtain has reduced rank."
   ]
  },
  {
   "cell_type": "code",
   "execution_count": null,
   "metadata": {
    "collapsed": true
   },
   "outputs": [],
   "source": []
  }
 ],
 "metadata": {
  "kernelspec": {
   "display_name": "Python 2",
   "language": "python",
   "name": "python2"
  },
  "language_info": {
   "codemirror_mode": {
    "name": "ipython",
    "version": 2
   },
   "file_extension": ".py",
   "mimetype": "text/x-python",
   "name": "python",
   "nbconvert_exporter": "python",
   "pygments_lexer": "ipython2",
   "version": "2.7.11"
  }
 },
 "nbformat": 4,
 "nbformat_minor": 0
}
