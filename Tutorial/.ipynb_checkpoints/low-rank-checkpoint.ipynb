{
 "cells": [
  {
   "cell_type": "markdown",
   "metadata": {},
   "source": [
    "# Introduction to Low-Rank Approximation\n",
    "\n",
    "---\n",
    "\n",
    "> Author: <font color='#f78c40'>Samuel Farrens</font>    \n",
    "> Year: 2017  \n",
    "> Email: [samuel.farrens@gmail.com](mailto:samuel.farrens@gmail.com)  \n",
    "> Website: <a href=\"https://sfarrens.github.io\" target=\"_blank\">https://sfarrens.github.io</a>\n",
    "\n",
    "---\n",
    "\n",
    "\n",
    "## Contents\n",
    "\n",
    "---\n",
    " \n",
    "1. [Set-Up](#Set-Up)\n",
    "1. [Introduction](#Introduction)\n",
    "1. [Hints](#Hints)\n",
    "1. [Exercise Solutions](#Exercise-Solutions)"
   ]
  },
  {
   "cell_type": "markdown",
   "metadata": {},
   "source": [
    "---\n",
    "\n",
    "## Set-Up\n",
    "\n",
    "Here we will import a couple of packages that we will need throughout the notebook."
   ]
  },
  {
   "cell_type": "code",
   "execution_count": 1,
   "metadata": {
    "collapsed": true
   },
   "outputs": [],
   "source": [
    "# Tell Jupyter to display plots in this notebook.\n",
    "%matplotlib inline\n",
    "\n",
    "# Import the numpy package with the alias np.\n",
    "import numpy as np           \n",
    "\n",
    "# Import the pyplot package from matplotlib with the alias plt.\n",
    "import matplotlib.pyplot as plt  \n",
    "from matplotlib import pylab\n",
    "pylab.rcParams['figure.figsize'] = (10.0, 8.0)\n",
    "\n",
    "# Ignore warnings.\n",
    "import warnings\n",
    "warnings.filterwarnings(\"ignore\")"
   ]
  },
  {
   "cell_type": "markdown",
   "metadata": {},
   "source": [
    "---\n",
    "\n",
    "## Introduction\n",
    "\n"
   ]
  },
  {
   "cell_type": "markdown",
   "metadata": {},
   "source": [
    "---\n",
    "\n",
    "## Rank of a Matrix\n",
    "\n",
    "The rank of a matrix can be defined in the following ways:\n",
    "\n",
    "1. the maximum number of linearly independent column vectors in a given matrix\n",
    "1. the maximum number of linearly independent row vectors in a given matrix\n",
    "\n",
    "Both of these definitions are equivalent.\n",
    "\n",
    "For example if\n",
    "\n",
    "$$ A = \\begin{bmatrix} 6 & 1 & 2 \\\\ 5 & 6 & 1 \\\\ 5 & 7 & 7 \\end{bmatrix} $$\n",
    "\n",
    "then\n",
    "\n",
    "$$\\textrm{rank}(A) = 3$$\n",
    "\n",
    "since all three rows are linearly idependent. $A$ is then said to have **full rank**.\n",
    "\n",
    "This can be implemented in Python as follows"
   ]
  },
  {
   "cell_type": "code",
   "execution_count": 2,
   "metadata": {
    "collapsed": false
   },
   "outputs": [
    {
     "name": "stdout",
     "output_type": "stream",
     "text": [
      "A =\n",
      "[[6 1 2]\n",
      " [5 6 1]\n",
      " [5 7 7]]\n",
      "\n",
      "rank(A) = 3\n"
     ]
    }
   ],
   "source": [
    "A = np.array([[6, 1, 2], [5, 6, 1], [5, 7, 7]])\n",
    "\n",
    "print 'A ='\n",
    "print A\n",
    "print ''\n",
    "print 'rank(A) =', np.linalg.matrix_rank(A)"
   ]
  },
  {
   "cell_type": "markdown",
   "metadata": {},
   "source": [
    "If, however,\n",
    "\n",
    "$$ A = \\begin{bmatrix} 1 & 0 & 1 \\\\ -2 & -3 & 1 \\\\ 3 & 3 & 0 \\end{bmatrix} $$\n",
    "\n",
    "then\n",
    "\n",
    "$$\\textrm{rank}(A) = 2$$\n",
    "\n",
    "since the third row is simply the difference of the first two, which are linearly idependent. In this case $A$ is **rank deficient** or has **reduced rank**."
   ]
  },
  {
   "cell_type": "code",
   "execution_count": 3,
   "metadata": {
    "collapsed": false
   },
   "outputs": [
    {
     "name": "stdout",
     "output_type": "stream",
     "text": [
      "A =\n",
      "[[ 1  0  1]\n",
      " [-2 -3  1]\n",
      " [ 3  3  0]]\n",
      "\n",
      "rank(A) = 2\n"
     ]
    }
   ],
   "source": [
    "A = np.array([[1, 0, 1], [-2, -3, 1], [3, 3, 0]])\n",
    "\n",
    "print 'A ='\n",
    "print A\n",
    "print ''\n",
    "print 'rank(A) =', np.linalg.matrix_rank(A)"
   ]
  }
 ],
 "metadata": {
  "kernelspec": {
   "display_name": "Python 2",
   "language": "python",
   "name": "python2"
  },
  "language_info": {
   "codemirror_mode": {
    "name": "ipython",
    "version": 2
   },
   "file_extension": ".py",
   "mimetype": "text/x-python",
   "name": "python",
   "nbconvert_exporter": "python",
   "pygments_lexer": "ipython2",
   "version": "2.7.11"
  }
 },
 "nbformat": 4,
 "nbformat_minor": 0
}
