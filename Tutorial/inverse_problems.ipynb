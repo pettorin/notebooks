{
 "cells": [
  {
   "cell_type": "markdown",
   "metadata": {},
   "source": [
    "# Introduction to Inverse Problems\n",
    "\n",
    "---\n",
    "\n",
    "> Samuel Farrens 2016\n",
    "\n",
    "\n",
    "## Contents\n",
    "\n",
    "---\n",
    " \n",
    "1. [Set-Up](#Set-Up)\n",
    "1. [Introduction](#Introduction)\n",
    "1. [Mathematical Representation](#Mathematical-Representation)\n",
    "1. [Straight Line Example](#Straight-Line-Example)\n",
    " * [Equation of a Straight Line](#Equation-of-a-Straight-Line)\n",
    " * [Forward Problem](#Forward-Problem)\n",
    " * [Inverse Problem](#Inverse-Problem)\n",
    "1. [Polynomial Line Exercise](#Polynomial-Line-Exercise)\n",
    " * [Equation of a Polynomial Line](#Equation-of-a-Polynomial-Line)\n",
    " * [Exercise](#Exercise)\n",
    " * [Hints](#Hints)"
   ]
  },
  {
   "cell_type": "markdown",
   "metadata": {},
   "source": [
    "## Set-Up\n",
    "\n",
    "---\n",
    "\n",
    "Here we will import a couple of packages that we will need throughout the notebook."
   ]
  },
  {
   "cell_type": "code",
   "execution_count": 1,
   "metadata": {
    "collapsed": true
   },
   "outputs": [],
   "source": [
    "# Tell Jupyter to display plots in this notebook.\n",
    "%matplotlib inline\n",
    "\n",
    "# Import the numpy package with the alias np.\n",
    "import numpy as np           \n",
    "\n",
    "# Import the pyplot package from matplotlib with the alias plt.\n",
    "import matplotlib.pyplot as plt  "
   ]
  },
  {
   "cell_type": "markdown",
   "metadata": {},
   "source": [
    "## Introduction\n",
    "\n",
    "---\n",
    "\n",
    "A standard \"forward\" problem is one in which data is obtained from model parameters, *i.e.*\n",
    "\n",
    "$$\\text{Model}\\rightarrow\\text{Data,}$$\n",
    "\n",
    "while inverse problem is one in which the model parameters are determined from the data, *i.e.*\n",
    "\n",
    "$$\\text{Data}\\rightarrow\\text{Model.}$$\n",
    "\n",
    "In other words, with an inverse problem one attemps to obtain information about a physical system from observed measurements. This can be very useful as some model parameters can not be measured directly.\n",
    "\n",
    "Inverse problems have been applied various topics such as oceanography, weather prediction, astrophysics, medical imaging and geophysics.\n",
    "\n",
    "> See the following links for more information about inverse problems:\n",
    "> * [Wikipedia](https://en.wikipedia.org/wiki/Inverse_problem)\n",
    "> * [Scatting Ideas](https://cmontalto.wordpress.com/2013/03/08/what-are-inverse-problems/)\n"
   ]
  },
  {
   "cell_type": "markdown",
   "metadata": {},
   "source": [
    "## Mathematical Representation\n",
    "\n",
    "---\n",
    "\n",
    "We will start by defining some variables. We will use $Y$ to represent data measurments/observations, $A$ to represent a given model and $X$ to represent a matrix of equations that relate the model data to the measured data. Now, we can pose a given problem as follows:\n",
    "\n",
    "$$Y = XA$$\n",
    "\n",
    "When dealing with forward problems $X$ and $A$ are know and can be used to obtain $Y$. For inverse problems $X$ and $Y$ are known and can be used to obtain $A$."
   ]
  },
  {
   "cell_type": "markdown",
   "metadata": {},
   "source": [
    "## Straight Line Example  \n",
    "\n",
    "---\n",
    "\n",
    "The best place to start is with something that should be intimately familiar to anyone with even the most basic background in mathematics, a straight line.\n",
    "\n",
    "\n",
    "### Equation of a Straight Line\n",
    "\n",
    "A simple straight line can be represented with the following well known equation:\n",
    "\n",
    "$$y = mx + b$$\n",
    "\n",
    "where $m$ is the gradient or slope of the line and $b$ is the point where the line intercepts the $y$-axis. In Python we can implement the following function to represent this equation:"
   ]
  },
  {
   "cell_type": "code",
   "execution_count": 2,
   "metadata": {
    "collapsed": false
   },
   "outputs": [],
   "source": [
    "# Define the function y(x).\n",
    "# This defines a function called y_func with input variables x, m and b, and returns the values of mx + b.\n",
    "def y_func(x, m, b):\n",
    "    \n",
    "    return m * x + b"
   ]
  },
  {
   "cell_type": "markdown",
   "metadata": {},
   "source": [
    "### Forward Problem\n",
    "\n",
    "The way one would normally approach this problem is when we have some data on the x-axis,\n",
    "\n",
    "$$x = \\begin{bmatrix} 8 & 2 & 11 & 6 & 5 & 4 & 12 & 9 & 6 & 11 \\end{bmatrix}$$\n",
    "\n",
    "and we know the slope and intercept of the line,\n",
    "\n",
    "$$m = -1.1$$\n",
    "\n",
    "$$b = 14.0$$\n",
    "\n",
    "then we simply plug this information into the equation above to get the corresponding data on the y-axis. To think of the of this in terms of a forward problem, however, we need to know that the slope and intercept correspond to our model parameters and the data on the x-axis needs to be converted into a matrix operator. So, a better way of representing our line equation would be:\n",
    "\n",
    "$$y = a_0x^0 + a_1x^1$$\n",
    "\n",
    "In terms of our forward problem formulation ($Y=XA$), \n",
    "\n",
    "$$A = \\begin{bmatrix} a_0 & a_1 \\end{bmatrix}$$\n",
    "\n",
    "and\n",
    "\n",
    "$$X = \\begin{bmatrix} \n",
    "1 & 8 \\\\\n",
    "1 & 2 \\\\\n",
    "1 & 11 \\\\\n",
    "1 & 6 \\\\\n",
    "1 & 5 \\\\\n",
    "1 & 4 \\\\ \n",
    "1 & 12 \\\\\n",
    "1 & 9 \\\\\n",
    "1 & 6 \\\\\n",
    "1 & 11 \n",
    "\\end{bmatrix}$$\n",
    "\n",
    "We can implement this in python as follows:"
   ]
  },
  {
   "cell_type": "code",
   "execution_count": 3,
   "metadata": {
    "collapsed": false
   },
   "outputs": [
    {
     "data": {
      "image/png": "[encoded data removed]",
      "text/plain": [
       "<matplotlib.figure.Figure at 0x107dfe310>"
      ]
     },
     "metadata": {},
     "output_type": "display_data"
    }
   ],
   "source": [
    "# Set points in x-axis.\n",
    "x = np.array([8, 2, 11, 6, 5, 4, 12, 9, 6, 1])\n",
    "\n",
    "# Define the matrix operator.\n",
    "X = np.array([np.ones(x.size), x]).T\n",
    "\n",
    "# Set the model values.\n",
    "A = np.array([14.0, -1.1])\n",
    "\n",
    "# Calculate Y.\n",
    "Y = np.dot(X, A)\n",
    "\n",
    "# Plot results.\n",
    "plt.plot(x, Y, 'bo', label='Data')\n",
    "plt.plot(np.arange(14), y_func(np.arange(14), A[1], A[0]), 'r--', label='Model')\n",
    "plt.legend()\n",
    "plt.show()"
   ]
  },
  {
   "cell_type": "markdown",
   "metadata": {},
   "source": [
    "### Inverse Problem\n",
    "\n",
    "For the inverse problem we will assume we already know $Y$ and use this to work out $X$, so in other words we already have a set of data points and we want to work out the best fitting line.\n",
    "\n",
    "$$x = \\begin{bmatrix} 8 & 2 & 11 & 6 & 5 & 4 & 12 & 9 & 6 & 11 \\end{bmatrix}$$\n",
    "\n",
    "$$y = \\begin{bmatrix} 3 & 10 & 3 & 6 & 8 & 12 & 1 & 4 & 9 & 14 \\end{bmatrix}$$\n",
    "\n",
    "and again\n",
    "\n",
    "$$X = \\begin{bmatrix} \n",
    "1 & 8 \\\\\n",
    "1 & 2 \\\\\n",
    "1 & 11 \\\\\n",
    "1 & 6 \\\\\n",
    "1 & 5 \\\\\n",
    "1 & 4 \\\\ \n",
    "1 & 12 \\\\\n",
    "1 & 9 \\\\\n",
    "1 & 6 \\\\\n",
    "1 & 11 \n",
    "\\end{bmatrix}$$\n",
    "\n",
    "to solve this problem we need to invert $X$ *i.e.*\n",
    "\n",
    "$$A = X^{-1}Y$$\n",
    "\n",
    "however, $X$ is not a square matrix which means it cannot be inverted directly. So, first we need to multiply by $X^{T}$.\n",
    "\n",
    "> Because $X \\in \\mathbb{R}^{m \\times n}$ and $X^{T} \\in \\mathbb{R}^{n \\times m}$ so $X^{T}X \\in \\mathbb{R}^{n \\times n}$\n",
    "\n",
    "So, the solution is\n",
    "\n",
    "$$A = (X^TM)^{-1}X^{T}Y$$\n",
    "\n",
    "which is often called the *Normal Equation*. We can implement this in python as follows:"
   ]
  },
  {
   "cell_type": "code",
   "execution_count": 7,
   "metadata": {
    "collapsed": false
   },
   "outputs": [
    {
     "name": "stdout",
     "output_type": "stream",
     "text": [
      "A = [ 14.08108108  -1.10641892]\n"
     ]
    },
    {
     "data": {
      "image/png": "[encoded data removed]",
      "text/plain": [
       "<matplotlib.figure.Figure at 0x109400890>"
      ]
     },
     "metadata": {},
     "output_type": "display_data"
    }
   ],
   "source": [
    "# This function implements the normal equation\n",
    "def normal_eq(X, y):\n",
    "    \n",
    "    return np.dot(np.dot(np.linalg.inv(np.dot(X.T, X)), X.T), y)\n",
    "\n",
    "# M is already defined in the notebook.\n",
    "\n",
    "# Set points in y-axis.\n",
    "y = np.array([3, 10, 3, 6, 8, 12, 1, 4, 9, 14])\n",
    "\n",
    "# Solve for X.\n",
    "A = normal_eq(X, y)\n",
    "\n",
    "print 'A =', A\n",
    "\n",
    "# Plot results.\n",
    "plt.plot(x, y, 'bo', label='Data')\n",
    "plt.plot(np.arange(14), y_func(np.arange(14), A[1], A[0]), 'r--', label='Model')\n",
    "plt.legend()\n",
    "plt.show()"
   ]
  },
  {
   "cell_type": "markdown",
   "metadata": {},
   "source": [
    "## Polynomial Line Exercise\n",
    "\n",
    "---\n",
    "\n",
    "In this exercise you should apply the techniques learned for fitting a straight line to a set of data points to a new set of data that requires a polynomial fit.\n",
    "\n",
    "### Equation of a Polynomial Line\n",
    "\n",
    "The expression for a straigh line (*i.e.* $k = 1$) generalises to the following form for a $k$th degree polynomial:\n",
    "\n",
    "$$y = a_0 + a_1x + a_2x^2 + ... + a_kx^k$$\n",
    "\n",
    "where $a_i$ are the polynomial coefficients. We can represent this in Python with the following function:"
   ]
  },
  {
   "cell_type": "code",
   "execution_count": 68,
   "metadata": {
    "collapsed": false
   },
   "outputs": [],
   "source": [
    "# Define the new function y(x) for any kth degree polynomial.\n",
    "# This defines a function called y_func2 with input variables x and a, and returns the values of a0 + a1x + a2x^2 + ...\n",
    "def y_func2(x, a):\n",
    "    \n",
    "    return sum([(a_i * x ** n) for a_i, n in zip(a, range(a.size))])"
   ]
  },
  {
   "cell_type": "markdown",
   "metadata": {},
   "source": [
    "### Exercise\n",
    "\n",
    "The data for this exercise is the following:\n",
    "\n",
    "| x    | y     |\n",
    "|:----:|:-----:|\n",
    "| 0.00 | 0.486 | \n",
    "| 0.05 | 0.866 | \n",
    "| 0.10 | 0.944 | \n",
    "| 0.15 | 1.144 | \n",
    "| 0.20 | 1.103 | \n",
    "| 0.25 | 1.202 | \n",
    "| 0.30 | 1.166 |\n",
    "| 0.35 | 1.191 | \n",
    "| 0.40 | 1.124 | \n",
    "| 0.45 | 1.095 | \n",
    "| 0.50 | 1.122 |\n",
    "| 0.55 | 1.102 |\n",
    "| 0.60 | 1.099 |\n",
    "| 0.65 | 1.017 |\n",
    "| 0.70 | 1.111 |\n",
    "| 0.75 | 1.117 |\n",
    "| 0.80 | 1.152 |\n",
    "| 0.85 | 1.265 |\n",
    "| 0.90 | 1.380 |\n",
    "| 0.95 | 1.575 |\n",
    "| 1.00 | 1.857 |\n",
    "\n",
    "These values have already been defined for you."
   ]
  },
  {
   "cell_type": "code",
   "execution_count": 78,
   "metadata": {
    "collapsed": false
   },
   "outputs": [],
   "source": [
    "#############################\n",
    "# NO NEED TO EDIT THIS CELL #\n",
    "#############################\n",
    "\n",
    "# The values for x and y.\n",
    "x = np.linspace(0.0, 1.0, 21)\n",
    "y = np.array([0.486, 0.866, 0.944, 1.144, 1.103, 1.202, 1.166, 1.191, 1.124, 1.095, 1.122, 1.102, 1.099, 1.017, 1.111, \n",
    "              1.117, 1.152, 1.265, 1.380, 1.575, 1.857])"
   ]
  },
  {
   "cell_type": "markdown",
   "metadata": {},
   "source": [
    "Your job is to define the matrix operator $X$ and find the model parameters $A$ by solving the inverse problem $Y=XA$."
   ]
  },
  {
   "cell_type": "code",
   "execution_count": 123,
   "metadata": {
    "collapsed": false
   },
   "outputs": [],
   "source": [
    "##############################\n",
    "# YOU NEED TO EDIT THIS CELL #\n",
    "##############################\n",
    "\n",
    "# Define the matrix operator X here:\n",
    "X = None\n",
    "\n",
    "# Calculate the model paramters A here:\n",
    "A = None\n",
    "\n",
    "# ANSWERS\n",
    "# X = np.array([np.ones(x.size), x, x ** 2, x ** 3]).T\n",
    "# A = a_func(X, y)"
   ]
  },
  {
   "cell_type": "markdown",
   "metadata": {},
   "source": [
    "Now you can test how well your model line fits the data."
   ]
  },
  {
   "cell_type": "code",
   "execution_count": 124,
   "metadata": {
    "collapsed": false
   },
   "outputs": [
    {
     "data": {
      "image/png": "[encoded data removed]",
      "text/plain": [
       "<matplotlib.figure.Figure at 0x10a20b850>"
      ]
     },
     "metadata": {},
     "output_type": "display_data"
    }
   ],
   "source": [
    "#############################\n",
    "# NO NEED TO EDIT THIS CELL #\n",
    "#############################\n",
    "\n",
    "# Display the plot.\n",
    "plt.plot(x, y, 'bo', label='Data') \n",
    "if not isinstance(A, type(None)):\n",
    "    plt.plot(x, y_func2(x, A), 'g-', label='Model')\n",
    "    plt.title('Best Fit Polynomial: k =' + str(len(A) - 1))\n",
    "plt.legend(loc='upper left')\n",
    "plt.xlabel('x')\n",
    "plt.ylabel('y')\n",
    "plt.show()"
   ]
  },
  {
   "cell_type": "markdown",
   "metadata": {},
   "source": [
    "### Hints\n",
    "\n",
    "1. You do not need to redefine the function for the normal equation. \n",
    "2. The polynomial should have as many degrees as there are good Indiana Jones films. "
   ]
  },
  {
   "cell_type": "code",
   "execution_count": null,
   "metadata": {
    "collapsed": true
   },
   "outputs": [],
   "source": []
  }
 ],
 "metadata": {
  "kernelspec": {
   "display_name": "Python 2",
   "language": "python",
   "name": "python2"
  },
  "language_info": {
   "codemirror_mode": {
    "name": "ipython",
    "version": 2
   },
   "file_extension": ".py",
   "mimetype": "text/x-python",
   "name": "python",
   "nbconvert_exporter": "python",
   "pygments_lexer": "ipython2",
   "version": "2.7.11"
  }
 },
 "nbformat": 4,
 "nbformat_minor": 0
}
