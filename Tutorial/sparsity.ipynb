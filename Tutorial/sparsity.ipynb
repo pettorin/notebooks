{
 "cells": [
  {
   "cell_type": "markdown",
   "metadata": {},
   "source": [
    "# <font color='blue'>Introduction to Inverse Problems</font>\n",
    "\n",
    "---\n",
    "\n",
    "<img src=\"images/cea_logo.png\" width=\"100\" align=\"right\">\n",
    "\n",
    "\n",
    "> Author: **Samuel Farrens**\n",
    "\n",
    "> Year: **2016**\n",
    "\n",
    "> Version: **1.0**\n",
    "\n",
    "> Email: **[samuel.farrens@cea.fr](mailto:samuel.farrens@cea.fr)**\n",
    "\n",
    "> Web: **[CosmoStat Website](http://www.cosmostat.org/)**\n",
    "\n",
    "\n",
    "## <font color='blue'>Contents</font>\n",
    "\n",
    "---\n",
    " \n",
    "1. [Set-Up](#Set-Up)\n",
    "1. [Introduction](#Introduction)\n",
    "1. [Time-Frequency Example](#Time-Frequency-Example)\n",
    "1. [Sparse Regularisation](#Sparse-Regularisation)\n",
    " * [Sparse Representation](#Sparse-Representation)\n",
    " * [Measures of Sparsity](#Measures-of-Sparsity)\n",
    " * [Promoting Sparsity](#Promoting-Sparsity)\n",
    "1. [Hints](#Hints)"
   ]
  },
  {
   "cell_type": "markdown",
   "metadata": {},
   "source": [
    "## <font color='blue'>Set-Up</font>\n",
    "\n",
    "---\n",
    "\n",
    "Here we will import a couple of packages that we will need throughout the notebook."
   ]
  },
  {
   "cell_type": "code",
   "execution_count": 1,
   "metadata": {
    "collapsed": true
   },
   "outputs": [],
   "source": [
    "# Tell Jupyter to display plots in this notebook.\n",
    "%matplotlib inline\n",
    "\n",
    "# Import the numpy package with the alias np.\n",
    "import numpy as np           \n",
    "\n",
    "# Import the pyplot package from matplotlib with the alias plt.\n",
    "import matplotlib.pyplot as plt  \n",
    "from matplotlib import pylab\n",
    "pylab.rcParams['figure.figsize'] = (10.0, 8.0)\n",
    "\n",
    "# Import some tools from scipy.\n",
    "from scipy.ndimage import gaussian_filter\n",
    "from scipy.misc import lena"
   ]
  },
  {
   "cell_type": "markdown",
   "metadata": {},
   "source": [
    "## <font color='blue'>Introduction</font>\n",
    "\n",
    "---\n",
    "\n",
    "A sparse signal is one that is comprised mostly of zeros when expressed in the appropriate basis."
   ]
  },
  {
   "cell_type": "markdown",
   "metadata": {},
   "source": [
    "## <font color='blue'>Time-Frequency Example</font>\n",
    "\n",
    "---\n",
    "\n",
    "Let's start with a simple sine wave example. We have a time series signal where\n",
    "\n",
    "$$y = \\sin(t)$$\n",
    "\n",
    "with a sampling rate of 50 and a frequency of 2. We can display this function as follows:"
   ]
  },
  {
   "cell_type": "code",
   "execution_count": 2,
   "metadata": {
    "collapsed": false
   },
   "outputs": [
    {
     "data": {
      "image/png": "[encoded data removed]",
      "text/plain": [
       "<matplotlib.figure.Figure at 0x10933b650>"
      ]
     },
     "metadata": {},
     "output_type": "display_data"
    }
   ],
   "source": [
    "# Set the signal properties.\n",
    "sampling_rate = 30.0\n",
    "frequency = 2\n",
    "\n",
    "# Set a range of t values.\n",
    "t = np.arange(0, 1, 1.0 / sampling_rate)\n",
    "\n",
    "# Get the corresponding y values.\n",
    "y = np.sin(2 * np.pi * frequency * t)\n",
    "\n",
    "# Display\n",
    "plt.plot((t, t), (np.zeros(y.size), y), '-', color='#D8D8D8')\n",
    "plt.plot((0.0, 1.0), (0.0, 0.0), 'k-')\n",
    "plt.plot(t, y, 'o', color='#19C3F5', markeredgewidth=0.0)\n",
    "plt.xlabel('$t$ [s]', fontsize=24)\n",
    "plt.ylabel('$y(t)$', fontsize=24)\n",
    "plt.show()"
   ]
  },
  {
   "cell_type": "markdown",
   "metadata": {},
   "source": [
    "We can clearly see that the signal is not sparse as the majority of coefficients are non-zero. However, if we take the fourier transform of this function the signal becomes very sparse indeed."
   ]
  },
  {
   "cell_type": "code",
   "execution_count": 3,
   "metadata": {
    "collapsed": false,
    "scrolled": true
   },
   "outputs": [
    {
     "data": {
      "image/png": "[encoded data removed]",
      "text/plain": [
       "<matplotlib.figure.Figure at 0x10968ddd0>"
      ]
     },
     "metadata": {},
     "output_type": "display_data"
    }
   ],
   "source": [
    "# Get the one-sided frequency range.\n",
    "f = np.arange(y.size) * sampling_rate / y.size \n",
    "f = f[:y.size / 2]\n",
    "\n",
    "# Calculate the normalised FFT of the signal.\n",
    "y_fft = np.abs(np.fft.fft(y)) / y.size \n",
    "y_fft = y_fft[:y.size / 2]\n",
    "\n",
    "# Display\n",
    "plt.plot((f, f), (np.zeros(y_fft.size), y_fft), '-', color='#D8D8D8')\n",
    "plt.plot((0.0, max(f)), (0.0, 0.0), 'k-')\n",
    "plt.plot(f, y_fft, 'o', color='#19C3F5', markeredgewidth=0.0)\n",
    "plt.xlabel('$f$ [Hz]', fontsize=24)\n",
    "plt.ylabel('$|y(f)|$', fontsize=24)\n",
    "plt.ylim(-0.1, 0.6)\n",
    "plt.show()"
   ]
  },
  {
   "cell_type": "markdown",
   "metadata": {},
   "source": [
    "Now, we have only a single coefficient which is non-zero. So, although in its natural domain our signal does not appear to be sparse we were able to find a sparse representation in a different basis.\n",
    "\n",
    "So, how can the knowledge that a given signal is sparse in a given domain be useful?"
   ]
  },
  {
   "cell_type": "markdown",
   "metadata": {},
   "source": [
    "## <font color='blue'>Sparse Regularisation</font>\n",
    "\n",
    "---\n",
    "\n",
    "We can use the knowledge that a signal is sparse in a given domain as prior knowledge when solving an inverse problem. This enables us to reduce the parameters space and allows us to converge upon a better and simpler solution.\n",
    "\n"
   ]
  },
  {
   "cell_type": "markdown",
   "metadata": {},
   "source": [
    "### <font color='green'>Sparse Representation</font>\n",
    "\n",
    "A signal $x$ can be respresented as\n",
    "\n",
    "$$x = \\phi\\alpha = \\sum_{i=1}^n\\phi_i\\alpha_i$$\n",
    "\n",
    "where $\\alpha$ are the coefficients of $x$ in the dictionary $\\phi$. "
   ]
  },
  {
   "cell_type": "markdown",
   "metadata": {},
   "source": [
    "### <font color='green'>Measures of Sparsity</font>\n",
    "\n",
    "The true sparsity of a signal can be measured with the $l_0$ pseudo-norm.\n",
    "\n",
    "$$\\|x\\|_0 = \\text{Card}(\\text{Supp}(x))$$\n",
    "\n",
    "*i.e.* the number of non-zero elements in the signal. However, this function is non-convex and is computationally hard  to solve. Therefore, in practice the convex $l_1$ norm is used instead.\n",
    "\n",
    "$$\\|x\\|_1 = \\sum_{i=1}^n |x_i|$$\n",
    "\n",
    "We can use the to measure the sparsity of our time-frequency example."
   ]
  },
  {
   "cell_type": "code",
   "execution_count": 4,
   "metadata": {
    "collapsed": false
   },
   "outputs": [
    {
     "name": "stdout",
     "output_type": "stream",
     "text": [
      "The l1 norm of the time signal: 19.0287289084\n",
      "The l1 norm of the frequency signal: 0.5\n"
     ]
    }
   ],
   "source": [
    "# Function to measure the l1 norm.\n",
    "def l1_norm(signal):\n",
    "    \n",
    "    return np.sum(np.abs(signal))\n",
    "\n",
    "# Get the l1 norm of the time and frequency signals.\n",
    "print 'The l1 norm of the time signal:', l1_norm(y)\n",
    "print 'The l1 norm of the frequency signal:', l1_norm(y_fft)"
   ]
  },
  {
   "cell_type": "markdown",
   "metadata": {},
   "source": [
    "As expected the frequency signal is significantly more sparse."
   ]
  },
  {
   "cell_type": "markdown",
   "metadata": {},
   "source": [
    "### <font color='green'>Promoting Sparsity</font>\n",
    "\n",
    "In order to actually produce solutions that are more sparse one typically performs a thresholding operation in the sparse domain. Standard techniques include hard and soft thresholding.\n",
    "\n",
    "**Hard Thresholding**\n",
    "\n",
    "$$HT_{\\lambda}(x_i) = \\begin{cases} x_i & \\text{if}\\ |x_i| \\geq \\lambda \\\\  0 & \\text{otherwise} \\\\ \\end{cases}$$\n",
    "\n",
    "**Soft Thresholding**\n",
    "\n",
    "$$ST_{\\lambda}(x_i) = \\begin{cases} x_i - \\lambda\\text{sign}(x_i) & \\text{if}\\ |x_i| \\geq \\lambda \\\\  0 & \\text{otherwise} \\\\ \\end{cases}$$\n",
    "\n",
    "The threshold value, $\\lambda$, will vary depending on the type of problem. In the case of denoising $\\lambda$ represents an estimate of the noise in the sparse domain. "
   ]
  },
  {
   "cell_type": "code",
   "execution_count": 5,
   "metadata": {
    "collapsed": false
   },
   "outputs": [
    {
     "name": "stdout",
     "output_type": "stream",
     "text": [
      "Original Signal.\n",
      "\n",
      "[[ 0.83262108  0.54646881  0.1558383   0.21232386  0.84576818]\n",
      " [ 0.72898425  0.76137639  0.21110797  0.09818334  0.18883624]\n",
      " [ 0.22282963  0.05121222  0.45210353  0.62493583  0.27766107]\n",
      " [ 0.42316015  0.78108712  0.27585847  0.74722408  0.17568807]\n",
      " [ 0.85465427  0.81145071  0.20662235  0.85110928  0.72870764]]\n",
      "\n",
      "l1 norm: 12.065812828\n",
      "\n",
      "\n",
      "Thresholded Signal.\n",
      "\n",
      "[[ 0.83262108  0.          0.          0.          0.84576818]\n",
      " [ 0.          0.          0.          0.          0.        ]\n",
      " [ 0.          0.          0.          0.          0.        ]\n",
      " [ 0.          0.          0.          0.          0.        ]\n",
      " [ 0.85465427  0.81145071  0.          0.85110928  0.        ]]\n",
      "\n",
      "l1 norm: 4.19560351386\n"
     ]
    }
   ],
   "source": [
    "# Define a hard thresholding function.\n",
    "def hard_thresh(signal, threshold):\n",
    "    \n",
    "    return signal * (np.abs(signal) >= threshold)\n",
    "\n",
    "# Define a random signal.\n",
    "x = np.random.ranf((5, 5))\n",
    "\n",
    "# Set the threshold.\n",
    "thresh = 0.8\n",
    "\n",
    "# Threshold the signal.\n",
    "x_thresh = hard_thresh(x, thresh)\n",
    "\n",
    "print 'Original Signal.'\n",
    "print ''\n",
    "print x\n",
    "print ''\n",
    "print 'l1 norm:', l1_norm(x)\n",
    "print ''\n",
    "print ''\n",
    "print 'Thresholded Signal.'\n",
    "print ''\n",
    "print x_thresh\n",
    "print ''\n",
    "print 'l1 norm:', l1_norm(x_thresh)\n"
   ]
  },
  {
   "cell_type": "code",
   "execution_count": null,
   "metadata": {
    "collapsed": true
   },
   "outputs": [],
   "source": []
  },
  {
   "cell_type": "code",
   "execution_count": null,
   "metadata": {
    "collapsed": true
   },
   "outputs": [],
   "source": []
  }
 ],
 "metadata": {
  "kernelspec": {
   "display_name": "Python 2",
   "language": "python",
   "name": "python2"
  },
  "language_info": {
   "codemirror_mode": {
    "name": "ipython",
    "version": 2
   },
   "file_extension": ".py",
   "mimetype": "text/x-python",
   "name": "python",
   "nbconvert_exporter": "python",
   "pygments_lexer": "ipython2",
   "version": "2.7.11"
  }
 },
 "nbformat": 4,
 "nbformat_minor": 0
}
