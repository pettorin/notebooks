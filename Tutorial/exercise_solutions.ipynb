{
 "cells": [
  {
   "cell_type": "markdown",
   "metadata": {},
   "source": [
    "# Exercise Solutions\n",
    "\n",
    "---\n",
    "\n",
    "> Author: <font color='#f78c40'>Samuel Farrens</font>    \n",
    "> Year: 2018  \n",
    "> Email: [samuel.farrens@cea.fr](mailto:samuel.farrens@cea.fr)  \n",
    "> Website: <a href=\"https://sfarrens.github.io\" target=\"_blank\">https://sfarrens.github.io</a>\n",
    "\n",
    "---\n",
    "\n",
    "\n",
    "## Contents\n",
    "\n",
    "1. [Introduction to Inverse Problems](#Introduction-to-Inverse-Problems)\n",
    "1. [Introduction to Sparsity I](#Introduction-to-Sparsity-I)\n",
    " * [Denoising Example](#Denoising Example)\n",
    "1. [Introduction to Sparsity II: Compressed Sensing](#Introduction-to-Sparsity-II:-Compressed-Sensing)\n",
    "1. [Introduction to Sparsity III: Deconvolution](#Introduction-to-Sparsity-II:-Deconvolution)"
   ]
  },
  {
   "cell_type": "markdown",
   "metadata": {},
   "source": [
    "## Introduction to Inverse Problems"
   ]
  },
  {
   "cell_type": "markdown",
   "metadata": {},
   "source": [
    "## Introduction to Sparsity I\n",
    "\n",
    "### <font color='blue'>Denoising Example</font>\n",
    "\n",
    "```Python\n",
    "\n",
    "# Define the sparse representations of the signals.\n",
    "x_sparse = fft(x)\n",
    "y_sparse = fft(y)\n",
    "\n",
    "# Determine the value of lambda.\n",
    "lamda_val = 3 * sigma_mad(y_sparse) \n",
    "\n",
    "# Perform thresholding.\n",
    "x_rec = ifft(hard_thresh(y_sparse, lamda_val))\n",
    "\n",
    "```"
   ]
  },
  {
   "cell_type": "markdown",
   "metadata": {},
   "source": [
    "## Introduction to Sparsity II: Compressed Sensing"
   ]
  },
  {
   "cell_type": "markdown",
   "metadata": {},
   "source": [
    "## Introduction to Sparsity III: Deconvolution|"
   ]
  },
  {
   "cell_type": "code",
   "execution_count": null,
   "metadata": {},
   "outputs": [],
   "source": []
  }
 ],
 "metadata": {
  "kernelspec": {
   "display_name": "Python 3",
   "language": "python",
   "name": "python3"
  },
  "language_info": {
   "codemirror_mode": {
    "name": "ipython",
    "version": 3
   },
   "file_extension": ".py",
   "mimetype": "text/x-python",
   "name": "python",
   "nbconvert_exporter": "python",
   "pygments_lexer": "ipython3",
   "version": "3.6.4"
  }
 },
 "nbformat": 4,
 "nbformat_minor": 2
}
