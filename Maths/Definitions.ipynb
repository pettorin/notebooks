{
 "cells": [
  {
   "cell_type": "markdown",
   "metadata": {},
   "source": [
    "# Definitions\n",
    "\n",
    "## Contents\n",
    "\n",
    "1. [Cardinality](#Cardinality)\n",
    "1. [Rank](#Rank)\n",
    "\n",
    "## Cardinality\n",
    "\n",
    "> [Wikipedia](https://en.wikipedia.org/wiki/Cardinality)\n",
    "\n",
    "The cardinality (or size) of a set is a measure of the number of elements in the set.\n",
    "\n",
    "### Syntax\n",
    "\n",
    "The cardinality of a set $A$ can be denoted by $|A|$, $n(A)$, $\\text{card}(A)$ or $\\#A$.\n",
    "\n",
    "### Example\n",
    "\n",
    "The set $A = \\{1, 1, 2, 3, 5\\}$ with $\\text{card}(A) = 4$ can be implemented in Python as follows:"
   ]
  },
  {
   "cell_type": "code",
   "execution_count": 14,
   "metadata": {
    "collapsed": false
   },
   "outputs": [
    {
     "name": "stdout",
     "output_type": "stream",
     "text": [
      "A = set([1, 2, 3, 5])\n",
      "card(A) = 4\n"
     ]
    }
   ],
   "source": [
    "# Define the set A.\n",
    "A = set([1, 1, 2, 3, 5])\n",
    "print 'A =', A\n",
    "\n",
    "# Print card(A)\n",
    "print 'card(A) =', len(A)"
   ]
  },
  {
   "cell_type": "markdown",
   "metadata": {},
   "source": [
    "## Rank\n",
    "\n",
    "> [Wikipedia](https://en.wikipedia.org/wiki/Rank_(linear_algebra)\n",
    "\n",
    "The rank is a measure of the number of linearly independent columns (or rows) in a matrix. \n",
    "\n",
    "### Syntax\n",
    "\n",
    "The rank of a matrix $A$ can be denoted by $\\text{rank}(A)$. If $A$ has dimensions $m\\times n$ then the following inequality must hold:\n",
    "\n",
    "$$\\text{rank}(A)\\leq \\text{min}(m, n)$$\n",
    "\n",
    "### Example\n",
    "\n",
    "The matrix\n",
    "\n",
    "$$$$"
   ]
  },
  {
   "cell_type": "code",
   "execution_count": null,
   "metadata": {
    "collapsed": true
   },
   "outputs": [],
   "source": []
  }
 ],
 "metadata": {
  "kernelspec": {
   "display_name": "Python 2",
   "language": "python",
   "name": "python2"
  },
  "language_info": {
   "codemirror_mode": {
    "name": "ipython",
    "version": 2
   },
   "file_extension": ".py",
   "mimetype": "text/x-python",
   "name": "python",
   "nbconvert_exporter": "python",
   "pygments_lexer": "ipython2",
   "version": "2.7.11"
  }
 },
 "nbformat": 4,
 "nbformat_minor": 0
}
