{
 "cells": [
  {
   "cell_type": "markdown",
   "metadata": {},
   "source": [
    "# Power Method\n",
    "---\n",
    "> Samuel Farrens 2016\n",
    "\n",
    "## Contents\n",
    "---\n",
    "\n",
    "## Introduction\n",
    "---\n"
   ]
  },
  {
   "cell_type": "markdown",
   "metadata": {},
   "source": [
    "## Set-Up\n",
    "---\n",
    "\n",
    "Here we will import a couple of packages that we will need throughout the notebook."
   ]
  },
  {
   "cell_type": "code",
   "execution_count": 67,
   "metadata": {
    "collapsed": false
   },
   "outputs": [],
   "source": [
    "# Import the numpy package with the alias np.\n",
    "import numpy as np"
   ]
  },
  {
   "cell_type": "markdown",
   "metadata": {},
   "source": [
    "## Deteriminant\n",
    "---\n",
    "\n",
    "> See [this Wikipedia page](https://en.wikipedia.org/wiki/Determinant) for details.\n",
    "\n",
    "For any $3\\times3$ matrix, $A$,\n",
    "\n",
    "$$A = \\begin{bmatrix}\n",
    "  a & b & c \\\\\n",
    "  d & e & f \\\\\n",
    "  g & h & i\n",
    "\\end{bmatrix}$$\n",
    "\n",
    "the determinant, $|A|$, is given by:\n",
    "\n",
    "$$|A| = \\begin{vmatrix} a & b & c \\\\ d & e & f \\\\ g & h & i \\end{vmatrix} = a(ei - fh) - b(di - fg) + c(dh - eg)$$\n",
    "\n",
    "In Python, we can write a very tideous function to perform this calculation as follows:"
   ]
  },
  {
   "cell_type": "code",
   "execution_count": 68,
   "metadata": {
    "collapsed": true
   },
   "outputs": [],
   "source": [
    "# Function to obtain the determinant of a 3x3 matrix A.\n",
    "def det(A):\n",
    "    \n",
    "    return (A[0, 0] * (A[1, 1] * A[2, 2] - A[1, 2] * A[2, 1]) - A[0, 1] * (A[1, 0] * A[2, 2] - A[1, 2] * A[2, 0]) + \n",
    "            A[0, 2] * (A[1, 0] * A[2, 1] - A[1, 1] * A[2, 0]))"
   ]
  },
  {
   "cell_type": "markdown",
   "metadata": {},
   "source": [
    "So, for the following matrix, $A$,\n",
    "\n",
    "$$A = \\begin{bmatrix}\n",
    "  -2 & 2 & -3 \\\\\n",
    "  -1 & 1 & 3 \\\\\n",
    "  2 & 0 & -1\n",
    "\\end{bmatrix}$$\n",
    "\n",
    "the determinant, $|A|$, is given by\n",
    "\n",
    "$$|A| = -2(1\\times-1 - 3\\times0) + 2(-1\\times-1 - 3\\times2) + -3(-1\\times0 - 1\\times2) = 18$$\n",
    "\n",
    "We can use our Python function to check the result."
   ]
  },
  {
   "cell_type": "code",
   "execution_count": 69,
   "metadata": {
    "collapsed": false
   },
   "outputs": [
    {
     "name": "stdout",
     "output_type": "stream",
     "text": [
      "|A| = 18\n"
     ]
    }
   ],
   "source": [
    "# Define the matrix A.\n",
    "A = np.array([[-2, 2, -3], [-1, 1, 3], [2, 0, -1]])\n",
    "\n",
    "# Print the determinant of the matrix A.\n",
    "print '|A| =', det(A)"
   ]
  },
  {
   "cell_type": "markdown",
   "metadata": {},
   "source": [
    "The Numpy linear algebra package (**numpy.linalg**) has a built-in function to obtain determinants that can be applied to square matrices of any size. So, in most cases, it will not be worth your time writting a new function for calculating the determinants of matrices."
   ]
  },
  {
   "cell_type": "code",
   "execution_count": 70,
   "metadata": {
    "collapsed": false
   },
   "outputs": [
    {
     "name": "stdout",
     "output_type": "stream",
     "text": [
      "|A| = 18.0\n"
     ]
    }
   ],
   "source": [
    "# Print the determinant of the matrix A using Numpy.\n",
    "print '|A| =', np.linalg.det(A)"
   ]
  },
  {
   "cell_type": "markdown",
   "metadata": {},
   "source": [
    "## Eigenvalues and Eigenvectors\n",
    "---\n",
    "> See [this Wikipedia page](https://en.wikipedia.org/wiki/Eigenvalues_and_eigenvectors) for details.\n",
    "\n",
    "$$A = \\begin{bmatrix} 2 & 1 \\\\ 1 & 2 \\end{bmatrix}$$\n",
    "\n",
    "An eigenvector of a square matrix is a non-zero vector that does not change its direction under the associated linear transformation. The eigenvectors, $v$, of a matrix, $A$, satisfy the following:\n",
    "\n",
    "$$(A - \\lambda I)v = 0$$\n",
    "\n",
    "where $\\lambda$ are the eigenvalues and $I$ is the identity matrix. This expression only has solutions when the determinant is zero.\n",
    "\n",
    "$$|A - \\lambda I| = \\begin{bmatrix} 2-\\lambda & 1 \\\\ 1 & 2-\\lambda \\end{bmatrix}=0$$\n",
    "\n",
    "This corresponds to\n",
    "\n",
    "$$(2-\\lambda)^2-1=\\lambda^2-4\\lambda+3=(\\lambda-3)(\\lambda-1)=0$$\n",
    "\n",
    "\n",
    "\n",
    "which means the eigenvalues of $A$ are $\\lambda_1=3$ and $\\lambda_2=1$.\n",
    "\n",
    "For the case of $\\lambda_1=3$:\n",
    "\n",
    "$$(A - 3 I)v = \\begin{bmatrix} -1 & 1 \\\\ 1 & -1\\end{bmatrix} \\begin{bmatrix} v_1 \\\\ v_2 \\end{bmatrix}=\\begin{bmatrix} -v_1 & v_2 \\\\ v_1 & -v_2\\end{bmatrix}=0$$\n",
    "\n",
    "which means that $v_1=v_2$. Setting $v1=1$ we get the following eigenvector:\n",
    "\n",
    "$$v = \\begin{bmatrix} 1 \\\\ 1 \\end{bmatrix}$$\n",
    "\n",
    "For the case of $\\lambda_1=1$:\n",
    "\n",
    "$$(A - I)v = \\begin{bmatrix} 1 & 1 \\\\ 1 & 1\\end{bmatrix} \\begin{bmatrix} v_1 \\\\ v_2 \\end{bmatrix}=\\begin{bmatrix} v_1 & v_2 \\\\ v_1 & v_2\\end{bmatrix}=0$$\n",
    "\n",
    "which means that $v_1=-v_2$. Setting $v1=-1$ we get the following eigenvector:\n",
    "\n",
    "$$v = \\begin{bmatrix} -1 \\\\ 1 \\end{bmatrix}$$\n",
    "\n",
    "In Python this whole procedure can be performed with one Numpy function."
   ]
  },
  {
   "cell_type": "code",
   "execution_count": 71,
   "metadata": {
    "collapsed": false
   },
   "outputs": [
    {
     "name": "stdout",
     "output_type": "stream",
     "text": [
      "Eigenvalues\n",
      "Lambda_1 = 3.0\n",
      "Lambda_2 = 1.0\n",
      "\n",
      "Eigenvectors\n",
      "v_1 = [ 1.  1.]\n",
      "v_2 = [-1.  1.]\n"
     ]
    }
   ],
   "source": [
    "# Define the matrix A.\n",
    "A = np.array([[2, 1], [1, 2]])\n",
    "\n",
    "# Calculate the eigenvalues and eigenvectors using Numpy.\n",
    "eigval, eigvec = np.linalg.eig(A)\n",
    "\n",
    "# Normalise the eigenvectors.\n",
    "eigvec /= np.abs(eigvec).min(axis=0)\n",
    "\n",
    "# Print the values.\n",
    "print 'Eigenvalues'\n",
    "print 'Lambda_1 =', eigval[0]\n",
    "print 'Lambda_2 =', eigval[1]\n",
    "print ''\n",
    "print 'Eigenvectors'\n",
    "print 'v_1 =', eigvec[:, 0]\n",
    "print 'v_2 =', eigvec[:, 1]"
   ]
  },
  {
   "cell_type": "markdown",
   "metadata": {},
   "source": [
    "Now we can check if the condition that $Av=\\lambda v$ is true or not."
   ]
  },
  {
   "cell_type": "code",
   "execution_count": 72,
   "metadata": {
    "collapsed": false
   },
   "outputs": [
    {
     "name": "stdout",
     "output_type": "stream",
     "text": [
      "A.v = lamda.v is True\n"
     ]
    }
   ],
   "source": [
    "# Check if A • v = lambda • v\n",
    "print 'A.v = lamda.v is', np.all(np.dot(A, eigvec) == eigval * eigvec)"
   ]
  },
  {
   "cell_type": "markdown",
   "metadata": {},
   "source": [
    "## Power Method\n",
    "---\n",
    "\n",
    "> References:\n",
    ">  * Examples taken from [here](http://college.cengage.com/mathematics/larson/elementary_linear/5e/students/ch08-10/chap_10_3.pdf).\n",
    "\n",
    "The \"Power Method\" is a simple algorithm for approximating the dominant eigenvalue of a square matrix. The dominant eigenvalue or spectral radius ($\\rho(A)$) is the eigenvalue with the largest absolute value.\n",
    "\n",
    "### Simple Power Method\n",
    "\n",
    "So if we have a matrix $A$, where\n",
    "\n",
    "$$A = \\begin{bmatrix} 2 & -12 \\\\ 1 & -5 \\end{bmatrix}$$\n",
    "\n",
    "and we want to determine its spectral radius we can do the following in Python:\n"
   ]
  },
  {
   "cell_type": "code",
   "execution_count": 73,
   "metadata": {
    "collapsed": false
   },
   "outputs": [
    {
     "name": "stdout",
     "output_type": "stream",
     "text": [
      "Eigenvalues\n",
      "Lambda_1 = -1.0\n",
      "Lambda_2 = -2.0\n",
      "\n",
      "Eigenvectors\n",
      "v_1 = [ 4.  1.]\n",
      "v_2 = [ 3.  1.]\n",
      "\n",
      "Spectral Radius = 2.0\n"
     ]
    }
   ],
   "source": [
    "# Define the matrix A.\n",
    "A = np.array([[2, -12], [1, -5]])\n",
    "\n",
    "# Obtain the eigenvalues and eigenvectors of A.\n",
    "eigval, eigvec = np.linalg.eig(A)\n",
    "\n",
    "# Normalise the eigenvectors.\n",
    "eigvec /= np.abs(eigvec).min(axis=0)\n",
    "\n",
    "# Print the eigenvalues and eigenvectors.\n",
    "print 'Eigenvalues'\n",
    "print 'Lambda_1 =', eigval[0]\n",
    "print 'Lambda_2 =', eigval[1]\n",
    "print ''\n",
    "print 'Eigenvectors'\n",
    "print 'v_1 =', eigvec[:, 0]\n",
    "print 'v_2 =', eigvec[:, 1]\n",
    "print ''\n",
    "\n",
    "# Display the spectral radius.\n",
    "print 'Spectral Radius =', np.max(np.abs(eigval))"
   ]
  },
  {
   "cell_type": "markdown",
   "metadata": {},
   "source": [
    "We approximate this result by iterating the following relation:\n",
    "    \n",
    "$$x_k=Ax_{k-1}=A^kx_0$$\n",
    "\n",
    "where $x$ is the dominant eigenvector and $k$ is the iteration number. We can represent the action of the matrix $A$ on the eigenvector $v$ with the following function:"
   ]
  },
  {
   "cell_type": "code",
   "execution_count": 74,
   "metadata": {
    "collapsed": false
   },
   "outputs": [],
   "source": [
    "# Define a function for the action of A on x.\n",
    "def power_method(A, x):\n",
    "    \n",
    "    return np.dot(A, x)"
   ]
  },
  {
   "cell_type": "markdown",
   "metadata": {},
   "source": [
    "To begin the iteration we will need to choose an intial value for $x_0$ (which must be non-zero) such as \n",
    "\n",
    "$$x_0 = \\begin{bmatrix} 1 \\\\ 1 \\end{bmatrix}$$\n",
    "\n",
    "Then we can iterate the function and see how the value of $x$ changes."
   ]
  },
  {
   "cell_type": "code",
   "execution_count": 75,
   "metadata": {
    "collapsed": false
   },
   "outputs": [
    {
     "name": "stdout",
     "output_type": "stream",
     "text": [
      "Iteration: 1 ; x = [-10  -4] = -4 [ 2.5  1. ]\n",
      "Iteration: 2 ; x = [28 10] = 10 [ 2.8  1. ]\n",
      "Iteration: 3 ; x = [-64 -22] = -22 [ 2.91  1.  ]\n",
      "Iteration: 4 ; x = [136  46] = 46 [ 2.96  1.  ]\n",
      "Iteration: 5 ; x = [-280  -94] = -94 [ 2.98  1.  ]\n",
      "Iteration: 6 ; x = [568 190] = 190 [ 2.99  1.  ]\n"
     ]
    }
   ],
   "source": [
    "# Set initial value of x_0.\n",
    "x = [1, 1]\n",
    "\n",
    "# Iterate the power method function 6 times and print x.\n",
    "for i in range(6):\n",
    "    x = power_method(A, x)\n",
    "    print 'Iteration:', i + 1, ';',\n",
    "    print 'x =', x,\n",
    "    print '=', x[-1], np.round(x / float(x[-1]), 2)"
   ]
  },
  {
   "cell_type": "markdown",
   "metadata": {},
   "source": [
    "By scaling the value of $x$ at each iteration we can see that $x_k$ is converging to a value of\n",
    "\n",
    "$$x_k = \\begin{bmatrix} 3 \\\\ 1 \\end{bmatrix}$$\n",
    "\n",
    "which is the second eigenvector we obtained earlier. We can calculate the eigenvalue that corresponds to this eigenvector using the \"Rayleigh Quotient\"\n",
    "\n",
    "$$\\lambda = \\frac{Ax\\cdot x}{x\\cdot x}$$\n",
    "\n",
    "which we can implement in Python as follows:"
   ]
  },
  {
   "cell_type": "code",
   "execution_count": 76,
   "metadata": {
    "collapsed": true
   },
   "outputs": [],
   "source": [
    "# Define a function to calculate the eigenvalue corresponding to a given eigenvector.\n",
    "def rayleigh_quotient(A, x):\n",
    "    \n",
    "    return np.dot(np.dot(A, x), x) / np.dot(x, x)"
   ]
  },
  {
   "cell_type": "markdown",
   "metadata": {},
   "source": [
    "Using the value of $x_6$ we obtained with the power method we can calculate the spectral radius."
   ]
  },
  {
   "cell_type": "code",
   "execution_count": 77,
   "metadata": {
    "collapsed": false
   },
   "outputs": [
    {
     "name": "stdout",
     "output_type": "stream",
     "text": [
      "Spectral Radius: 2.01372643035\n"
     ]
    }
   ],
   "source": [
    "# Display the spectral radius.\n",
    "print 'Spectral Radius:',  np.abs(rayleigh_quotient(A, x / float(x[-1])))"
   ]
  },
  {
   "cell_type": "markdown",
   "metadata": {},
   "source": [
    "This is a good approximation of the value of $2$ that we obtained before.\n",
    "\n",
    "### Scaled Power Method\n",
    "\n",
    "Lets define a $3\\times3$ matrix $A$\n",
    "\n",
    "$$A = \\begin{bmatrix} 1 & 2 & 0 \\\\ -2 & 1 & 2 \\\\ 1 & 3 & 1 \\end{bmatrix}$$\n"
   ]
  },
  {
   "cell_type": "code",
   "execution_count": 89,
   "metadata": {
    "collapsed": false
   },
   "outputs": [
    {
     "name": "stdout",
     "output_type": "stream",
     "text": [
      "Eigenvalues\n",
      "Lambda_1 = (5.06485044877e-16+1j)\n",
      "Lambda_2 = (5.06485044877e-16-1j)\n",
      "\n",
      "Eigenvectors\n",
      "v_1 = [ 1.26491106+0.63245553j -0.94868330+0.31622777j  1.58113883+0.j        ]\n",
      "v_2 = [ 1.26491106-0.63245553j -0.94868330-0.31622777j  1.58113883-0.j        ]\n",
      "\n",
      "Spectral Radius = 3.0\n"
     ]
    }
   ],
   "source": [
    "# Define the matrix A.\n",
    "A = np.array([[1, 2, 0], [-2, 1, 2], [1, 3, 1]])\n",
    "\n",
    "# Obtain the eigenvalues and eigenvectors of A.\n",
    "eigval, eigvec = np.linalg.eig(A)\n",
    "\n",
    "# Normalise the eigenvectors.\n",
    "eigvec /= np.abs(eigvec).min(axis=0)\n",
    "\n",
    "# Print the eigenvalues and eigenvectors.\n",
    "print 'Eigenvalues'\n",
    "print 'Lambda_1 =', eigval[0]\n",
    "print 'Lambda_2 =', eigval[1]\n",
    "print ''\n",
    "print 'Eigenvectors'\n",
    "print 'v_1 =', eigvec[:, 0]\n",
    "print 'v_2 =', eigvec[:, 1]\n",
    "print ''\n",
    "\n",
    "# Display the spectral radius.\n",
    "print 'Spectral Radius =', np.max(np.abs(eigval))"
   ]
  },
  {
   "cell_type": "markdown",
   "metadata": {},
   "source": [
    "and a new function for calculating a scaled version of the power method\n",
    "\n",
    "$$x_k=\\frac{Ax_{k-1}}{\\|Ax_{k-1}\\|}$$\n"
   ]
  },
  {
   "cell_type": "code",
   "execution_count": 114,
   "metadata": {
    "collapsed": false
   },
   "outputs": [],
   "source": [
    "# Define a scaled function for the action of A on x.\n",
    "def power_method_scale(A, x, norm):\n",
    "        \n",
    "    return np.dot(A, x) / float(np.linalg.norm(np.dot(A, x), norm))"
   ]
  },
  {
   "cell_type": "code",
   "execution_count": 120,
   "metadata": {
    "collapsed": false
   },
   "outputs": [
    {
     "name": "stdout",
     "output_type": "stream",
     "text": [
      "Iteration: 1 ; x = [ 0.6  0.2  1. ]\n",
      "Iteration: 2 ; x = [ 0.45  0.45  1.  ]\n",
      "Iteration: 3 ; x = [ 0.48  0.55  1.  ]\n",
      "Iteration: 4 ; x = [ 0.5   0.51  1.  ]\n",
      "Iteration: 5 ; x = [ 0.5  0.5  1. ]\n",
      "Iteration: 6 ; x = [ 0.5  0.5  1. ]\n",
      "\n",
      "Spectral Radius: 3.0\n"
     ]
    }
   ],
   "source": [
    "# Set initial value of x_0.\n",
    "x = [1, 1, 1]\n",
    "\n",
    "# Iterate the power method function 6 times and print x.\n",
    "for i in range(6):\n",
    "    x = np.round(power_method_scale(A, x, np.inf), 2)\n",
    "    print 'Iteration:', i + 1, ';',\n",
    "    print 'x =', x\n",
    "    \n",
    "print ''\n",
    "print 'Spectral Radius:',  np.abs(rayleigh_quotient(A, x))"
   ]
  },
  {
   "cell_type": "code",
   "execution_count": 122,
   "metadata": {
    "collapsed": false
   },
   "outputs": [
    {
     "name": "stdout",
     "output_type": "stream",
     "text": [
      "Iteration: 1 Eigenvector = [ 0.50709255  0.16903085  0.84515425]\n",
      "Iteration: 2 Eigenvector = [ 0.38235956  0.38235956  0.84119102]\n",
      "Iteration: 3 Eigenvector = [ 0.39056673  0.4426423   0.80717125]\n",
      "Iteration: 4 Eigenvector = [ 0.41103969  0.41103969  0.81369082]\n",
      "Iteration: 5 Eigenvector = [ 0.41010447  0.40452482  0.81741911]\n",
      "Iteration: 6 Eigenvector = [ 0.40793707  0.40793707  0.81680763]\n",
      "Iteration: 7 Eigenvector = [ 0.40804075  0.40866324  0.81639274]\n",
      "\n",
      "Spectral Radius: 1.0 3.00127000192\n"
     ]
    }
   ],
   "source": [
    "# Print the dominant eigenvectors.\n",
    "x = [1, 1, 1]\n",
    "\n",
    "# Iterate the power method function 6 times and print x.\n",
    "for i in range(7):\n",
    "    x = power_method_scale(A, x, 2)\n",
    "    print 'Iteration:', i + 1,\n",
    "    print 'Eigenvector =', x\n",
    "    \n",
    "print ''\n",
    "print 'Spectral Radius:',  np.linalg.norm(x, 2), np.abs(rayleigh_quotient(A, x))"
   ]
  },
  {
   "cell_type": "code",
   "execution_count": null,
   "metadata": {
    "collapsed": true
   },
   "outputs": [],
   "source": []
  }
 ],
 "metadata": {
  "kernelspec": {
   "display_name": "Python 2",
   "language": "python",
   "name": "python2"
  },
  "language_info": {
   "codemirror_mode": {
    "name": "ipython",
    "version": 2
   },
   "file_extension": ".py",
   "mimetype": "text/x-python",
   "name": "python",
   "nbconvert_exporter": "python",
   "pygments_lexer": "ipython2",
   "version": "2.7.11"
  }
 },
 "nbformat": 4,
 "nbformat_minor": 0
}
