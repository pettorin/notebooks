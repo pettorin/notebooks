{
 "cells": [
  {
   "cell_type": "markdown",
   "metadata": {},
   "source": [
    "## Wavelet Thresholding\n",
    "\n",
    "$$\n",
    "\\begin{aligned}\n",
    "& \\underset{X}{\\text{argmin}}\n",
    "& \\frac{1}{2}\\|Y-MX\\|_2^2 + \\|W\\odot\\phi X\\|_1\n",
    "& & \\text{s.t.}\n",
    "& & X \\ge 0\n",
    "\\end{aligned}\n",
    "$$\n",
    "\n",
    "## Low-Rank Thresholding\n",
    "\n",
    "$$\n",
    "\\begin{aligned}\n",
    "& \\underset{X}{\\text{argmin}}\n",
    "& \\frac{1}{2}\\|Y-MX\\|_2^2 + \\lambda\\|X'\\|_*\n",
    "& & \\text{s.t.}\n",
    "& & X \\ge 0\n",
    "\\end{aligned}\n",
    "$$\n",
    "\n",
    "## Combined Thresholding\n",
    "\n",
    "$$\n",
    "\\begin{aligned}\n",
    "& \\underset{X}{\\text{argmin}}\n",
    "& \\frac{1}{2}\\|Y-MX\\|_2^2 + \\|W\\odot\\phi X\\|_1 + \\lambda\\|X'\\|_*\n",
    "& & \\text{s.t.}\n",
    "& & X \\ge 0\n",
    "\\end{aligned}\n",
    "$$"
   ]
  },
  {
   "cell_type": "code",
   "execution_count": null,
   "metadata": {
    "collapsed": true
   },
   "outputs": [],
   "source": []
  }
 ],
 "metadata": {
  "kernelspec": {
   "display_name": "Python 2",
   "language": "python",
   "name": "python2"
  },
  "language_info": {
   "codemirror_mode": {
    "name": "ipython",
    "version": 2
   },
   "file_extension": ".py",
   "mimetype": "text/x-python",
   "name": "python",
   "nbconvert_exporter": "python",
   "pygments_lexer": "ipython2",
   "version": "2.7.11"
  }
 },
 "nbformat": 4,
 "nbformat_minor": 0
}
