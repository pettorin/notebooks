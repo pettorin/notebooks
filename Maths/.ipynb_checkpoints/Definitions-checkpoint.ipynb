{
 "cells": [
  {
   "cell_type": "markdown",
   "metadata": {},
   "source": [
    "# Definitions\n",
    "\n",
    "---\n",
    "\n",
    "## Contents\n",
    "\n",
    "---\n",
    "\n",
    "1. [Cardinality](#Cardinality)\n",
    "1. [Condition Number](#Condition-Number)\n",
    "1. [Rank](#Rank)\n",
    "\n",
    "## Cardinality\n",
    "\n",
    "---\n",
    "\n",
    "> [Wikipedia](https://en.wikipedia.org/wiki/Cardinality)\n",
    "\n",
    "The cardinality (or size) of a set is a measure of the number of elements in the set.\n",
    "\n",
    "### Syntax\n",
    "\n",
    "The cardinality of a set $A$ can be denoted by $|A|$, $n(A)$, $\\text{card}(A)$ or $\\#A$.\n",
    "\n",
    "### Example\n",
    "\n",
    "The set $A = \\{1, 1, 2, 3, 5\\}$ with $\\text{card}(A) = 4$ can be implemented in Python as follows:"
   ]
  },
  {
   "cell_type": "code",
   "execution_count": 1,
   "metadata": {
    "collapsed": false
   },
   "outputs": [
    {
     "name": "stdout",
     "output_type": "stream",
     "text": [
      "A = set([1, 2, 3, 5])\n",
      "card(A) = 4\n"
     ]
    }
   ],
   "source": [
    "# Define the set A.\n",
    "A = set([1, 1, 2, 3, 5])\n",
    "print 'A =', A\n",
    "\n",
    "# Print card(A)\n",
    "print 'card(A) =', len(A)"
   ]
  },
  {
   "cell_type": "markdown",
   "metadata": {},
   "source": [
    "## Condition Number\n",
    "\n",
    "---\n",
    "\n",
    "> [Wikipedia](https://en.wikipedia.org/wiki/Condition_number)\n",
    "\n",
    "The condition number of a function with respect to an argument measures how much the output value of the function can change for a small change in the input argument.\n",
    "\n",
    "The condition number of a matrix can be measured by taking the ratio of its largest and smallest singular values.\n",
    "\n",
    "### Syntax\n",
    "\n",
    "The condition number of a matrix $A$ can be denoted by $\\kappa(A)$ or cond$(A)$.\n",
    "\n",
    "### Example\n",
    "\n",
    "The matrix\n",
    "\n",
    "$$A = \\begin{bmatrix}\n",
    "  1 & 2 & 1 \\\\\n",
    "  -2 & -3 & 1 \\\\\n",
    "  3 & 5 & 0\n",
    "\\end{bmatrix}$$\n",
    "\n",
    "has $\\kappa(A) = 2 \\times 10^{16}$."
   ]
  },
  {
   "cell_type": "code",
   "execution_count": 5,
   "metadata": {
    "collapsed": false
   },
   "outputs": [
    {
     "name": "stdout",
     "output_type": "stream",
     "text": [
      "cond(A) = 2.01713939447e+16\n"
     ]
    }
   ],
   "source": [
    "# Define the matrix A.\n",
    "A = np.array([[1, 2, 1], [-2, -3, 1], [3, 5, 0]])\n",
    "\n",
    "# Define a function to measure the condition number.\n",
    "def cond(x):\n",
    "    \n",
    "    U, S, V = np.linalg.svd(x)\n",
    "\n",
    "    return S[0] / S[-1]\n",
    "\n",
    "# Get cond(A).\n",
    "print 'cond(A) =', cond(A)"
   ]
  },
  {
   "cell_type": "markdown",
   "metadata": {},
   "source": [
    "## Rank\n",
    "\n",
    "---\n",
    "\n",
    "> [Wikipedia](https://en.wikipedia.org/wiki/Rank_(linear_algebra)\n",
    "\n",
    "The rank is a measure of the number of linearly independent columns (or rows) in a matrix. \n",
    "\n",
    "### Syntax\n",
    "\n",
    "The rank of a matrix $A$ can be denoted by $\\text{rank}(A)$. If $A$ has dimensions $m\\times n$ then the following inequality must hold:\n",
    "\n",
    "$$\\text{rank}(A)\\leq \\text{min}(m, n)$$\n",
    "\n",
    "### Example\n",
    "\n",
    "The matrix\n",
    "\n",
    "$$A = \\begin{bmatrix}\n",
    "  1 & 2 & 1 \\\\\n",
    "  -2 & -3 & 1 \\\\\n",
    "  3 & 5 & 0\n",
    "\\end{bmatrix}$$\n",
    "\n",
    "has $\\text{rank}(A) = 2$ as the first two rows are linearly independent, but the third row is equal to the difference of the first two.\n"
   ]
  },
  {
   "cell_type": "code",
   "execution_count": 24,
   "metadata": {
    "collapsed": false
   },
   "outputs": [
    {
     "name": "stdout",
     "output_type": "stream",
     "text": [
      "rank(A) = 2\n",
      "rank(A) <= min(m, n): True\n"
     ]
    }
   ],
   "source": [
    "# Define the matrix A.\n",
    "A = np.array([[1, 2, 1], [-2, -3, 1], [3, 5, 0]])\n",
    "\n",
    "# Get rank(A).\n",
    "print 'rank(A) =', np.linalg.matrix_rank(A)\n",
    "\n",
    "# Test if the rank is less than min(m, n).\n",
    "print 'rank(A) <= min(m, n):', np.linalg.matrix_rank(A) <= min(*A.shape)"
   ]
  },
  {
   "cell_type": "code",
   "execution_count": 25,
   "metadata": {
    "collapsed": false
   },
   "outputs": [
    {
     "name": "stdout",
     "output_type": "stream",
     "text": [
      "[  7.20971511e+00   1.42126986e+00   3.57422751e-16]\n",
      "[[-0.30519027 -0.75731471 -0.57735027]\n",
      " [ 0.50325864 -0.64295988  0.57735027]\n",
      " [-0.80844891 -0.11435482  0.57735027]]\n"
     ]
    }
   ],
   "source": [
    "u, s, v = np.linalg.svd(A)\n",
    "print s\n",
    "print u"
   ]
  },
  {
   "cell_type": "code",
   "execution_count": 32,
   "metadata": {
    "collapsed": false
   },
   "outputs": [
    {
     "name": "stdout",
     "output_type": "stream",
     "text": [
      "[[  1.00000000e+00   2.00000000e+00   1.00000000e+00]\n",
      " [ -2.00000000e+00  -3.00000000e+00   1.00000000e+00]\n",
      " [  3.00000000e+00   5.00000000e+00   1.38777878e-16]]\n"
     ]
    }
   ],
   "source": [
    "s_new = np.append(s[:2], [0])\n",
    "\n",
    "print np.dot(u, np.dot(np.diag(s_new), v))"
   ]
  },
  {
   "cell_type": "code",
   "execution_count": 33,
   "metadata": {
    "collapsed": false
   },
   "outputs": [
    {
     "name": "stdout",
     "output_type": "stream",
     "text": [
      "8.63098496882\n"
     ]
    }
   ],
   "source": [
    "print np.sum(s)"
   ]
  },
  {
   "cell_type": "code",
   "execution_count": 41,
   "metadata": {
    "collapsed": false
   },
   "outputs": [
    {
     "name": "stdout",
     "output_type": "stream",
     "text": [
      "8.63098496882\n",
      "22.910030107\n"
     ]
    }
   ],
   "source": [
    "from functions.matrix import *\n",
    "\n",
    "B = np.random.randint(-9, 9, 9).reshape(3, 3)\n",
    "\n",
    "print nuclear_norm(A)\n",
    "print nuclear_norm(B)"
   ]
  },
  {
   "cell_type": "code",
   "execution_count": null,
   "metadata": {
    "collapsed": true
   },
   "outputs": [],
   "source": []
  }
 ],
 "metadata": {
  "kernelspec": {
   "display_name": "Python 2",
   "language": "python",
   "name": "python2"
  },
  "language_info": {
   "codemirror_mode": {
    "name": "ipython",
    "version": 2
   },
   "file_extension": ".py",
   "mimetype": "text/x-python",
   "name": "python",
   "nbconvert_exporter": "python",
   "pygments_lexer": "ipython2",
   "version": "2.7.11"
  }
 },
 "nbformat": 4,
 "nbformat_minor": 0
}
