{
 "cells": [
  {
   "cell_type": "markdown",
   "metadata": {},
   "source": [
    "# Convolution  and Correlation\n",
    "\n",
    "---\n",
    "\n",
    "> Samuel Farrens 2016\n",
    "\n",
    "## Contents\n",
    "\n",
    "---\n",
    "\n",
    "1. [Introdution](#Introduction)\n",
    "1. [Set-Up](#Set-Up)\n",
    "1. [Convolution](#Convolution)\n",
    " * [Definition](#Definition)\n",
    "1. [Correlation](#Correlation)"
   ]
  },
  {
   "cell_type": "markdown",
   "metadata": {},
   "source": [
    "## Introduction\n",
    "\n",
    "---\n",
    "\n",
    "## Set-Up\n",
    "\n",
    "---\n",
    "\n",
    "Here we will import a couple of packages that we will need throughout the notebook."
   ]
  },
  {
   "cell_type": "code",
   "execution_count": 393,
   "metadata": {
    "collapsed": true
   },
   "outputs": [],
   "source": [
    "# Tell Jupyter to display plots in this notebook.\n",
    "%matplotlib inline\n",
    "\n",
    "# Import the numpy package with the alias np.\n",
    "import numpy as np               \n",
    "\n",
    "# Import the pyplot package from matplotlib with the alias plt.\n",
    "import matplotlib.pyplot as plt  \n",
    "\n",
    "# Import the scipy packages.\n",
    "import scipy.signal as signal \n",
    "import scipy.stats as stats "
   ]
  },
  {
   "cell_type": "markdown",
   "metadata": {},
   "source": [
    "## Convolution\n",
    "\n",
    "---\n",
    "\n",
    "> References: \n",
    "> * [Wikipedia](https://en.wikipedia.org/wiki/Convolution)\n",
    "> * [1D Convolution Example](http://docs.scipy.org/doc/scipy-0.16.1/reference/generated/scipy.signal.convolve.html)\n",
    "> * [2D Convolution Example](http://www.songho.ca/dsp/convolution/convolution2d_example.html)\n",
    "\n",
    "### Definition\n",
    "\n",
    "Convolution is defined as the integral of the product of the two functions after one is reversed and shifted.\n",
    "\n",
    "$$(f \\ast g)(t) = \\int^\\infty_{-\\infty} f(\\tau)g(t-\\tau)d\\tau = \\int^\\infty_{-\\infty} f(t-\\tau)g(\\tau)d\\tau$$\n",
    "\n",
    "Discrete convolution for a finite set can be respesented as follows:\n",
    "\n",
    "$$(f \\ast g)[n] = \\sum^{M}_{m=-M} f[n]g[m-n] = \\sum^{M}_{m=-M} f[m-n]g[n]$$\n",
    "\n",
    "In Python we can respresent the discrete convolution with the following function:"
   ]
  },
  {
   "cell_type": "code",
   "execution_count": 394,
   "metadata": {
    "collapsed": false
   },
   "outputs": [],
   "source": [
    "# Define a function to perfom a 1D discrete convolution.\n",
    "def convolve(x, y, mode='same'):\n",
    "    \n",
    "    x_pad = np.roll(np.hstack((x, np.zeros(2 * (y.size - 1)))), (y.size - 1))\n",
    "    \n",
    "    shifts = range(np.abs(x_pad.size - y.size) + 1)\n",
    "                    \n",
    "    full = np.sum([(np.roll(x_pad, -i)[:y.size] * y[::-1]) for i in shifts], axis=1)\n",
    "    \n",
    "    roll = - np.int((y.size - 1) / 2.0)\n",
    "        \n",
    "    if mode == 'same':\n",
    "        return np.roll(full, roll)[:x.size]\n",
    "    \n",
    "    else:\n",
    "        return full"
   ]
  },
  {
   "cell_type": "markdown",
   "metadata": {},
   "source": [
    "We can demonstrate our function with a simple example where\n",
    "\n",
    "$$ f(x) = \\begin{cases} 1.0 & 100 \\leq x < 200 \\\\ 0.0 & \\text{otherwise} \\end{cases} $$\n",
    "\n",
    "and \n",
    "\n",
    "$$ g(x) = $$\n",
    "\n",
    "With these two functions we can difine a new function\n",
    "\n",
    "$$ y(x) = f(x) \\ast g(x) = g(x) \\ast f(x) $$"
   ]
  },
  {
   "cell_type": "code",
   "execution_count": 402,
   "metadata": {
    "collapsed": false
   },
   "outputs": [
    {
     "data": {
      "image/png": "[encoded data removed]",
      "text/plain": [
       "<matplotlib.figure.Figure at 0x10b16be50>"
      ]
     },
     "metadata": {},
     "output_type": "display_data"
    }
   ],
   "source": [
    "simple = stats.uniform(loc=2, scale=3)\n",
    "err = stats.norm(loc=0, scale=0.25)\n",
    "\n",
    "delta = 1e-4\n",
    "\n",
    "x = np.arange(-10, 10, delta)\n",
    "\n",
    "f = simple.pdf(x) * delta\n",
    "g = err.pdf(x) * delta\n",
    "\n",
    "y = signal.fftconvolve(f, g, 'same')\n",
    "y = y / sum(y)\n",
    "\n",
    "plt.plot(x, f, label='$f(x)$')\n",
    "plt.plot(x, g, label='$g(x)$')\n",
    "plt.plot(x, y, label='$f(x) * g(x)$')\n",
    "plt.xlim(-3, max(x))\n",
    "plt.legend()\n",
    "plt.show()"
   ]
  },
  {
   "cell_type": "code",
   "execution_count": 389,
   "metadata": {
    "collapsed": false
   },
   "outputs": [
    {
     "data": {
      "image/png": "[encoded data removed]",
      "text/plain": [
       "<matplotlib.figure.Figure at 0x10b087a10>"
      ]
     },
     "metadata": {},
     "output_type": "display_data"
    }
   ],
   "source": [
    "# Set a range of x values.\n",
    "x = np.arange(300)\n",
    "\n",
    "# Define the function f(x).\n",
    "def f(x):\n",
    "    \n",
    "    return np.array((x >= 100) * (x < 200), dtype='int')\n",
    "\n",
    "\n",
    "# Define the function g(x).\n",
    "def g(x):\n",
    "    \n",
    "    def hann(n, m):\n",
    "        \n",
    "        return (0.5 - 0.5 * np.cos((2 * np.pi * n) / (m - 1)))\n",
    "  \n",
    "    return np.array([hann(n, 50) if (0 < n < 50) else 0.0 for n in range(x.size)])\n",
    "\n",
    "fg = convolve(f(x), g(x), mode='same') / sum(g(x))\n",
    "gf = convolve(g(x), f(x), mode='same') / sum(g(x))\n",
    "\n",
    "# # Plot the two functions.\n",
    "plt.plot(x, f(x), 'r-', label='$f(x)$')\n",
    "plt.plot(x, g(x), 'b-', label='$g(x)$')\n",
    "plt.plot(x, fg, 'g-', label='$f(x) * g(x)$')\n",
    "plt.plot(x, gf, 'k--', label='$g(x) * f(x)$')\n",
    "\n",
    "# plt.xlim(0.0, 2 * np.pi)\n",
    "plt.ylim(0.0, 1.5)\n",
    "plt.xlabel('x')\n",
    "plt.legend()\n",
    "plt.show()"
   ]
  },
  {
   "cell_type": "code",
   "execution_count": 376,
   "metadata": {
    "collapsed": false
   },
   "outputs": [
    {
     "name": "stdout",
     "output_type": "stream",
     "text": [
      "Convolve\n"
     ]
    },
    {
     "ename": "ValueError",
     "evalue": "all the input arrays must have same number of dimensions",
     "output_type": "error",
     "traceback": [
      "\u001b[0;31m---------------------------------------------------------------------------\u001b[0m",
      "\u001b[0;31mValueError\u001b[0m                                Traceback (most recent call last)",
      "\u001b[0;32m<ipython-input-376-3cad0609fc74>\u001b[0m in \u001b[0;36m<module>\u001b[0;34m()\u001b[0m\n\u001b[1;32m      3\u001b[0m \u001b[0;34m\u001b[0m\u001b[0m\n\u001b[1;32m      4\u001b[0m \u001b[0;32mprint\u001b[0m \u001b[0;34m'Convolve'\u001b[0m\u001b[0;34m\u001b[0m\u001b[0m\n\u001b[0;32m----> 5\u001b[0;31m \u001b[0;32mprint\u001b[0m \u001b[0mconvolve\u001b[0m\u001b[0;34m(\u001b[0m\u001b[0mA\u001b[0m\u001b[0;34m,\u001b[0m \u001b[0mB\u001b[0m\u001b[0;34m,\u001b[0m \u001b[0mmode\u001b[0m\u001b[0;34m=\u001b[0m\u001b[0;34m'same'\u001b[0m\u001b[0;34m)\u001b[0m\u001b[0;34m\u001b[0m\u001b[0m\n\u001b[0m\u001b[1;32m      6\u001b[0m \u001b[0;32mprint\u001b[0m \u001b[0;34m''\u001b[0m\u001b[0;34m\u001b[0m\u001b[0m\n\u001b[1;32m      7\u001b[0m \u001b[0;32mprint\u001b[0m \u001b[0;34m'FFT Convolve'\u001b[0m\u001b[0;34m\u001b[0m\u001b[0m\n",
      "\u001b[0;32m<ipython-input-365-d6ddca6c6a2c>\u001b[0m in \u001b[0;36mconvolve\u001b[0;34m(x, y, mode)\u001b[0m\n\u001b[1;32m      2\u001b[0m \u001b[0;32mdef\u001b[0m \u001b[0mconvolve\u001b[0m\u001b[0;34m(\u001b[0m\u001b[0mx\u001b[0m\u001b[0;34m,\u001b[0m \u001b[0my\u001b[0m\u001b[0;34m,\u001b[0m \u001b[0mmode\u001b[0m\u001b[0;34m=\u001b[0m\u001b[0;34m'same'\u001b[0m\u001b[0;34m)\u001b[0m\u001b[0;34m:\u001b[0m\u001b[0;34m\u001b[0m\u001b[0m\n\u001b[1;32m      3\u001b[0m \u001b[0;34m\u001b[0m\u001b[0m\n\u001b[0;32m----> 4\u001b[0;31m     \u001b[0mx_pad\u001b[0m \u001b[0;34m=\u001b[0m \u001b[0mnp\u001b[0m\u001b[0;34m.\u001b[0m\u001b[0mroll\u001b[0m\u001b[0;34m(\u001b[0m\u001b[0mnp\u001b[0m\u001b[0;34m.\u001b[0m\u001b[0mhstack\u001b[0m\u001b[0;34m(\u001b[0m\u001b[0;34m(\u001b[0m\u001b[0mx\u001b[0m\u001b[0;34m,\u001b[0m \u001b[0mnp\u001b[0m\u001b[0;34m.\u001b[0m\u001b[0mzeros\u001b[0m\u001b[0;34m(\u001b[0m\u001b[0;36m2\u001b[0m \u001b[0;34m*\u001b[0m \u001b[0;34m(\u001b[0m\u001b[0my\u001b[0m\u001b[0;34m.\u001b[0m\u001b[0msize\u001b[0m \u001b[0;34m-\u001b[0m \u001b[0;36m1\u001b[0m\u001b[0;34m)\u001b[0m\u001b[0;34m)\u001b[0m\u001b[0;34m)\u001b[0m\u001b[0;34m)\u001b[0m\u001b[0;34m,\u001b[0m \u001b[0;34m(\u001b[0m\u001b[0my\u001b[0m\u001b[0;34m.\u001b[0m\u001b[0msize\u001b[0m \u001b[0;34m-\u001b[0m \u001b[0;36m1\u001b[0m\u001b[0;34m)\u001b[0m\u001b[0;34m)\u001b[0m\u001b[0;34m\u001b[0m\u001b[0m\n\u001b[0m\u001b[1;32m      5\u001b[0m \u001b[0;34m\u001b[0m\u001b[0m\n\u001b[1;32m      6\u001b[0m     \u001b[0mshifts\u001b[0m \u001b[0;34m=\u001b[0m \u001b[0mrange\u001b[0m\u001b[0;34m(\u001b[0m\u001b[0mnp\u001b[0m\u001b[0;34m.\u001b[0m\u001b[0mabs\u001b[0m\u001b[0;34m(\u001b[0m\u001b[0mx_pad\u001b[0m\u001b[0;34m.\u001b[0m\u001b[0msize\u001b[0m \u001b[0;34m-\u001b[0m \u001b[0my\u001b[0m\u001b[0;34m.\u001b[0m\u001b[0msize\u001b[0m\u001b[0;34m)\u001b[0m \u001b[0;34m+\u001b[0m \u001b[0;36m1\u001b[0m\u001b[0;34m)\u001b[0m\u001b[0;34m\u001b[0m\u001b[0m\n",
      "\u001b[0;32m/Users/sfarrens/Documents/Library/anaconda/lib/python2.7/site-packages/numpy/core/shape_base.pyc\u001b[0m in \u001b[0;36mhstack\u001b[0;34m(tup)\u001b[0m\n\u001b[1;32m    275\u001b[0m         \u001b[0;32mreturn\u001b[0m \u001b[0m_nx\u001b[0m\u001b[0;34m.\u001b[0m\u001b[0mconcatenate\u001b[0m\u001b[0;34m(\u001b[0m\u001b[0marrs\u001b[0m\u001b[0;34m,\u001b[0m \u001b[0;36m0\u001b[0m\u001b[0;34m)\u001b[0m\u001b[0;34m\u001b[0m\u001b[0m\n\u001b[1;32m    276\u001b[0m     \u001b[0;32melse\u001b[0m\u001b[0;34m:\u001b[0m\u001b[0;34m\u001b[0m\u001b[0m\n\u001b[0;32m--> 277\u001b[0;31m         \u001b[0;32mreturn\u001b[0m \u001b[0m_nx\u001b[0m\u001b[0;34m.\u001b[0m\u001b[0mconcatenate\u001b[0m\u001b[0;34m(\u001b[0m\u001b[0marrs\u001b[0m\u001b[0;34m,\u001b[0m \u001b[0;36m1\u001b[0m\u001b[0;34m)\u001b[0m\u001b[0;34m\u001b[0m\u001b[0m\n\u001b[0m",
      "\u001b[0;31mValueError\u001b[0m: all the input arrays must have same number of dimensions"
     ]
    }
   ],
   "source": [
    "A = np.arange(9).reshape(3, 3) + 1\n",
    "B = np.array([[-1, -2, -1], [0, 0, 0], [1, 2, 1]])\n",
    "\n",
    "print 'Convolve'\n",
    "print convolve(A, B, mode='same')\n",
    "print ''\n",
    "print 'FFT Convolve'\n",
    "print fftconvolve(A, B, mode='same')\n",
    "print ''"
   ]
  },
  {
   "cell_type": "code",
   "execution_count": 3,
   "metadata": {
    "collapsed": false
   },
   "outputs": [],
   "source": [
    "def myFFTconvolve(x, y, mode='same'):\n",
    "    \n",
    "    # Additional zero padding for even matrices.\n",
    "    x_fix, y_fix = [(1 - np.array(z.shape) % 2) for z in [x, y]]\n",
    "    \n",
    "    # Pixel radius for zero padding.\n",
    "    x_rad, y_rad = [np.array(z.shape) / 2 for z in [x, y]]\n",
    "\n",
    "    # Add zero padding to input matrices.\n",
    "    x_pad = np.pad(x, ((y_rad[0], y_rad[0] + x_fix[0]), (y_rad[1], y_rad[1] + x_fix[1])), mode='constant')\n",
    "    y_pad = np.pad(y, ((x_rad[0], x_rad[0] + y_fix[0]), (x_rad[1], x_rad[1] + y_fix[1])), mode='constant')\n",
    "    \n",
    "    # Calculate the full convolution of the zero padded matrices.\n",
    "    full = np.real(np.fft.ifftshift(np.fft.ifft2(np.fft.fft2(x_pad) * np.fft.fft2(y_pad))))\n",
    "\n",
    "    # Find the centre of the convoled matrix.\n",
    "    centre = np.array(full.shape) / 2\n",
    "    \n",
    "    if mode == 'same':\n",
    "    \n",
    "        # Extract the central values with the same shape as the input matrix x from the colvolved matrix.\n",
    "        x_sl = [slice(a - b, a + b - c + 1) for a, b, c in zip(centre, x_rad, x_fix)]\n",
    "\n",
    "        # Return the sliced matrix.\n",
    "        return full[x_sl]\n",
    "    \n",
    "    elif mode == 'full': \n",
    "        \n",
    "        # Return the full matrix.\n",
    "        return full\n",
    "    \n",
    "    else:\n",
    "        \n",
    "        raise ValueError('Invalide option for mode.')\n",
    "        \n",
    "        \n",
    "def myFFTcorrelate(x, y, mode='same'):\n",
    "\n",
    "    return myFFTconvolve(x, np.rot90(y, 2), mode)\n",
    "\n",
    "\n",
    "def myFFTautocorrelate(x, mode='same'):\n",
    "    \n",
    "    return myFFTcorrelate(x, x)"
   ]
  },
  {
   "cell_type": "code",
   "execution_count": 4,
   "metadata": {
    "collapsed": false
   },
   "outputs": [
    {
     "name": "stdout",
     "output_type": "stream",
     "text": [
      "My FFT Convolve\n",
      "[[-13. -20. -17.]\n",
      " [-18. -24. -18.]\n",
      " [ 13.  20.  17.]]\n",
      "\n"
     ]
    }
   ],
   "source": [
    "print 'My FFT Convolve'\n",
    "print myFFTconvolve(A, B)\n",
    "print ''"
   ]
  },
  {
   "cell_type": "code",
   "execution_count": 5,
   "metadata": {
    "collapsed": false
   },
   "outputs": [
    {
     "name": "stdout",
     "output_type": "stream",
     "text": [
      "Correlate\n",
      "[[ 13  20  17]\n",
      " [ 18  24  18]\n",
      " [-13 -20 -17]]\n",
      "\n",
      "My Correl\n",
      "[[ 13.  20.  17.]\n",
      " [ 18.  24.  18.]\n",
      " [-13. -20. -17.]]\n",
      "\n"
     ]
    }
   ],
   "source": [
    "print 'Correlate'\n",
    "print correlate2d(A, B, mode='same')\n",
    "print ''\n",
    "print 'My Correl'\n",
    "print myFFTcorrelate(A, B)\n",
    "print ''"
   ]
  },
  {
   "cell_type": "code",
   "execution_count": 6,
   "metadata": {
    "collapsed": false
   },
   "outputs": [
    {
     "name": "stdout",
     "output_type": "stream",
     "text": [
      "Auto-Correlate\n",
      "[[ 94 154 106]\n",
      " [186 285 186]\n",
      " [106 154  94]]\n",
      "\n",
      "My Auto-Correlate\n",
      "[[  94.  154.  106.]\n",
      " [ 186.  285.  186.]\n",
      " [ 106.  154.   94.]]\n",
      "\n"
     ]
    }
   ],
   "source": [
    "print 'Auto-Correlate'\n",
    "print correlate2d(A, A, mode='same')\n",
    "print ''\n",
    "print 'My Auto-Correlate'\n",
    "print myFFTautocorrelate(A)\n",
    "print "
   ]
  },
  {
   "cell_type": "code",
   "execution_count": 7,
   "metadata": {
    "collapsed": false
   },
   "outputs": [
    {
     "name": "stdout",
     "output_type": "stream",
     "text": [
      "2054.30791266\n",
      "2054.30791266\n"
     ]
    }
   ],
   "source": [
    "from functions.stats import autocorr2d\n",
    "\n",
    "print autocorr2d(A)\n",
    "print np.linalg.norm(np.abs(np.fft.fft2(A)) ** 2)"
   ]
  },
  {
   "cell_type": "code",
   "execution_count": null,
   "metadata": {
    "collapsed": true
   },
   "outputs": [],
   "source": []
  }
 ],
 "metadata": {
  "kernelspec": {
   "display_name": "Python 2",
   "language": "python",
   "name": "python2"
  },
  "language_info": {
   "codemirror_mode": {
    "name": "ipython",
    "version": 2
   },
   "file_extension": ".py",
   "mimetype": "text/x-python",
   "name": "python",
   "nbconvert_exporter": "python",
   "pygments_lexer": "ipython2",
   "version": "2.7.11"
  }
 },
 "nbformat": 4,
 "nbformat_minor": 0
}
