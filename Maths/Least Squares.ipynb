{
 "cells": [
  {
   "cell_type": "markdown",
   "metadata": {},
   "source": [
    "# Least Squares Fitting"
   ]
  },
  {
   "cell_type": "markdown",
   "metadata": {},
   "source": [
    "## Contents\n",
    " \n",
    "1. [Introduction](#Introduction)\n",
    "1. [Straight Line](#Straight-Line)\n",
    " * [Equation of a Straight Line](#Equation-of-a-Straight-Line)\n",
    " * [Least Sqaures Residual](#Least-Squares-Residual)\n",
    " * [Best Fit](#Best-Fit)\n",
    "1. [Kth Degree Polynomial](#Kth-Degree-Polynomial)\n",
    " * [Equation of a Polynomial Line](#Equation-of-a-Polynomial-Line)\n",
    " * [Matrix Notation](#Matrix-Notation)\n",
    " * [Best Fit Derivation](#Best-Fit-Derivation)\n",
    "1. [Scipy](#Scipy)"
   ]
  },
  {
   "cell_type": "markdown",
   "metadata": {},
   "source": [
    "## Introduction\n",
    "\n",
    "Accoridng to [Wikipedia](https://en.wikipedia.org/wiki/Least_squares): *'The method of least squares is a standard approach in regression analysis to the approximate solution of overdetermined systems, i.e., sets of equations in which there are more equations than unknowns. \"Least squares\" means that the overall solution minimizes the sum of the squares of the errors made in the results of every single equation.'*"
   ]
  },
  {
   "cell_type": "markdown",
   "metadata": {},
   "source": [
    "## Straight Line\n",
    "\n",
    "\n",
    "### Equation of a Straight Line\n",
    "\n",
    "Let's start with something familiar a simple straight line which has a well known equation:\n",
    "\n",
    "$$y = mx + c$$\n",
    "\n",
    "where $m$ is the gradient of the line and $c$ is the intercept in the $y$-axis. In python we could implement the following function:"
   ]
  },
  {
   "cell_type": "code",
   "execution_count": 8,
   "metadata": {
    "collapsed": true
   },
   "outputs": [],
   "source": [
    "# Define the function y(x).\n",
    "def y_func(x, m, c):\n",
    "    '''This defines a function called y_func with input variables x, m and c, and returns the values of mx + c.'''\n",
    "    \n",
    "    return m * x + c"
   ]
  },
  {
   "cell_type": "markdown",
   "metadata": {},
   "source": [
    "So, a straigh line passing through the origin would have $m = 1$ and $c = 0$. In python we can represent this by chosing a range of values in the $x$-axis and plotting the line:"
   ]
  },
  {
   "cell_type": "code",
   "execution_count": 9,
   "metadata": {
    "collapsed": false,
    "scrolled": true
   },
   "outputs": [
    {
     "data": {
      "image/png": "[encoded data removed]",
      "text/plain": [
       "<matplotlib.figure.Figure at 0x108d30c10>"
      ]
     },
     "metadata": {},
     "output_type": "display_data"
    }
   ],
   "source": [
    "# Tell Jupyter to display plots in the page.\n",
    "%matplotlib inline\n",
    "\n",
    "# Import the numpy package with the alias np.\n",
    "import numpy as np               \n",
    "\n",
    "# Import the pyplot package from matplotlib with the alias plt.\n",
    "import matplotlib.pyplot as plt  \n",
    "\n",
    "# Create an array of integers from 0 to 9.\n",
    "x = np.arange(10)                \n",
    "\n",
    "# Plot x vs y(x) with blue circles and a line.\n",
    "plt.plot(x, y_func(x, 1, 0), 'bo-') \n",
    "\n",
    "# Display the plot.\n",
    "plt.show()                       "
   ]
  },
  {
   "cell_type": "markdown",
   "metadata": {},
   "source": [
    "### Least Squares Residual\n",
    "\n",
    "Now, let's take a collection of points where we have both the $x$ and $y$ coordinates."
   ]
  },
  {
   "cell_type": "code",
   "execution_count": 10,
   "metadata": {
    "collapsed": false
   },
   "outputs": [
    {
     "data": {
      "image/png": "[encoded data removed]",
      "text/plain": [
       "<matplotlib.figure.Figure at 0x10c190f90>"
      ]
     },
     "metadata": {},
     "output_type": "display_data"
    }
   ],
   "source": [
    "# Set predefined values for x and y.\n",
    "x = np.array([ 8,  2, 11,  6,  5,  4, 12,  9,  6,  1])\n",
    "y = np.array([3, 10, 3, 6, 8, 12, 1, 4, 9, 14])\n",
    "\n",
    "# Set the plot range from 0 to 15 in both axes.\n",
    "plt.xlim(0, 15)\n",
    "plt.ylim(0, 15)\n",
    "\n",
    "# Display the plot.\n",
    "plt.plot(x, y, 'bo') \n",
    "plt.show()"
   ]
  },
  {
   "cell_type": "markdown",
   "metadata": {},
   "source": [
    "We want to figure out what is the line or more preciscely what is the gradient and incercept of the line that best fits these points. The least squares method aims to find the soluiton in which the sum of the squared distances between our proposed line ($\\hat{y}$) and the actual distribution of points ($y$) or residual ($R$) is minimum. \n",
    "\n",
    "$$R = \\sum_{i=1}^{n}(y_i - \\hat{y}_i)^2 = \\sum_{i=1}^{n}(y_i - (mx_i + c))^2$$\n",
    "\n",
    "In python we can represent out least squares residual as follows:"
   ]
  },
  {
   "cell_type": "code",
   "execution_count": 11,
   "metadata": {
    "collapsed": true
   },
   "outputs": [],
   "source": [
    "# Define the least squares residual function.\n",
    "def ls_res(y, y_hat):\n",
    "    \n",
    "    return np.sum((y - y_hat) ** 2)"
   ]
  },
  {
   "cell_type": "markdown",
   "metadata": {},
   "source": [
    "So, now let's propose a few differnt lines and see how well they fit the data.\n",
    "\n",
    "| Line | Gradient ($m$) | Intercept ($c$) | \n",
    "|------|----------------|-----------------|\n",
    "| a    | 1.0            | 0.0             | \n",
    "| b    | 0.0            | 7.0             |\n",
    "| c    | -1.0           | 15.0            |\n",
    "\n",
    "Using the ls_res we can check the residuals for each of these lines:"
   ]
  },
  {
   "cell_type": "code",
   "execution_count": 12,
   "metadata": {
    "collapsed": false
   },
   "outputs": [
    {
     "name": "stdout",
     "output_type": "stream",
     "text": [
      "Residual for line a: 550.0\n",
      "Residual for line b: 166.0\n",
      "Residual for line c: 48.0\n"
     ]
    }
   ],
   "source": [
    "# Set the line gradient and intercept values.\n",
    "a_line = (1.0, 0.0)\n",
    "b_line = (0.0, 7.0)\n",
    "c_line = (-1.0, 15.0)\n",
    "\n",
    "# Check the residuals for each line.\n",
    "print 'Residual for line a:', ls_res(y, y_func(x, *a_line))\n",
    "print 'Residual for line b:', ls_res(y, y_func(x, *b_line))\n",
    "print 'Residual for line c:', ls_res(y, y_func(x, *c_line))"
   ]
  },
  {
   "cell_type": "markdown",
   "metadata": {},
   "source": [
    "The line that produced the lowest residual was c and out of the three should produce the best fit. We can plot each of lines and see if we agree."
   ]
  },
  {
   "cell_type": "code",
   "execution_count": 13,
   "metadata": {
    "collapsed": false
   },
   "outputs": [
    {
     "data": {
      "image/png": "[encoded data removed]",
      "text/plain": [
       "<matplotlib.figure.Figure at 0x10c532390>"
      ]
     },
     "metadata": {},
     "output_type": "display_data"
    }
   ],
   "source": [
    "# Set the plot range from 0 to 15 in both axes.\n",
    "plt.xlim(0, 15)\n",
    "plt.ylim(0, 15)\n",
    "\n",
    "# Plot the points.\n",
    "plt.plot(x, y, 'bo') \n",
    "\n",
    "# Plot the lines in red, yellow and green.\n",
    "plt.plot(x, y_func(x, 1.0, 0.0), 'r-', label='a')\n",
    "plt.plot(x, y_func(x, 0.0, 7.0), 'y-', label='b')\n",
    "plt.plot(x, y_func(x, -1.0, 15.0), 'g-', label='c')\n",
    "\n",
    "# Add a plot legend.\n",
    "plt.legend()\n",
    "\n",
    "# Display the plot.\n",
    "plt.show()"
   ]
  },
  {
   "cell_type": "markdown",
   "metadata": {},
   "source": [
    "The line c (green) does indeed fit the data better than a or b. We can easily see how the residual changes for a series of lines around c.\n",
    "\n",
    "### Best Fit\n",
    "\n",
    "One way to find the values of $m$ and $c$ that minimises the residual (derivation in [next section](#Kth-Degree-Polynomial))is with the following two equations:\n",
    "\n",
    "$$m = \\frac{\\sum_{i=1}^{n}(x_i - \\bar{X})(y_i - \\bar{Y})}{\\sum_{i=1}^{n}(x_i - \\bar{X})^2}$$\n",
    "\n",
    "$$c = \\bar{Y} - m\\bar{X}$$\n",
    "\n",
    "where $\\bar{X}$ and $\\bar{Y}$ are the mean values of $x$ and $y$ respectively. We can implement this in python as follows:"
   ]
  },
  {
   "cell_type": "code",
   "execution_count": 14,
   "metadata": {
    "collapsed": false
   },
   "outputs": [
    {
     "name": "stdout",
     "output_type": "stream",
     "text": [
      "m = -1.10641891892\n",
      "c = 14.0810810811\n"
     ]
    }
   ],
   "source": [
    "# Calculate the gradient.\n",
    "m = np.sum((x - np.mean(x)) * (y - np.mean(y))) / np.sum((x - np.mean(x)) ** 2)\n",
    "\n",
    "# Calculate the intercept.\n",
    "c = np.mean(y) - m * np.mean(x)\n",
    "\n",
    "# Print the resulting values\n",
    "print 'm =', m\n",
    "print 'c =', c"
   ]
  },
  {
   "cell_type": "markdown",
   "metadata": {
    "collapsed": true
   },
   "source": [
    "Now we can check the residual and plot the line."
   ]
  },
  {
   "cell_type": "code",
   "execution_count": 15,
   "metadata": {
    "collapsed": false
   },
   "outputs": [
    {
     "name": "stdout",
     "output_type": "stream",
     "text": [
      "Least squares residual =  21.0591216216\n"
     ]
    }
   ],
   "source": [
    "print 'Least squares residual = ', ls_res(y, y_func(x, m, c))"
   ]
  },
  {
   "cell_type": "code",
   "execution_count": 16,
   "metadata": {
    "collapsed": false
   },
   "outputs": [
    {
     "data": {
      "image/png": "[encoded data removed]",
      "text/plain": [
       "<matplotlib.figure.Figure at 0x10c547910>"
      ]
     },
     "metadata": {},
     "output_type": "display_data"
    }
   ],
   "source": [
    "# Set the plot range from 0 to 15 in both axes.\n",
    "plt.xlim(0, 15)\n",
    "plt.ylim(0, 15)\n",
    "\n",
    "# Plot the points.\n",
    "plt.plot(x, y, 'bo') \n",
    "\n",
    "# Plot the line in green.\n",
    "plt.plot(x, y_func(x, m, c), 'g-')\n",
    "\n",
    "# Display the plot.\n",
    "plt.show()"
   ]
  },
  {
   "cell_type": "markdown",
   "metadata": {},
   "source": [
    "This solution has the smallest residual and the plot displays what appears to be the best fit."
   ]
  },
  {
   "cell_type": "markdown",
   "metadata": {},
   "source": [
    "## Kth Degree Polynomial\n",
    "\n",
    "It is not necessary that the best fit to a set of points be a straigh line. In fact, the best fit may be a polynomial with $k$ degrees for freedom.\n",
    "\n",
    "### Equation of a Polynomial Line\n",
    "\n",
    "The expression for a straigh line (*i.e.* $k = 1$) generalises to the following form for a $k$th degree polynomial:\n",
    "\n",
    "$$y = a_0 + a_1x + a_2x^2 + ... + a_kx^k$$\n",
    "\n",
    "where $a_i$ are the polynomial coefficients. The expression for the least squares residual then generalises to:\n",
    "\n",
    "$$R = \\sum_{i=1}^{n}[y_i - (a_0 + a_1x_i + a_2x_i^2 + ... + a_kx_i^k)]^2$$\n",
    "\n",
    "### Matrix Notation\n",
    "\n",
    "In matrix notation the equation can be expressed as:\n",
    "\n",
    "$$y = Xa$$\n",
    "\n",
    "which can be solved analytically as follows:\n",
    "\n",
    "$$a = (X^TX)^{-1}X^Ty$$\n",
    "\n",
    "and we can express this in python as follows:"
   ]
  },
  {
   "cell_type": "code",
   "execution_count": 17,
   "metadata": {
    "collapsed": true
   },
   "outputs": [],
   "source": [
    "def a_func(X, y):\n",
    "    '''This function calculates the vector a from the input matrix X and vector y.'''\n",
    "    \n",
    "    return np.dot(np.dot(np.linalg.inv(np.dot(X.T, X)), X.T), y)"
   ]
  },
  {
   "cell_type": "markdown",
   "metadata": {},
   "source": [
    "We can use this function to solve our original linear regression, but in order to do so we first need to convert the vector $x$ to a matrix $X$. To do this we note that the $a_0$ coefficient corresponds to out $y$-intercept value and therefore corresonds to $x^0 = 1$, hence we need to create a vector of ones with the same length as $x$ and stack the two to form the matrix $X$. This can be done in python as follows."
   ]
  },
  {
   "cell_type": "code",
   "execution_count": 18,
   "metadata": {
    "collapsed": false
   },
   "outputs": [
    {
     "name": "stdout",
     "output_type": "stream",
     "text": [
      "a = [ 14.08108108  -1.10641892]\n"
     ]
    }
   ],
   "source": [
    "# Define the matrix X\n",
    "X = np.vstack((np.ones(x.size), x)).T\n",
    "\n",
    "# Find the values of the coefficients a.\n",
    "a = a_func(X, y)\n",
    "print 'a =', a\n"
   ]
  },
  {
   "cell_type": "markdown",
   "metadata": {},
   "source": [
    "Again we can check the residual and plot the corresponding line."
   ]
  },
  {
   "cell_type": "code",
   "execution_count": 19,
   "metadata": {
    "collapsed": false
   },
   "outputs": [
    {
     "name": "stdout",
     "output_type": "stream",
     "text": [
      "Least squares residual = 21.0591216216\n"
     ]
    }
   ],
   "source": [
    "# Print the residual.\n",
    "print 'Least squares residual =', ls_res(y, y_func(x, *a[::-1]))"
   ]
  },
  {
   "cell_type": "code",
   "execution_count": 20,
   "metadata": {
    "collapsed": false
   },
   "outputs": [
    {
     "data": {
      "image/png": "[encoded data removed]",
      "text/plain": [
       "<matplotlib.figure.Figure at 0x10c6d3b10>"
      ]
     },
     "metadata": {},
     "output_type": "display_data"
    }
   ],
   "source": [
    "# Set the plot range from 0 to 15 in both axes.\n",
    "plt.xlim(0, 15)\n",
    "plt.ylim(0, 15)\n",
    "\n",
    "# Plot the points.\n",
    "plt.plot(x, y, 'bo') \n",
    "\n",
    "# Plot the line in green.\n",
    "plt.plot(x, y_func(x, *a[::-1]), 'g-')\n",
    "\n",
    "# Display the plot.\n",
    "plt.show()"
   ]
  },
  {
   "cell_type": "markdown",
   "metadata": {},
   "source": [
    "### Best Fit Derivation\n",
    "\n",
    "The condition for the least square residual ($R$) to be at a minimum is:\n",
    "\n",
    "$$\\frac{\\partial R}{\\partial a_i} = 0$$\n",
    "\n",
    "So, for example, a straight line ($y = a_0 + a_1x$) will have the following residual:\n",
    "\n",
    "$$R = \\sum_{i=1}^{n}[y_i - (a_0 + a_1x_i)]^2$$\n",
    "\n",
    "and hence the following partial derivatives:\n",
    "\n",
    "$$\\frac{\\partial R}{\\partial a_0} = -2\\sum_{i=1}^{n}[y_i - (a_0 + a_1x_i)] = 0$$\n",
    "\n",
    "$$\\frac{\\partial R}{\\partial a_1} = -2\\sum_{i=1}^{n}[y_i - (a_0 + a_1x_i)]x_i = 0$$\n",
    "\n",
    "which lead to the following equations:\n",
    "\n",
    "$$\\sum_{i=1}^{n}y_i = na_0 + a_1\\sum_{i=1}^{n}x_i$$\n",
    "\n",
    "$$\\sum_{i=1}^{n}x_iy_i = a_0\\sum_{i=1}^{n}x_i + a_1\\sum_{i=1}^{n}x_i^2$$\n",
    "\n",
    "which can be expressed in matrix form as:\n",
    "\n",
    "$$\\Bigg[\\begin{array}{c} \\sum_{i=1}^{n}y_i \\\\ \\sum_{i=1}^{n}x_iy_i \\\\ \\end{array} \\Bigg] = \\Bigg[\\begin{array}{cc} n & \\sum_{i=1}^{n}x_i \\\\ \\sum_{i=1}^{n}x_i & \\sum_{i=1}^{n}x_i^2 \\\\ \\end{array} \\Bigg]$$\n",
    "\n",
    "and thus solving this analytically we get the expressions given in the previous [section](#Best-Fit):\n",
    "\n",
    "$$a_1 = \\frac{\\sum_{i=1}^{n}(x_i - \\bar{X})(y_i - \\bar{Y})}{\\sum_{i=1}^{n}(x_i - \\bar{X})^2}$$\n",
    "\n",
    "$$a_0 = \\bar{Y} - m\\bar{X}$$\n"
   ]
  },
  {
   "cell_type": "markdown",
   "metadata": {},
   "source": [
    "## Scipy\n",
    "\n",
    "There is also a built-in Scipy routine for obtaining linear regression via least squares."
   ]
  },
  {
   "cell_type": "code",
   "execution_count": 21,
   "metadata": {
    "collapsed": false
   },
   "outputs": [
    {
     "name": "stdout",
     "output_type": "stream",
     "text": [
      "(-1.1064189189189189, 14.081081081081081, -0.93441844029133769, 7.4732610784188284e-05, 0.14910742892513681)\n"
     ]
    }
   ],
   "source": [
    "from scipy.stats import linregress\n",
    "\n",
    "res = linregress(x, y)\n",
    "\n",
    "print res"
   ]
  },
  {
   "cell_type": "code",
   "execution_count": 22,
   "metadata": {
    "collapsed": false
   },
   "outputs": [
    {
     "data": {
      "image/png": "[encoded data removed]",
      "text/plain": [
       "<matplotlib.figure.Figure at 0x10c5c6f90>"
      ]
     },
     "metadata": {},
     "output_type": "display_data"
    }
   ],
   "source": [
    "# Set the plot range from 0 to 15 in both axes.\n",
    "plt.xlim(0, 15)\n",
    "plt.ylim(0, 15)\n",
    "\n",
    "# Plot the points.\n",
    "plt.plot(x, y, 'bo') \n",
    "\n",
    "# Plot the line in green.\n",
    "plt.plot(x, y_func(x, res[0], res[1]), 'g-')\n",
    "\n",
    "# Display the plot.\n",
    "plt.show()"
   ]
  },
  {
   "cell_type": "code",
   "execution_count": null,
   "metadata": {
    "collapsed": true
   },
   "outputs": [],
   "source": []
  }
 ],
 "metadata": {
  "kernelspec": {
   "display_name": "Python 2",
   "language": "python",
   "name": "python2"
  },
  "language_info": {
   "codemirror_mode": {
    "name": "ipython",
    "version": 2
   },
   "file_extension": ".py",
   "mimetype": "text/x-python",
   "name": "python",
   "nbconvert_exporter": "python",
   "pygments_lexer": "ipython2",
   "version": "2.7.11"
  }
 },
 "nbformat": 4,
 "nbformat_minor": 0
}
