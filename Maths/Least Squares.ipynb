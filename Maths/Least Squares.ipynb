{
 "cells": [
  {
   "cell_type": "markdown",
   "metadata": {},
   "source": [
    "# Least Squares Fitting\n",
    "\n",
    "---\n",
    "\n",
    "> Samuel Farrens 2016\n",
    "\n",
    "\n",
    "## Contents\n",
    "\n",
    "---\n",
    " \n",
    "1. [Introduction](#Introduction)\n",
    "1. [Set-Up](#Set-Up)\n",
    "1. [Straight Line](#Straight-Line)\n",
    " * [Equation of a Straight Line](#Equation-of-a-Straight-Line)\n",
    " * [Least Sqaures Residual](#Least-Squares-Residual)\n",
    " * [Best Fit](#Best-Fit)\n",
    " * [Scipy](#Scipy)\n",
    "1. [Kth Degree Polynomial](#Kth-Degree-Polynomial)\n",
    " * [Equation of a Polynomial Line](#Equation-of-a-Polynomial-Line)\n",
    " * [Matrix Notation](#Matrix-Notation)\n",
    " * [Straight Line Example](#Straight-Line-Example)\n",
    " * [Polynomial Line Example](#Polynomial-Line-Example)\n",
    "1. [Regularisation](#Regularisation)\n",
    "1. [Best Fit Derivation](#Best-Fit-Derivation)"
   ]
  },
  {
   "cell_type": "markdown",
   "metadata": {},
   "source": [
    "## Introduction\n",
    "\n",
    "---\n",
    "\n",
    "Accoridng to [Wikipedia](https://en.wikipedia.org/wiki/Least_squares): *'The method of least squares is a standard approach in regression analysis to the approximate solution of overdetermined systems, i.e., sets of equations in which there are more equations than unknowns. \"Least squares\" means that the overall solution minimizes the sum of the squares of the errors made in the results of every single equation.'*\n",
    "\n",
    "It sounds complicated, but in practice it is very easy to follow and implement in Python. In the following sections we will build up the concept starting with most basic example and work out way up to a coprehensive understanding of the least squares method.\n",
    "\n",
    "## Set-Up\n",
    "\n",
    "---\n",
    "\n",
    "Here we will import a couple of packages that we will need throughout the notebook."
   ]
  },
  {
   "cell_type": "code",
   "execution_count": 86,
   "metadata": {
    "collapsed": true
   },
   "outputs": [],
   "source": [
    "# Tell Jupyter to display plots in this notebook.\n",
    "%matplotlib inline\n",
    "\n",
    "# Import the numpy package with the alias np.\n",
    "import numpy as np               \n",
    "\n",
    "# Import the pyplot package from matplotlib with the alias plt.\n",
    "import matplotlib.pyplot as plt  "
   ]
  },
  {
   "cell_type": "markdown",
   "metadata": {},
   "source": [
    "## Straight Line\n",
    "\n",
    "---\n",
    "\n",
    "The best place to start is with something that should be intimately familiar to anyone with even the most basic background in mathematics, a straight line.\n",
    "\n",
    "### Equation of a Straight Line\n",
    "\n",
    "A simple straight line can be represented with the following well known equation:\n",
    "\n",
    "$$y = mx + c$$\n",
    "\n",
    "where $m$ is the gradient or slope of the line and $c$ is the point where the line intercepts the $y$-axis. In Python we can implement the following function to represent this equation:"
   ]
  },
  {
   "cell_type": "code",
   "execution_count": 87,
   "metadata": {
    "collapsed": false
   },
   "outputs": [],
   "source": [
    "# Define the function y(x).\n",
    "# This defines a function called y_func with input variables x, m and c, and returns the values of mx + c.\n",
    "def y_func(x, m, c):\n",
    "    \n",
    "    return m * x + c"
   ]
  },
  {
   "cell_type": "markdown",
   "metadata": {},
   "source": [
    "A straigh line passing through the origin would have a gradient of $m = 1$ and and an intercept of $c = 0$ (*i.e.* $y = x$). In Python we can represent this by chosing a range of values in the $x$-axis and plotting the line."
   ]
  },
  {
   "cell_type": "code",
   "execution_count": 88,
   "metadata": {
    "collapsed": false,
    "scrolled": true
   },
   "outputs": [
    {
     "data": {
      "image/png": "[encoded data removed]",
      "text/plain": [
       "<matplotlib.figure.Figure at 0x10b14ced0>"
      ]
     },
     "metadata": {},
     "output_type": "display_data"
    }
   ],
   "source": [
    "# Create an array of integers from 0 to 9.\n",
    "x = np.arange(10)                \n",
    "\n",
    "# Plot x vs y(x) for m=1 and c=0 with a blue line.\n",
    "plt.plot(x, y_func(x, 1, 0), 'b-')\n",
    "\n",
    "# Give a title to the plot and the axes.\n",
    "plt.title('Example of a straight line.')\n",
    "plt.xlabel('x')\n",
    "plt.ylabel('y')\n",
    "\n",
    "# Display the plot.\n",
    "plt.show()                       "
   ]
  },
  {
   "cell_type": "markdown",
   "metadata": {},
   "source": [
    "### Least Squares Residual\n",
    "\n",
    "Now, let's take a collection of points where we alredy have both the $x$ and $y$ coordinates.\n",
    "\n",
    "| x  | y  |\n",
    "|:--:|:--:|\n",
    "| 8  | 3  |\n",
    "| 2  | 10 |\n",
    "| 11 | 3  |\n",
    "| 6  | 6  |\n",
    "| 5  | 8  |\n",
    "| 4  | 12 |\n",
    "| 12 | 1  |\n",
    "| 9  | 4  |\n",
    "| 6  | 9  |\n",
    "| 11 | 14 |"
   ]
  },
  {
   "cell_type": "code",
   "execution_count": 89,
   "metadata": {
    "collapsed": false
   },
   "outputs": [
    {
     "data": {
      "image/png": "[encoded data removed]",
      "text/plain": [
       "<matplotlib.figure.Figure at 0x10b7f2e10>"
      ]
     },
     "metadata": {},
     "output_type": "display_data"
    }
   ],
   "source": [
    "# Set predefined values for x and y.\n",
    "x = np.array([ 8,  2, 11,  6,  5,  4, 12,  9,  6,  1])\n",
    "y = np.array([3, 10, 3, 6, 8, 12, 1, 4, 9, 14])\n",
    "\n",
    "# For simplicity we are going to sort these arrays by the elements in x.\n",
    "index = np.argsort(x)\n",
    "x = x[index]\n",
    "y = y[index]\n",
    "\n",
    "# Set the plot range from 0 to 15 in both axes so we can see all of the points clearly.\n",
    "plt.xlim(0, 15)\n",
    "plt.ylim(0, 15)\n",
    "\n",
    "# Display the plot with blue dots.\n",
    "plt.plot(x, y, 'bo') \n",
    "plt.title('Example Points')\n",
    "plt.xlabel('x')\n",
    "plt.ylabel('y')\n",
    "plt.show()"
   ]
  },
  {
   "cell_type": "markdown",
   "metadata": {},
   "source": [
    "We want to figure out what is the line or more preciscely what is the gradient and incercept of the line that best fits these points. The least squares method aims to find the soluiton in which the sum of the squared distances between our proposed line ($\\hat{y}$) and the actual distribution of points ($y$) or residual ($R$) is minimum. \n",
    "\n",
    "One way to visualise this is to choose some arbitrary line (let's take $m=-0.5$ and $c=10.0$) and a measure the distance along the $y$-axis of each of the points to this line. "
   ]
  },
  {
   "cell_type": "code",
   "execution_count": 90,
   "metadata": {
    "collapsed": false
   },
   "outputs": [
    {
     "data": {
      "image/png": "[encoded data removed]",
      "text/plain": [
       "<matplotlib.figure.Figure at 0x107f118d0>"
      ]
     },
     "metadata": {},
     "output_type": "display_data"
    }
   ],
   "source": [
    "# Set the plot range from 0 to 15 in both axes so we can see all of the points clearly.\n",
    "plt.xlim(0, 15)\n",
    "plt.ylim(0, 15)\n",
    "\n",
    "# Plot the data points.\n",
    "plt.plot(x, y, 'bo') \n",
    "\n",
    "# Plot the arbitrary line in yellow.\n",
    "plt.plot(x, y_func(x, -0.5, 10.0), 'g-', label='b')\n",
    "\n",
    "# Plot the distance between the points and the arbitrary line.\n",
    "for x_i, y_i in zip(x, y):\n",
    "    plt.plot((x_i, x_i), (y_i, y_func(x_i, -0.5, 10.0)), 'r--')\n",
    "\n",
    "# Display the plot.\n",
    "plt.title('Arbitrary Line Fit')\n",
    "plt.xlabel('x')\n",
    "plt.ylabel('y')\n",
    "plt.show()"
   ]
  },
  {
   "cell_type": "markdown",
   "metadata": {},
   "source": [
    "The residual for the above plot will be the sum of the square of the red dashed lines and the best fit line will have the smallest possible value of this sum.\n",
    "\n",
    "The equation to measure the least squares residual is the following:\n",
    "\n",
    "$$R = \\sum_{i=1}^{n}(y_i - \\hat{y}_i)^2 = \\sum_{i=1}^{n}(y_i - (mx_i + c))^2$$\n",
    "\n",
    "In Python we can represent this equation as follows:"
   ]
  },
  {
   "cell_type": "code",
   "execution_count": 91,
   "metadata": {
    "collapsed": false
   },
   "outputs": [
    {
     "name": "stdout",
     "output_type": "stream",
     "text": [
      "Arbitrary line residual = 65.0\n"
     ]
    }
   ],
   "source": [
    "# Define the least squares residual function.\n",
    "def ls_res(y, y_hat):\n",
    "    \n",
    "    return np.sum((y - y_hat) ** 2)\n",
    "\n",
    "# Print the residual for the arbitrary line.\n",
    "print 'Arbitrary line residual =', ls_res(y, y_func(x, -0.5, 10.0))"
   ]
  },
  {
   "cell_type": "markdown",
   "metadata": {},
   "source": [
    "Our arbitrary line produced a residual of $65$. So, we want to see if we can find a line with a value lower than this.\n",
    "\n",
    "Let's propose a few differnt lines and see how well they fit the data.\n",
    "\n",
    "| Line | Gradient ($m$) | Intercept ($c$) | \n",
    "|:----:|:--------------:|:---------------:|\n",
    "| a    | 1.0            | 0.0             | \n",
    "| b    | 0.0            | 7.0             |\n",
    "| c    | -1.0           | 15.0            |\n",
    "\n",
    "Using the least squares residual function we can check the residuals for each of these lines:"
   ]
  },
  {
   "cell_type": "code",
   "execution_count": 92,
   "metadata": {
    "collapsed": false
   },
   "outputs": [
    {
     "name": "stdout",
     "output_type": "stream",
     "text": [
      "Residual for line a: 550.0\n",
      "Residual for line b: 166.0\n",
      "Residual for line c: 48.0\n"
     ]
    }
   ],
   "source": [
    "# Set the line gradient and intercept values.\n",
    "a_line = (1.0, 0.0)\n",
    "b_line = (0.0, 7.0)\n",
    "c_line = (-1.0, 15.0)\n",
    "\n",
    "# Check the residuals for each line.\n",
    "print 'Residual for line a:', ls_res(y, y_func(x, *a_line))\n",
    "print 'Residual for line b:', ls_res(y, y_func(x, *b_line))\n",
    "print 'Residual for line c:', ls_res(y, y_func(x, *c_line))"
   ]
  },
  {
   "cell_type": "markdown",
   "metadata": {},
   "source": [
    "The line that produced the lowest residual was **c** and out of the three should produce the best fit. We can plot each of lines and see if we agree."
   ]
  },
  {
   "cell_type": "code",
   "execution_count": 93,
   "metadata": {
    "collapsed": false
   },
   "outputs": [
    {
     "data": {
      "image/png": "[encoded data removed]",
      "text/plain": [
       "<matplotlib.figure.Figure at 0x109243050>"
      ]
     },
     "metadata": {},
     "output_type": "display_data"
    }
   ],
   "source": [
    "# Set the plot range from 0 to 15 in both axes.\n",
    "plt.xlim(0, 15)\n",
    "plt.ylim(0, 15)\n",
    "\n",
    "# Plot the points.\n",
    "plt.plot(x, y, 'bo') \n",
    "\n",
    "# Plot the 3 lines in red, yellow and green.\n",
    "plt.plot(x, y_func(x, *a_line), 'r-', label='a')\n",
    "plt.plot(x, y_func(x, *b_line), 'y-', label='b')\n",
    "plt.plot(x, y_func(x, *c_line), 'g-', label='c')\n",
    "\n",
    "# Add a plot legend.\n",
    "plt.legend()\n",
    "\n",
    "# Display the plot.\n",
    "plt.title('Comparison of 3 Lines')\n",
    "plt.xlabel('x')\n",
    "plt.ylabel('y')\n",
    "plt.show()"
   ]
  },
  {
   "cell_type": "markdown",
   "metadata": {},
   "source": [
    "The line c (green) does indeed fit the data better than a or b.\n",
    "\n",
    "### Best Fit\n",
    "\n",
    "In the previous example we found the best fit out of three possible lines. In reality, we have infinitely many lines to choose from and we want to find the one that gives the lowest possible residual.\n",
    "\n",
    "One way to find the values of $m$ and $c$ that minimises the residual is with the following two equations:\n",
    "\n",
    "$$m = \\frac{\\sum_{i=1}^{n}(x_i - \\bar{X})(y_i - \\bar{Y})}{\\sum_{i=1}^{n}(x_i - \\bar{X})^2}$$\n",
    "\n",
    "$$c = \\bar{Y} - m\\bar{X}$$\n",
    "\n",
    "where $\\bar{X}$ and $\\bar{Y}$ are the mean values of $x$ and $y$ respectively (the derivation of these equations is provided in a [later section](#Best-Fit-Derivation)). We can implement these equations in Python as follows:"
   ]
  },
  {
   "cell_type": "code",
   "execution_count": 94,
   "metadata": {
    "collapsed": false
   },
   "outputs": [
    {
     "name": "stdout",
     "output_type": "stream",
     "text": [
      "m = -1.10641891892\n",
      "c = 14.0810810811\n"
     ]
    }
   ],
   "source": [
    "# Calculate the gradient.\n",
    "m = np.sum((x - np.mean(x)) * (y - np.mean(y))) / np.sum((x - np.mean(x)) ** 2)\n",
    "\n",
    "# Calculate the intercept.\n",
    "c = np.mean(y) - m * np.mean(x)\n",
    "\n",
    "# Print the resulting values\n",
    "print 'm =', m\n",
    "print 'c =', c"
   ]
  },
  {
   "cell_type": "markdown",
   "metadata": {
    "collapsed": true
   },
   "source": [
    "Now we can check the residual and plot the line."
   ]
  },
  {
   "cell_type": "code",
   "execution_count": 95,
   "metadata": {
    "collapsed": false
   },
   "outputs": [
    {
     "name": "stdout",
     "output_type": "stream",
     "text": [
      "Least squares residual =  21.0591216216\n"
     ]
    }
   ],
   "source": [
    "# Print the residual.\n",
    "print 'Least squares residual = ', ls_res(y, y_func(x, m, c))"
   ]
  },
  {
   "cell_type": "code",
   "execution_count": 96,
   "metadata": {
    "collapsed": false
   },
   "outputs": [
    {
     "data": {
      "image/png": "[encoded data removed]",
      "text/plain": [
       "<matplotlib.figure.Figure at 0x107e27bd0>"
      ]
     },
     "metadata": {},
     "output_type": "display_data"
    }
   ],
   "source": [
    "# Set the plot range from 0 to 15 in both axes.\n",
    "plt.xlim(0, 15)\n",
    "plt.ylim(0, 15)\n",
    "\n",
    "# Plot the points.\n",
    "plt.plot(x, y, 'bo') \n",
    "\n",
    "# Plot the best fit line in green.\n",
    "plt.plot(x, y_func(x, m, c), 'g-')\n",
    "\n",
    "# Display the plot.\n",
    "plt.title('Best Fit Line')\n",
    "plt.xlabel('x')\n",
    "plt.ylabel('y')\n",
    "plt.show()"
   ]
  },
  {
   "cell_type": "markdown",
   "metadata": {},
   "source": [
    "This solution has the smallest residual and the plot displays what appears to be the best fit.\n",
    "\n",
    "### Scipy\n",
    "\n",
    "Now that you know how to do it yourself you will be happy to know there is also a [built-in Scipy routine](http://docs.scipy.org/doc/scipy/reference/generated/scipy.stats.linregress.html#scipy.stats.linregress) for obtaining linear regression via least squares.\n",
    "\n",
    "It can be easily implemented as follows:"
   ]
  },
  {
   "cell_type": "code",
   "execution_count": 97,
   "metadata": {
    "collapsed": false
   },
   "outputs": [
    {
     "data": {
      "image/png": "[encoded data removed]",
      "text/plain": [
       "<matplotlib.figure.Figure at 0x10b502850>"
      ]
     },
     "metadata": {},
     "output_type": "display_data"
    }
   ],
   "source": [
    "# Import the linregress function from Scipy Stats.\n",
    "from scipy.stats import linregress\n",
    "\n",
    "# Implement the function and keep the first two outputs (slope and intercept).\n",
    "m, c = linregress(x, y)[:2]\n",
    "\n",
    "# Set the plot range from 0 to 15 in both axes.\n",
    "plt.xlim(0, 15)\n",
    "plt.ylim(0, 15)\n",
    "\n",
    "# Plot the points.\n",
    "plt.plot(x, y, 'bo') \n",
    "\n",
    "# Plot the best fit line in green.\n",
    "plt.plot(x, y_func(x, m, c), 'g-')\n",
    "\n",
    "# Display the plot.\n",
    "plt.title('Best Fit Line')\n",
    "plt.xlabel('x')\n",
    "plt.ylabel('y')\n",
    "plt.show()"
   ]
  },
  {
   "cell_type": "markdown",
   "metadata": {},
   "source": [
    "## Kth Degree Polynomial\n",
    "\n",
    "---\n",
    "\n",
    "It is not necessary that the best fit to a set of points be a straight line. In fact, often the best fit may be a polynomial with $k$ degrees of freedom. So, we need to generalise the expressions that we used in the previous section.\n",
    "\n",
    "### Equation of a Polynomial Line\n",
    "\n",
    "The expression for a straigh line (*i.e.* $k = 1$) generalises to the following form for a $k$th degree polynomial:\n",
    "\n",
    "$$y = a_0 + a_1x + a_2x^2 + ... + a_kx^k$$\n",
    "\n",
    "where $a_i$ are the polynomial coefficients. We can represent this in Python with the following function:"
   ]
  },
  {
   "cell_type": "code",
   "execution_count": 98,
   "metadata": {
    "collapsed": false
   },
   "outputs": [],
   "source": [
    "# Define the new function y(x) for any kth degree polynomial.\n",
    "# This defines a function called y_func2 with input variables x and a, and returns the values of a0 + a1x + a2x^2 + ...\n",
    "def y_func2(x, a):\n",
    "    \n",
    "    return sum([(a_i * x ** n) for a_i, n in zip(a, range(a.size))])"
   ]
  },
  {
   "cell_type": "markdown",
   "metadata": {},
   "source": [
    "The expression for the least squares residual then generalises to:\n",
    "\n",
    "$$R = \\sum_{i=1}^{n}[y_i - (a_0 + a_1x_i + a_2x_i^2 + ... + a_kx_i^k)]^2$$\n",
    "\n",
    "### Matrix Notation\n",
    "\n",
    "These equations can be expressed more concisely in matrix notation as follows:\n",
    "\n",
    "$$y = Xa$$\n",
    "\n",
    "Where $a$ is a vector of the coeffcients $a_i$, $y$ is a vector of $y_i$ and $X$ is a matrix composed of $x_i^k$ that acts on $a$. This corresponds to the following minimisation problem:\n",
    "\n",
    "$$\\underset{x}{min} \\ \\|y - Xa\\|_2^2 $$\n",
    "\n",
    "which can be solved analytically as follows:\n",
    "\n",
    "$$a = (X^TX)^{-1}X^Ty$$\n",
    "\n",
    "and we can express this in Python as follows:"
   ]
  },
  {
   "cell_type": "code",
   "execution_count": 99,
   "metadata": {
    "collapsed": true
   },
   "outputs": [],
   "source": [
    "# Define function to calculate a from X and y.\n",
    "# This function calculates the vector a from the input matrix X and vector y.\n",
    "def a_func(X, y):\n",
    "    \n",
    "    return np.dot(np.dot(np.linalg.inv(np.dot(X.T, X)), X.T), y)"
   ]
  },
  {
   "cell_type": "markdown",
   "metadata": {},
   "source": [
    "### Straight Line Example\n",
    "\n",
    "We can use this function to solve our original linear regression problem from the previous section, but in order to do so we first need to convert the vector $x$ to a matrix $X$. To do this we note that the $a_0$ coefficient corresponds to out $y$-intercept value and therefore corresonds to $x^0 = 1$, hence we need to create a vector of ones with the same length as $x$ and stack the two to form the matrix $X$. This can be done in python as follows."
   ]
  },
  {
   "cell_type": "code",
   "execution_count": 100,
   "metadata": {
    "collapsed": false
   },
   "outputs": [
    {
     "name": "stdout",
     "output_type": "stream",
     "text": [
      "a = [ 14.08108108  -1.10641892]\n"
     ]
    }
   ],
   "source": [
    "# Define the matrix X\n",
    "X = np.vstack((np.ones(x.size), x)).T\n",
    "\n",
    "# Find the values of the coefficients a.\n",
    "a = a_func(X, y)\n",
    "print 'a =', a"
   ]
  },
  {
   "cell_type": "markdown",
   "metadata": {},
   "source": [
    "Again we can check the residual and plot the corresponding line."
   ]
  },
  {
   "cell_type": "code",
   "execution_count": 101,
   "metadata": {
    "collapsed": false
   },
   "outputs": [
    {
     "name": "stdout",
     "output_type": "stream",
     "text": [
      "Least squares residual = 21.0591216216\n"
     ]
    }
   ],
   "source": [
    "# Print the residual.\n",
    "print 'Least squares residual =', ls_res(y, y_func2(x, a))"
   ]
  },
  {
   "cell_type": "code",
   "execution_count": 102,
   "metadata": {
    "collapsed": false
   },
   "outputs": [
    {
     "data": {
      "image/png": "[encoded data removed]",
      "text/plain": [
       "<matplotlib.figure.Figure at 0x10b89cc90>"
      ]
     },
     "metadata": {},
     "output_type": "display_data"
    }
   ],
   "source": [
    "# Set the plot range from 0 to 15 in both axes.\n",
    "plt.xlim(0, 15)\n",
    "plt.ylim(0, 15)\n",
    "\n",
    "# Plot the points.\n",
    "plt.plot(x, y, 'bo') \n",
    "\n",
    "# Plot the line in green.\n",
    "plt.plot(x, y_func2(x, a), 'g-')\n",
    "\n",
    "# Display the plot.\n",
    "plt.title('Best Fit Line')\n",
    "plt.xlabel('x')\n",
    "plt.ylabel('y')\n",
    "plt.show()"
   ]
  },
  {
   "cell_type": "markdown",
   "metadata": {},
   "source": [
    "The results agree perfectly with those from the previous section!\n",
    "\n",
    "### Polynomial Line Example\n",
    "\n",
    "Now let's look at an example that requires a higer dimensional polynomial.\n",
    "\n",
    "| x    | y     |\n",
    "|:----:|:-----:|\n",
    "| 0.00 | 0.486 | \n",
    "| 0.05 | 0.866 | \n",
    "| 0.10 | 0.944 | \n",
    "| 0.15 | 1.144 | \n",
    "| 0.20 | 1.103 | \n",
    "| 0.25 | 1.202 | \n",
    "| 0.30 | 1.166 |\n",
    "| 0.35 | 1.191 | \n",
    "| 0.40 | 1.124 | \n",
    "| 0.45 | 1.095 | \n",
    "| 0.50 | 1.122 |\n",
    "| 0.55 | 1.102 |\n",
    "| 0.60 | 1.099 |\n",
    "| 0.65 | 1.017 |\n",
    "| 0.70 | 1.111 |\n",
    "| 0.75 | 1.117 |\n",
    "| 0.80 | 1.152 |\n",
    "| 0.85 | 1.265 |\n",
    "| 0.90 | 1.380 |\n",
    "| 0.95 | 1.575 |\n",
    "| 1.00 | 1.857 |"
   ]
  },
  {
   "cell_type": "code",
   "execution_count": 209,
   "metadata": {
    "collapsed": false
   },
   "outputs": [
    {
     "data": {
      "image/png": "[encoded data removed]",
      "text/plain": [
       "<matplotlib.figure.Figure at 0x10b468d50>"
      ]
     },
     "metadata": {},
     "output_type": "display_data"
    }
   ],
   "source": [
    "# Set predefined values for x and y.\n",
    "x = np.linspace(0.0, 1.0, 21)\n",
    "y = np.array([0.486, 0.866, 0.944, 1.144, 1.103, 1.202, 1.166, 1.191, 1.124, 1.095, 1.122, 1.102, 1.099, 1.017, 1.111, \n",
    "              1.117, 1.152, 1.265, 1.380, 1.575, 1.857])\n",
    "\n",
    "# Display the plot.\n",
    "plt.plot(x, y, 'o')\n",
    "plt.title('Example Points')\n",
    "plt.xlabel('x')\n",
    "plt.ylabel('y')\n",
    "plt.show()"
   ]
  },
  {
   "cell_type": "markdown",
   "metadata": {},
   "source": [
    "By eye we can see that a straight line would be a bad fit to this data, but let's make sure by testing a few different values of $k$. As with the previous example, we need define the matrix $X$ and we can use the following Python function to produce the X matrix for a polynomial of any degree (k):"
   ]
  },
  {
   "cell_type": "code",
   "execution_count": 276,
   "metadata": {
    "collapsed": true
   },
   "outputs": [],
   "source": [
    "# Function to define the matrix X.\n",
    "# This function takes as input the vector x and the degree of the polynomial (k) and returns the matrix X.\n",
    "def x_matrix(x, k):\n",
    "    \n",
    "    return np.vstack([x ** n for n in range(k + 1)]).T"
   ]
  },
  {
   "cell_type": "markdown",
   "metadata": {},
   "source": [
    "Let's try first ($k=1$), second ($k=2$) and thrid ($k=3$) degree polynomials and check the corresponding residuals."
   ]
  },
  {
   "cell_type": "code",
   "execution_count": 277,
   "metadata": {
    "collapsed": false
   },
   "outputs": [
    {
     "name": "stdout",
     "output_type": "stream",
     "text": [
      "Least squares residual (k = 1) = 0.496578632974\n",
      "Least squares residual (k = 2) = 0.487666893841\n",
      "Least squares residual (k = 3) = 0.0599887009046\n"
     ]
    }
   ],
   "source": [
    "print 'Least squares residual (k = 1) =', ls_res(y, y_func2(x, a_func(x_matrix(x, 1), y)))\n",
    "print 'Least squares residual (k = 2) =', ls_res(y, y_func2(x, a_func(x_matrix(x, 2), y)))\n",
    "print 'Least squares residual (k = 3) =', ls_res(y, y_func2(x, a_func(x_matrix(x, 3), y)))"
   ]
  },
  {
   "cell_type": "markdown",
   "metadata": {},
   "source": [
    "The third degree polynomial produces a much lower resdiaul. Let's plot the polynomial lines to see which one best fits the data."
   ]
  },
  {
   "cell_type": "code",
   "execution_count": 283,
   "metadata": {
    "collapsed": false
   },
   "outputs": [
    {
     "data": {
      "image/png": "[encoded data removed]",
      "text/plain": [
       "<matplotlib.figure.Figure at 0x1052c4850>"
      ]
     },
     "metadata": {},
     "output_type": "display_data"
    }
   ],
   "source": [
    "# Find the values of the coefficients a.\n",
    "\n",
    "# k = 1\n",
    "a1 = a_func(x_matrix(x, 1), y)\n",
    "\n",
    "# k = 2\n",
    "a2 = a_func(x_matrix(x, 2), y)\n",
    "\n",
    "# k = 3\n",
    "a3 = a_func(x_matrix(x, 3), y)\n",
    "\n",
    "# Plot the points.\n",
    "plt.plot(x, y, 'bo') \n",
    "\n",
    "# Plot the line in green.\n",
    "plt.plot(x, y_func2(x, a1), 'r-', label='k = 1')\n",
    "plt.plot(x, y_func2(x, a2), 'y-', label='k = 2')\n",
    "plt.plot(x, y_func2(x, a3), 'g-', label='k = 3')\n",
    "\n",
    "# Display the plot.\n",
    "plt.legend(loc='upper left')\n",
    "plt.title('Best Fit Line')\n",
    "plt.xlabel('x')\n",
    "plt.ylabel('y')\n",
    "plt.show()"
   ]
  },
  {
   "cell_type": "markdown",
   "metadata": {},
   "source": [
    "The $k = 3$ line (green) is clearly the best fit.\n",
    " \n",
    "## Regularisation\n",
    "\n",
    "---\n",
    "\n",
    "In the previous section we saw two examples where the data could be fit very nicely by a straight or polynomial line. It is, however, possible to *overfit* the data."
   ]
  },
  {
   "cell_type": "code",
   "execution_count": 282,
   "metadata": {
    "collapsed": false
   },
   "outputs": [
    {
     "name": "stdout",
     "output_type": "stream",
     "text": [
      "Least squares residual = 2.78705814312\n"
     ]
    },
    {
     "data": {
      "image/png": "[encoded data removed]",
      "text/plain": [
       "<matplotlib.figure.Figure at 0x10b07bb90>"
      ]
     },
     "metadata": {},
     "output_type": "display_data"
    }
   ],
   "source": [
    "x1 = np.arange(14)\n",
    "y1 = np.array([4, 5, 4, 5, 4, 5, 4, 5, 4, 5, 4, 5, 4, 5])\n",
    "\n",
    "# Define the matrix X\n",
    "X = x_matrix(x1, 7)\n",
    "\n",
    "# Find the values of the coefficients a.\n",
    "a = a_func(X, y1)\n",
    "\n",
    "# Print the residual.\n",
    "print 'Least squares residual =', ls_res(y1, y_func2(x1, a))\n",
    "\n",
    "# Set the plot range from 0 to 15 in both axes.\n",
    "plt.xlim(0, 15)\n",
    "plt.ylim(0, 9)\n",
    "\n",
    "# Plot the points.\n",
    "plt.plot(x1, y1, 'bo') \n",
    "\n",
    "# Plot the line in green.\n",
    "plt.plot(x1, y_func2(x1, a), 'g-')\n",
    "\n",
    "# Display the plot.\n",
    "plt.title('Best Fit Line')\n",
    "plt.xlabel('x')\n",
    "plt.ylabel('y')\n",
    "plt.show()"
   ]
  },
  {
   "cell_type": "markdown",
   "metadata": {},
   "source": [
    "To avoid overfitting we can add an additional constraint to our minimisation problem as follows:\n",
    "\n",
    "$$\\underset{x}{min} \\ \\|y - Xa\\|_2^2 + \\lambda \\|a\\|_2^2$$\n",
    "\n",
    "where $\\lambda$ is the regularisation coefficient. This problem can also be solved analytically as follows:\n",
    "\n",
    "$$a = (X^TX + \\lambda I_n)^{-1}X^Ty$$\n",
    "\n",
    "where $I_n$ is the identity matrix. Now we can write a new function in Python to obtain the values of the coeffcients $a$ as follows:\n"
   ]
  },
  {
   "cell_type": "code",
   "execution_count": 261,
   "metadata": {
    "collapsed": true
   },
   "outputs": [],
   "source": [
    "# Define function to calculate a from X and y.\n",
    "# This function calculates the vector a from the input matrix X and vector y.\n",
    "def a_func2(X, y, lamb):\n",
    "    \n",
    "    return np.dot(np.dot(np.linalg.inv(np.dot(X.T, X) + lamb * np.eye(X.shape[1])), X.T), y)"
   ]
  },
  {
   "cell_type": "code",
   "execution_count": 271,
   "metadata": {
    "collapsed": false
   },
   "outputs": [
    {
     "name": "stdout",
     "output_type": "stream",
     "text": [
      "(8, 8)\n",
      "Least squares residual = 3.00591104168\n"
     ]
    },
    {
     "data": {
      "image/png": "[encoded data removed]",
      "text/plain": [
       "<matplotlib.figure.Figure at 0x10b08ccd0>"
      ]
     },
     "metadata": {},
     "output_type": "display_data"
    }
   ],
   "source": [
    "# Define the matrix X\n",
    "X = x_matrix(x1, 7)\n",
    "\n",
    "print np.dot(X.T, X).shape\n",
    "\n",
    "# Find the values of the coefficients a.\n",
    "a = a_func2(X, y1, 0.07)\n",
    "\n",
    "# Print the residual.\n",
    "print 'Least squares residual =', ls_res(y1, y_func2(x1, a))\n",
    "\n",
    "# Set the plot range from 0 to 15 in both axes.\n",
    "plt.xlim(0, 15)\n",
    "plt.ylim(0, 8)\n",
    "\n",
    "# Plot the points.\n",
    "plt.plot(x1, y1, 'bo') \n",
    "\n",
    "# Plot the line in green.\n",
    "plt.plot(x1, y_func2(x1, a), 'g-')\n",
    "\n",
    "# Display the plot.\n",
    "plt.title('Best Fit Line')\n",
    "plt.xlabel('x')\n",
    "plt.ylabel('y')\n",
    "plt.show()"
   ]
  },
  {
   "cell_type": "markdown",
   "metadata": {},
   "source": [
    "## Best Fit Derivation\n",
    "\n",
    "---\n",
    "\n",
    "Now we can go back and derive the equations provided [earlier](#Best-Fit) to determine the best fit slope and intercept of a straight line. \n",
    "\n",
    "The condition for the least square residual ($R$) to be at a minimum is:\n",
    "\n",
    "$$\\frac{\\partial R}{\\partial a_i} = 0$$\n",
    "\n",
    "So, for example, a straight line ($y = a_0 + a_1x$) will have the following residual:\n",
    "\n",
    "$$R = \\sum_{i=1}^{n}[y_i - (a_0 + a_1x_i)]^2$$\n",
    "\n",
    "and hence the following partial derivatives:\n",
    "\n",
    "$$\\frac{\\partial R}{\\partial a_0} = -2\\sum_{i=1}^{n}[y_i - (a_0 + a_1x_i)] = 0$$\n",
    "\n",
    "$$\\frac{\\partial R}{\\partial a_1} = -2\\sum_{i=1}^{n}[y_i - (a_0 + a_1x_i)]x_i = 0$$\n",
    "\n",
    "which lead to the following equations:\n",
    "\n",
    "$$\\sum_{i=1}^{n}y_i = na_0 + a_1\\sum_{i=1}^{n}x_i$$\n",
    "\n",
    "$$\\sum_{i=1}^{n}x_iy_i = a_0\\sum_{i=1}^{n}x_i + a_1\\sum_{i=1}^{n}x_i^2$$\n",
    "\n",
    "which can be expressed in matrix form as:\n",
    "\n",
    "$$\\Bigg[\\begin{array}{c} \\sum_{i=1}^{n}y_i \\\\ \\sum_{i=1}^{n}x_iy_i \\\\ \\end{array} \\Bigg] = \\Bigg[\\begin{array}{cc} n & \\sum_{i=1}^{n}x_i \\\\ \\sum_{i=1}^{n}x_i & \\sum_{i=1}^{n}x_i^2 \\\\ \\end{array} \\Bigg]$$\n",
    "\n",
    "and thus solving this [analytically](#Matrix-Notation) we get the expected expressions:\n",
    "\n",
    "$$a_1 = \\frac{\\sum_{i=1}^{n}(x_i - \\bar{X})(y_i - \\bar{Y})}{\\sum_{i=1}^{n}(x_i - \\bar{X})^2}$$\n",
    "\n",
    "$$a_0 = \\bar{Y} - m\\bar{X}$$"
   ]
  },
  {
   "cell_type": "code",
   "execution_count": null,
   "metadata": {
    "collapsed": true
   },
   "outputs": [],
   "source": []
  }
 ],
 "metadata": {
  "kernelspec": {
   "display_name": "Python 2",
   "language": "python",
   "name": "python2"
  },
  "language_info": {
   "codemirror_mode": {
    "name": "ipython",
    "version": 2
   },
   "file_extension": ".py",
   "mimetype": "text/x-python",
   "name": "python",
   "nbconvert_exporter": "python",
   "pygments_lexer": "ipython2",
   "version": "2.7.11"
  }
 },
 "nbformat": 4,
 "nbformat_minor": 0
}
